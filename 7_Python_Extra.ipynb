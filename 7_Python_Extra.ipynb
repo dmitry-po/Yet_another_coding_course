{
 "cells": [
  {
   "cell_type": "markdown",
   "metadata": {},
   "source": [
    "# Основы программирования на Python"
   ]
  },
  {
   "cell_type": "markdown",
   "metadata": {},
   "source": [
    "## Часть 7: Прочие радости"
   ]
  },
  {
   "cell_type": "markdown",
   "metadata": {},
   "source": [
    "### Ошибки и исключения"
   ]
  },
  {
   "cell_type": "markdown",
   "metadata": {},
   "source": [
    "Ошибки в Python делятся на 2 вида:\n",
    "1. Синтаксические ошибки - проверяются до исполнения кода;\n",
    "2. Исключения - выявляются в процессе исполнения;"
   ]
  },
  {
   "cell_type": "code",
   "execution_count": 9,
   "metadata": {},
   "outputs": [
    {
     "ename": "SyntaxError",
     "evalue": "invalid syntax (<ipython-input-9-e874c3e6e148>, line 2)",
     "output_type": "error",
     "traceback": [
      "\u001b[1;36m  File \u001b[1;32m\"<ipython-input-9-e874c3e6e148>\"\u001b[1;36m, line \u001b[1;32m2\u001b[0m\n\u001b[1;33m    .print('text')\u001b[0m\n\u001b[1;37m    ^\u001b[0m\n\u001b[1;31mSyntaxError\u001b[0m\u001b[1;31m:\u001b[0m invalid syntax\n"
     ]
    }
   ],
   "source": [
    "# Синтаксическая ошибка\n",
    ".print('text')"
   ]
  },
  {
   "cell_type": "code",
   "execution_count": 10,
   "metadata": {},
   "outputs": [
    {
     "ename": "TypeError",
     "evalue": "sum expected at most 2 arguments, got 3",
     "output_type": "error",
     "traceback": [
      "\u001b[1;31m---------------------------------------------------------------------------\u001b[0m",
      "\u001b[1;31mTypeError\u001b[0m                                 Traceback (most recent call last)",
      "\u001b[1;32m<ipython-input-10-7cc78f0ff7a2>\u001b[0m in \u001b[0;36m<module>\u001b[1;34m\u001b[0m\n\u001b[0;32m      1\u001b[0m \u001b[1;31m# Исключение\u001b[0m\u001b[1;33m\u001b[0m\u001b[1;33m\u001b[0m\u001b[1;33m\u001b[0m\u001b[0m\n\u001b[1;32m----> 2\u001b[1;33m \u001b[0msum\u001b[0m\u001b[1;33m(\u001b[0m\u001b[1;36m2\u001b[0m\u001b[1;33m,\u001b[0m\u001b[1;36m3\u001b[0m\u001b[1;33m,\u001b[0m\u001b[1;36m4\u001b[0m\u001b[1;33m)\u001b[0m\u001b[1;33m\u001b[0m\u001b[1;33m\u001b[0m\u001b[0m\n\u001b[0m",
      "\u001b[1;31mTypeError\u001b[0m: sum expected at most 2 arguments, got 3"
     ]
    }
   ],
   "source": [
    "# Исключение\n",
    "sum(2,3,4)"
   ]
  },
  {
   "cell_type": "markdown",
   "metadata": {},
   "source": [
    "Ошибка также обладает 3 свойствами:\n",
    "1. У ошибки есть тип (SyntaxError, TypeError);\n",
    "2. У ошибки есть сообщение (invalid syntax, sum expected at most 2 arguments, got 3);\n",
    "3. Ошибка отображает стэк вызовов, повлекших её возникновение."
   ]
  },
  {
   "cell_type": "markdown",
   "metadata": {},
   "source": [
    "#### Обработка исключений"
   ]
  },
  {
   "cell_type": "markdown",
   "metadata": {},
   "source": [
    "Так как синтаксические ошибки проверяются до исполнения кода, обработки подвергаются только исключения:"
   ]
  },
  {
   "cell_type": "code",
   "execution_count": 38,
   "metadata": {},
   "outputs": [
    {
     "ename": "SyntaxError",
     "evalue": "invalid syntax (<ipython-input-38-4510ec3b252a>, line 2)",
     "output_type": "error",
     "traceback": [
      "\u001b[1;36m  File \u001b[1;32m\"<ipython-input-38-4510ec3b252a>\"\u001b[1;36m, line \u001b[1;32m2\u001b[0m\n\u001b[1;33m    .print(1)\u001b[0m\n\u001b[1;37m    ^\u001b[0m\n\u001b[1;31mSyntaxError\u001b[0m\u001b[1;31m:\u001b[0m invalid syntax\n"
     ]
    }
   ],
   "source": [
    "try:\n",
    "    .print(1)\n",
    "except Error as e:\n",
    "    print(9)"
   ]
  },
  {
   "cell_type": "markdown",
   "metadata": {},
   "source": [
    "Для обработки исключений используется конструкция try-except. При этом следует помнить, что:\n",
    " - Тип ожидаемой ошибки задается после except;\n",
    " - Типов ошибок может быть несколько, в таком случае они перечисляются через запятую (как кортеж);\n",
    " - Python поддерживает иерархию типов ошибок: если в блоке except уже указан родитель, то не обязательно указывать ещё и наследника;\n",
    " - А можно совсем не указывать тип ожидаемой ошибки, тогда отлавливаться будут все исключения."
   ]
  },
  {
   "cell_type": "code",
   "execution_count": 39,
   "metadata": {},
   "outputs": [],
   "source": [
    "def foo():\n",
    "    try:\n",
    "        print(a/b)\n",
    "    except:\n",
    "        print('Возникла ошибка')"
   ]
  },
  {
   "cell_type": "code",
   "execution_count": 40,
   "metadata": {},
   "outputs": [
    {
     "name": "stdout",
     "output_type": "stream",
     "text": [
      "Возникла ошибка\n"
     ]
    }
   ],
   "source": [
    "foo()"
   ]
  },
  {
   "cell_type": "markdown",
   "metadata": {},
   "source": [
    "Не самое информативное сообщение об ошибке: то ли c a что-то не так, то ли возникла ошибка деления на 0. Дополним пример:"
   ]
  },
  {
   "cell_type": "code",
   "execution_count": 45,
   "metadata": {},
   "outputs": [],
   "source": [
    "def foo():\n",
    "    try:\n",
    "        print(a/b)\n",
    "    except Exception as e:\n",
    "        print('Возникла ошибка')\n",
    "        print(type(e), e)"
   ]
  },
  {
   "cell_type": "code",
   "execution_count": 49,
   "metadata": {},
   "outputs": [
    {
     "name": "stdout",
     "output_type": "stream",
     "text": [
      "Возникла ошибка\n",
      "<class 'NameError'> name 'a' is not defined\n"
     ]
    }
   ],
   "source": [
    "foo()"
   ]
  },
  {
   "cell_type": "markdown",
   "metadata": {},
   "source": [
    "Уже лучше. Добавим обработку таких случаев:"
   ]
  },
  {
   "cell_type": "code",
   "execution_count": 50,
   "metadata": {},
   "outputs": [],
   "source": [
    "def foo():\n",
    "    try:\n",
    "        print(a/b)\n",
    "    except NameError as e:\n",
    "        print('Не указана переменная: '+ str(e))\n",
    "    except Exception as e:\n",
    "        print('Возникла ошибка')\n",
    "        print(e)"
   ]
  },
  {
   "cell_type": "code",
   "execution_count": 51,
   "metadata": {},
   "outputs": [
    {
     "name": "stdout",
     "output_type": "stream",
     "text": [
      "Не указана переменная: name 'a' is not defined\n"
     ]
    }
   ],
   "source": [
    "foo()"
   ]
  },
  {
   "cell_type": "code",
   "execution_count": 55,
   "metadata": {},
   "outputs": [],
   "source": [
    "def foo(a=1, b=20):\n",
    "    try:\n",
    "        print(a/b)\n",
    "    except NameError as e:\n",
    "        print('Не указана переменная: '+ str(e))\n",
    "    except Exception as e:\n",
    "        print('Возникла ошибка')\n",
    "        print(type(e), e)"
   ]
  },
  {
   "cell_type": "code",
   "execution_count": 56,
   "metadata": {},
   "outputs": [
    {
     "name": "stdout",
     "output_type": "stream",
     "text": [
      "0.05\n"
     ]
    }
   ],
   "source": [
    "foo()"
   ]
  },
  {
   "cell_type": "markdown",
   "metadata": {},
   "source": [
    "Отлично. Было, до тех пор, пока что-то не решил поделить на 0:"
   ]
  },
  {
   "cell_type": "code",
   "execution_count": 57,
   "metadata": {},
   "outputs": [
    {
     "name": "stdout",
     "output_type": "stream",
     "text": [
      "Возникла ошибка\n",
      "<class 'ZeroDivisionError'> division by zero\n"
     ]
    }
   ],
   "source": [
    "foo(100,0)"
   ]
  },
  {
   "cell_type": "markdown",
   "metadata": {},
   "source": [
    "Исправим и это:"
   ]
  },
  {
   "cell_type": "code",
   "execution_count": 74,
   "metadata": {},
   "outputs": [],
   "source": [
    "def foo(a=1, b=20):\n",
    "    try:\n",
    "        print(a/b)\n",
    "    except NameError as e:\n",
    "        print('Не указана переменная: '+ str(e))\n",
    "    except ZeroDivisionError:\n",
    "        print('Возникла ошибка деления на 0')\n",
    "    except Exception as e:\n",
    "        print('Возникла ошибка')\n",
    "        print(type(e), e)"
   ]
  },
  {
   "cell_type": "code",
   "execution_count": 75,
   "metadata": {},
   "outputs": [
    {
     "name": "stdout",
     "output_type": "stream",
     "text": [
      "Возникла ошибка деления на 0\n"
     ]
    }
   ],
   "source": [
    "foo(100,0)"
   ]
  },
  {
   "cell_type": "markdown",
   "metadata": {},
   "source": [
    "Можем пойти ещё дальше, и заменить ZeroDivisionError на ArithmeticError, так как этот тип является родительским."
   ]
  },
  {
   "cell_type": "code",
   "execution_count": 64,
   "metadata": {},
   "outputs": [],
   "source": [
    "def foo(a=1, b=20):\n",
    "    try:\n",
    "        print(a/b)\n",
    "    except NameError as e:\n",
    "        print('Не указана переменная: '+ str(e))\n",
    "    except ArithmeticError:\n",
    "        print('Возникла ошибка деления')\n",
    "    except Exception as e:\n",
    "        print('Возникла ошибка')\n",
    "        print(type(e), e)"
   ]
  },
  {
   "cell_type": "code",
   "execution_count": 65,
   "metadata": {},
   "outputs": [
    {
     "name": "stdout",
     "output_type": "stream",
     "text": [
      "Возникла ошибка деления\n"
     ]
    }
   ],
   "source": [
    "foo(100,0)"
   ]
  },
  {
   "cell_type": "markdown",
   "metadata": {},
   "source": [
    "Конструкцию try-except можно дополнить дополнительными инструкциями else и finally:"
   ]
  },
  {
   "cell_type": "code",
   "execution_count": 80,
   "metadata": {},
   "outputs": [],
   "source": [
    "def foo(a=1, b=20):\n",
    "    try:\n",
    "        print(a/b)\n",
    "    except NameError as e:\n",
    "        print('Не указана переменная: '+ str(e))\n",
    "    except ArithmeticError:\n",
    "        print('Возникла ошибка деления')\n",
    "    except Exception as e:\n",
    "        print('Возникла ошибка')\n",
    "        print(type(e), e)\n",
    "    else:\n",
    "        print('Все прошло гладко')\n",
    "    finally:\n",
    "        print('наконец-то это все закончилось')"
   ]
  },
  {
   "cell_type": "code",
   "execution_count": 81,
   "metadata": {},
   "outputs": [
    {
     "name": "stdout",
     "output_type": "stream",
     "text": [
      "0.05\n",
      "Все прошло гладко\n",
      "наконец-то это все закончилось\n"
     ]
    }
   ],
   "source": [
    "# else описывает ситуацию, когда никаких исключений не возникло:\n",
    "foo()"
   ]
  },
  {
   "cell_type": "code",
   "execution_count": 82,
   "metadata": {},
   "outputs": [
    {
     "name": "stdout",
     "output_type": "stream",
     "text": [
      "Возникла ошибка деления\n",
      "наконец-то это все закончилось\n"
     ]
    }
   ],
   "source": [
    "# finally - срабатывает в любом случае:\n",
    "foo(100,0)"
   ]
  },
  {
   "cell_type": "markdown",
   "metadata": {},
   "source": [
    "---"
   ]
  },
  {
   "cell_type": "markdown",
   "metadata": {},
   "source": [
    "### Фильтры"
   ]
  },
  {
   "cell_type": "markdown",
   "metadata": {},
   "source": [
    "Иногда возникает жгучая необходимость отфильтровать значения одного списка на основании какого-то признака. Например, выбрать все положительные числа:"
   ]
  },
  {
   "cell_type": "code",
   "execution_count": 289,
   "metadata": {},
   "outputs": [],
   "source": [
    "l = [1,2,3, -4, 8]"
   ]
  },
  {
   "cell_type": "code",
   "execution_count": 290,
   "metadata": {},
   "outputs": [
    {
     "data": {
      "text/plain": [
       "[1, 2, 3, 8]"
      ]
     },
     "execution_count": 290,
     "metadata": {},
     "output_type": "execute_result"
    }
   ],
   "source": [
    "[x for x in l if x>0]"
   ]
  },
  {
   "cell_type": "markdown",
   "metadata": {},
   "source": [
    "Или даже сделать лучше:"
   ]
  },
  {
   "cell_type": "code",
   "execution_count": 294,
   "metadata": {},
   "outputs": [
    {
     "data": {
      "text/plain": [
       "[1, 2, 3, 8]"
      ]
     },
     "execution_count": 294,
     "metadata": {},
     "output_type": "execute_result"
    }
   ],
   "source": [
    "def is_positive(x):\n",
    "    return x>0\n",
    "\n",
    "[x for x in l if is_positive(x)]"
   ]
  },
  {
   "cell_type": "markdown",
   "metadata": {},
   "source": [
    "Вариант через цикл кажется в данном случае наиболее уместным, однако, как мы помним, циклы - не самый быстрый способ обработки данных. Для таких целей есть более удобные функции - Фильтры.\n",
    "\n",
    "Фильтра - это класс, который позволяет создавать объекты для фильтрации списков. Конструктор принимает на вход 2 переменные: функцию проверки и список для проверки. На выходе получается список, все элементы которого прошли проверку (для которых функцию вернула значение True):"
   ]
  },
  {
   "cell_type": "code",
   "execution_count": 295,
   "metadata": {},
   "outputs": [
    {
     "data": {
      "text/plain": [
       "[1, 2, 3, 8]"
      ]
     },
     "execution_count": 295,
     "metadata": {},
     "output_type": "execute_result"
    }
   ],
   "source": [
    "list(filter(is_positive, [1,2,3, -4, 8]))"
   ]
  },
  {
   "cell_type": "markdown",
   "metadata": {},
   "source": [
    "Для простых случаев удобно использовать анонимную функцию lambda совместно с фильтром:"
   ]
  },
  {
   "cell_type": "code",
   "execution_count": 296,
   "metadata": {},
   "outputs": [
    {
     "data": {
      "text/plain": [
       "[1, 2, 3, 8]"
      ]
     },
     "execution_count": 296,
     "metadata": {},
     "output_type": "execute_result"
    }
   ],
   "source": [
    "list(filter(lambda x: x>0, [1,2,3, -4, 8]))"
   ]
  },
  {
   "cell_type": "markdown",
   "metadata": {},
   "source": [
    "Чтобы не быть голословным, проверим столь дерзкое заявление про скорость работы:"
   ]
  },
  {
   "cell_type": "code",
   "execution_count": 297,
   "metadata": {},
   "outputs": [],
   "source": [
    "l=[-1,1]*10000"
   ]
  },
  {
   "cell_type": "code",
   "execution_count": 302,
   "metadata": {},
   "outputs": [
    {
     "name": "stdout",
     "output_type": "stream",
     "text": [
      "1.71 ms ± 30.2 µs per loop (mean ± std. dev. of 7 runs, 1000 loops each)\n"
     ]
    }
   ],
   "source": [
    "%%timeit\n",
    "[x for x in l if is_positive(x)]"
   ]
  },
  {
   "cell_type": "code",
   "execution_count": 303,
   "metadata": {},
   "outputs": [
    {
     "name": "stdout",
     "output_type": "stream",
     "text": [
      "745 ns ± 31.7 ns per loop (mean ± std. dev. of 7 runs, 1000000 loops each)\n"
     ]
    }
   ],
   "source": [
    "%%timeit\n",
    "list(filter(is_positive, [1,2,3, -4, 8]))"
   ]
  },
  {
   "cell_type": "code",
   "execution_count": 304,
   "metadata": {},
   "outputs": [
    {
     "name": "stdout",
     "output_type": "stream",
     "text": [
      "830 ns ± 5 ns per loop (mean ± std. dev. of 7 runs, 1000000 loops each)\n"
     ]
    }
   ],
   "source": [
    "%%timeit\n",
    "list(filter(lambda x: x>0, [1,2,3, -4, 8]))"
   ]
  },
  {
   "cell_type": "markdown",
   "metadata": {},
   "source": [
    "---"
   ]
  },
  {
   "cell_type": "markdown",
   "metadata": {},
   "source": [
    "### Map"
   ]
  },
  {
   "cell_type": "markdown",
   "metadata": {},
   "source": [
    "Аналогично функции filter, специализированные средства есть и для выполнения операций над всеми элементами списка:"
   ]
  },
  {
   "cell_type": "markdown",
   "metadata": {},
   "source": [
    "Функция map выполняет заданную функцию для каждого элемента списка. В отличие от filter, на выходе получается такое же количество элементов, на и на входе:"
   ]
  },
  {
   "cell_type": "code",
   "execution_count": 310,
   "metadata": {},
   "outputs": [],
   "source": [
    "l = list(range(1,10))"
   ]
  },
  {
   "cell_type": "code",
   "execution_count": 311,
   "metadata": {},
   "outputs": [],
   "source": [
    "def square(x):\n",
    "    return x**2"
   ]
  },
  {
   "cell_type": "code",
   "execution_count": 314,
   "metadata": {},
   "outputs": [
    {
     "name": "stdout",
     "output_type": "stream",
     "text": [
      "[1, 4, 9, 16, 25, 36, 49, 64, 81]\n"
     ]
    }
   ],
   "source": [
    "ls = []\n",
    "for i in l:\n",
    "    ls.append(square(i))\n",
    "print(ls)"
   ]
  },
  {
   "cell_type": "code",
   "execution_count": 315,
   "metadata": {},
   "outputs": [
    {
     "name": "stdout",
     "output_type": "stream",
     "text": [
      "[1, 4, 9, 16, 25, 36, 49, 64, 81]\n"
     ]
    }
   ],
   "source": [
    "# или\n",
    "ls = [square(x) for x in l]\n",
    "print(ls)"
   ]
  },
  {
   "cell_type": "markdown",
   "metadata": {},
   "source": [
    "Эту же функцию можно записать с помощью map:"
   ]
  },
  {
   "cell_type": "code",
   "execution_count": 316,
   "metadata": {},
   "outputs": [
    {
     "name": "stdout",
     "output_type": "stream",
     "text": [
      "[1, 4, 9, 16, 25, 36, 49, 64, 81]\n"
     ]
    }
   ],
   "source": [
    "ls = list(map(square, l))\n",
    "print(ls)"
   ]
  },
  {
   "cell_type": "markdown",
   "metadata": {},
   "source": [
    "Или с помощью lambda:"
   ]
  },
  {
   "cell_type": "code",
   "execution_count": 317,
   "metadata": {},
   "outputs": [
    {
     "name": "stdout",
     "output_type": "stream",
     "text": [
      "[1, 4, 9, 16, 25, 36, 49, 64, 81]\n"
     ]
    }
   ],
   "source": [
    "ls = list(map(lambda x: x**2, l))\n",
    "print(ls)"
   ]
  },
  {
   "cell_type": "markdown",
   "metadata": {},
   "source": [
    "---"
   ]
  },
  {
   "cell_type": "markdown",
   "metadata": {},
   "source": [
    "### Задание 1."
   ]
  },
  {
   "cell_type": "markdown",
   "metadata": {},
   "source": [
    "Реализовать функцию, которая будет отбирать из исходного списка только простые числа."
   ]
  },
  {
   "cell_type": "markdown",
   "metadata": {},
   "source": [
    "*Подсказка*: один из простейших способов проверки числа на простоту - перебор делителей: от 2 до квадратного корня проверяемого числа (https://ru.wikipedia.org/wiki/%D0%9F%D0%B5%D1%80%D0%B5%D0%B1%D0%BE%D1%80_%D0%B4%D0%B5%D0%BB%D0%B8%D1%82%D0%B5%D0%BB%D0%B5%D0%B9). \n",
    "Возможные ускорения: \n",
    "1. Убрать все делители, кратные 2 и 3;\n",
    "2. Использовать только простые числа в делителях."
   ]
  },
  {
   "cell_type": "code",
   "execution_count": 156,
   "metadata": {},
   "outputs": [],
   "source": [
    "def is_simple(x):\n",
    "    delim = int(x**.5)\n",
    "    is_simple = True\n",
    "    for i in range(2, delim+1):\n",
    "        if x % i ==0:\n",
    "            is_simple = False\n",
    "            break\n",
    "    return is_simple"
   ]
  },
  {
   "cell_type": "code",
   "execution_count": 157,
   "metadata": {},
   "outputs": [
    {
     "data": {
      "text/plain": [
       "[1, 2, 3, 5, 7, 11, 13, 17, 19, 23, 29, 31]"
      ]
     },
     "execution_count": 157,
     "metadata": {},
     "output_type": "execute_result"
    }
   ],
   "source": [
    "list(filter(is_simple, list(range(1, 33))))"
   ]
  },
  {
   "cell_type": "markdown",
   "metadata": {},
   "source": [
    "### Задание 1.2."
   ]
  },
  {
   "cell_type": "markdown",
   "metadata": {},
   "source": [
    "Если функцию из предыдущего задания получит на вход отрицательное значение, строку или что-то ещё, выполнение завершится ошибкой:"
   ]
  },
  {
   "cell_type": "code",
   "execution_count": 158,
   "metadata": {},
   "outputs": [
    {
     "ename": "TypeError",
     "evalue": "can't convert complex to int",
     "output_type": "error",
     "traceback": [
      "\u001b[1;31m---------------------------------------------------------------------------\u001b[0m",
      "\u001b[1;31mTypeError\u001b[0m                                 Traceback (most recent call last)",
      "\u001b[1;32m<ipython-input-158-113d346f9cf9>\u001b[0m in \u001b[0;36m<module>\u001b[1;34m\u001b[0m\n\u001b[1;32m----> 1\u001b[1;33m \u001b[0mlist\u001b[0m\u001b[1;33m(\u001b[0m\u001b[0mfilter\u001b[0m\u001b[1;33m(\u001b[0m\u001b[0mis_simple\u001b[0m\u001b[1;33m,\u001b[0m \u001b[1;33m[\u001b[0m\u001b[1;36m3\u001b[0m\u001b[1;33m,\u001b[0m \u001b[1;36m4\u001b[0m\u001b[1;33m,\u001b[0m \u001b[1;36m5\u001b[0m\u001b[1;33m,\u001b[0m \u001b[1;36m6\u001b[0m\u001b[1;33m,\u001b[0m \u001b[1;33m-\u001b[0m\u001b[1;36m9\u001b[0m\u001b[1;33m,\u001b[0m \u001b[1;34m'стол'\u001b[0m\u001b[1;33m,\u001b[0m \u001b[1;36m11.2\u001b[0m\u001b[1;33m]\u001b[0m\u001b[1;33m)\u001b[0m\u001b[1;33m)\u001b[0m\u001b[1;33m\u001b[0m\u001b[1;33m\u001b[0m\u001b[0m\n\u001b[0m",
      "\u001b[1;32m<ipython-input-156-62454a5ad97f>\u001b[0m in \u001b[0;36mis_simple\u001b[1;34m(x)\u001b[0m\n\u001b[0;32m      1\u001b[0m \u001b[1;32mdef\u001b[0m \u001b[0mis_simple\u001b[0m\u001b[1;33m(\u001b[0m\u001b[0mx\u001b[0m\u001b[1;33m)\u001b[0m\u001b[1;33m:\u001b[0m\u001b[1;33m\u001b[0m\u001b[1;33m\u001b[0m\u001b[0m\n\u001b[1;32m----> 2\u001b[1;33m     \u001b[0mdelim\u001b[0m \u001b[1;33m=\u001b[0m \u001b[0mint\u001b[0m\u001b[1;33m(\u001b[0m\u001b[0mx\u001b[0m\u001b[1;33m**\u001b[0m\u001b[1;36m.5\u001b[0m\u001b[1;33m)\u001b[0m\u001b[1;33m\u001b[0m\u001b[1;33m\u001b[0m\u001b[0m\n\u001b[0m\u001b[0;32m      3\u001b[0m     \u001b[0mis_simple\u001b[0m \u001b[1;33m=\u001b[0m \u001b[1;32mTrue\u001b[0m\u001b[1;33m\u001b[0m\u001b[1;33m\u001b[0m\u001b[0m\n\u001b[0;32m      4\u001b[0m     \u001b[1;32mfor\u001b[0m \u001b[0mi\u001b[0m \u001b[1;32min\u001b[0m \u001b[0mrange\u001b[0m\u001b[1;33m(\u001b[0m\u001b[1;36m2\u001b[0m\u001b[1;33m,\u001b[0m \u001b[0mdelim\u001b[0m\u001b[1;33m+\u001b[0m\u001b[1;36m1\u001b[0m\u001b[1;33m)\u001b[0m\u001b[1;33m:\u001b[0m\u001b[1;33m\u001b[0m\u001b[1;33m\u001b[0m\u001b[0m\n\u001b[0;32m      5\u001b[0m         \u001b[1;32mif\u001b[0m \u001b[0mx\u001b[0m \u001b[1;33m%\u001b[0m \u001b[0mi\u001b[0m \u001b[1;33m==\u001b[0m\u001b[1;36m0\u001b[0m\u001b[1;33m:\u001b[0m\u001b[1;33m\u001b[0m\u001b[1;33m\u001b[0m\u001b[0m\n",
      "\u001b[1;31mTypeError\u001b[0m: can't convert complex to int"
     ]
    }
   ],
   "source": [
    "list(filter(is_simple, [3, 4, 5, 6, -9, 'стол', 11.2]))"
   ]
  },
  {
   "cell_type": "markdown",
   "metadata": {},
   "source": [
    "Исправим эту ситуацию, сделав 2 доработки:\n",
    "1. В функцию проверки числа на простоту добавить обработку исключений для неправильных типов;\n",
    "2. Написать свой собственный функционал new_filter, который будет на вход принимать не одну функцию проверки, а список и последовательно прогонять через него проверяемый список.\n",
    "\n",
    "\n",
    "Для оценки результатов новой функции запустим новый фильтр с двумя функциям - проверка, что число целое, и проверка на простоту."
   ]
  },
  {
   "cell_type": "code",
   "execution_count": 1,
   "metadata": {},
   "outputs": [],
   "source": [
    "def is_simple(x):\n",
    "    is_simple = True \n",
    "    try:\n",
    "        delim = int(x**.5)\n",
    "        for i in range(2, delim+1):\n",
    "            if x % i ==0:\n",
    "                is_simple = False\n",
    "                break\n",
    "    except TypeError:\n",
    "        is_simple = False\n",
    "    return is_simple"
   ]
  },
  {
   "cell_type": "code",
   "execution_count": 2,
   "metadata": {},
   "outputs": [],
   "source": [
    "def is_int(x):\n",
    "    return type(x) == int"
   ]
  },
  {
   "cell_type": "code",
   "execution_count": 160,
   "metadata": {},
   "outputs": [],
   "source": [
    "def new_filter(funcs, l):\n",
    "    ret = l\n",
    "    for i in funcs:\n",
    "        ret = list(filter(i, ret))\n",
    "    return ret"
   ]
  },
  {
   "cell_type": "code",
   "execution_count": 163,
   "metadata": {},
   "outputs": [
    {
     "data": {
      "text/plain": [
       "[3, 5]"
      ]
     },
     "execution_count": 163,
     "metadata": {},
     "output_type": "execute_result"
    }
   ],
   "source": [
    "list(new_filter([is_int, is_simple], [3, 4, 5, 6, -9, 'стол', 11.2]))"
   ]
  },
  {
   "cell_type": "markdown",
   "metadata": {},
   "source": [
    "### Задание 1.3."
   ]
  },
  {
   "cell_type": "markdown",
   "metadata": {},
   "source": [
    "Добавить в функцию ещё один параметр \"Порядок фильтрации\" с двумя возможными значениями: последовательно ('l'), совместно ('u'). При последовательном выполнении фильтры из представленного списка функций выполняются последовательно (как в задании выше, пусть это будет значение по умолчанию). При совместном исполнении итоговый результат определяется большинством голосов: если для какого-то элемента 2 функции вернули True, а одна False - возвращать элемент. При равном количестве голосов (True и False), склоняться в сторону True."
   ]
  },
  {
   "cell_type": "code",
   "execution_count": 111,
   "metadata": {},
   "outputs": [],
   "source": [
    "l = [3, 4, 5, 6, -9, 'стол', 11.2, [2,3]]\n",
    "funcs = [is_int, is_simple]"
   ]
  },
  {
   "cell_type": "code",
   "execution_count": 119,
   "metadata": {},
   "outputs": [],
   "source": [
    "def new_func_linear(funcs, l):\n",
    "    ret = l\n",
    "    for i in funcs:\n",
    "        ret = list(filter(i, ret))\n",
    "    return ret\n",
    "\n",
    "def new_func_union(funcs, l):\n",
    "    d = [0]*len(l)\n",
    "    for i in funcs:\n",
    "        l2 = list(map(i, l))\n",
    "        d = list(map(lambda x, y: x+y, l2, d))\n",
    "    d = list(map(lambda x: int(x/len(funcs)+0.5), d))\n",
    "    ret = [l[i] for i in range(len(l)) if d[i] == 1]\n",
    "    return ret\n",
    "\n",
    "def new_filter(funcs, l, action_type):\n",
    "    d = {'l':new_func_linear, \n",
    "         'u':new_func_union}\n",
    "    ret = d.get(action_type, lambda *args: print('Порядок фильтрации указан неверно'))(funcs, l)\n",
    "    return ret"
   ]
  },
  {
   "cell_type": "code",
   "execution_count": 124,
   "metadata": {},
   "outputs": [
    {
     "data": {
      "text/plain": [
       "[3, 5]"
      ]
     },
     "execution_count": 124,
     "metadata": {},
     "output_type": "execute_result"
    }
   ],
   "source": [
    "new_filter(funcs, l, 'l')"
   ]
  },
  {
   "cell_type": "code",
   "execution_count": 125,
   "metadata": {},
   "outputs": [
    {
     "data": {
      "text/plain": [
       "[3, 4, 5, 6, -9, 11.2]"
      ]
     },
     "execution_count": 125,
     "metadata": {},
     "output_type": "execute_result"
    }
   ],
   "source": [
    "new_filter(funcs, l, 'u')"
   ]
  },
  {
   "cell_type": "code",
   "execution_count": 126,
   "metadata": {},
   "outputs": [
    {
     "name": "stdout",
     "output_type": "stream",
     "text": [
      "Порядок фильтрации указан неверно\n"
     ]
    }
   ],
   "source": [
    "new_filter(funcs, l, 'o')"
   ]
  },
  {
   "cell_type": "markdown",
   "metadata": {},
   "source": [
    "---"
   ]
  },
  {
   "cell_type": "markdown",
   "metadata": {},
   "source": [
    "### Работа с файлами"
   ]
  },
  {
   "cell_type": "markdown",
   "metadata": {},
   "source": [
    "Python из коробки умеет читать и писать файлы. Для начала работы с файлом требуется выполнить операцию open, которая имеет несколько параметров:\n",
    "1. file - путь к файлу (абсолютный или относительный). Обязательный параметр;\n",
    "2. mode - метод работы с файлом. Может принимать следующие основные значения:\n",
    " - 'r' - открыть файл для чтения (значение по умолчанию)\n",
    " - 'w' - открыть файл для записи, предварительно удалив файл;\n",
    " - 'x' - открыть файл для записи, предварительно создав его;\n",
    " - 'a' - открыть файл для записи, выполнить вставку в конец файла, если он существует$\n",
    " - 'r+' - открыть файл для чтения/записи.\n",
    "3. encoding - определяет кодировку, которая будет использована при работе с файлом. По умолчанию принимает системное значение;\n",
    "4. errors - определяет, каким образом реагировать на ошибки чтения: 'strict' - вызывать исключения, 'ignore' - игнорировать."
   ]
  },
  {
   "cell_type": "code",
   "execution_count": 219,
   "metadata": {},
   "outputs": [],
   "source": [
    "f = open('python.txt')"
   ]
  },
  {
   "cell_type": "code",
   "execution_count": 220,
   "metadata": {},
   "outputs": [
    {
     "data": {
      "text/plain": [
       "_io.TextIOWrapper"
      ]
     },
     "execution_count": 220,
     "metadata": {},
     "output_type": "execute_result"
    }
   ],
   "source": [
    "type(f)"
   ]
  },
  {
   "cell_type": "markdown",
   "metadata": {},
   "source": [
    "Функция open создает объект типа _io.TextIOWrapper. Для работы с ним используются функции:"
   ]
  },
  {
   "cell_type": "code",
   "execution_count": 221,
   "metadata": {},
   "outputs": [
    {
     "name": "stdout",
     "output_type": "stream",
     "text": [
      "Это тестовый файл.\n",
      "\n"
     ]
    }
   ],
   "source": [
    "# Построчное чтение\n",
    "print(f.readline())"
   ]
  },
  {
   "cell_type": "code",
   "execution_count": 222,
   "metadata": {},
   "outputs": [
    {
     "name": "stdout",
     "output_type": "stream",
     "text": [
      "Оно содержит немного текста для демонстрации работы Python с файлами.\n",
      "\n"
     ]
    }
   ],
   "source": [
    "print(f.readline())"
   ]
  },
  {
   "cell_type": "code",
   "execution_count": 223,
   "metadata": {},
   "outputs": [
    {
     "name": "stdout",
     "output_type": "stream",
     "text": [
      "Больше\n"
     ]
    }
   ],
   "source": [
    "# Чтение объекта заданной длины\n",
    "print(f.read(6))"
   ]
  },
  {
   "cell_type": "code",
   "execution_count": 224,
   "metadata": {},
   "outputs": [
    {
     "data": {
      "text/plain": [
       "0"
      ]
     },
     "execution_count": 224,
     "metadata": {},
     "output_type": "execute_result"
    }
   ],
   "source": [
    "# Переход на заданную позицию\n",
    "f.seek(0)"
   ]
  },
  {
   "cell_type": "code",
   "execution_count": 225,
   "metadata": {},
   "outputs": [
    {
     "name": "stdout",
     "output_type": "stream",
     "text": [
      "Это тестовый файл.\n",
      "Оно содержит немного текста для демонстрации работы Python с файлами.\n",
      "Больше тут ничего интересного нет.\n"
     ]
    }
   ],
   "source": [
    "# Чтение всего файла\n",
    "print(f.read())"
   ]
  },
  {
   "cell_type": "markdown",
   "metadata": {},
   "source": [
    "После работы с файлом его необходимо принудительно закрывать, чтобы не возникала ошибка блокировки:"
   ]
  },
  {
   "cell_type": "code",
   "execution_count": 228,
   "metadata": {},
   "outputs": [],
   "source": [
    "f.close()"
   ]
  },
  {
   "cell_type": "markdown",
   "metadata": {},
   "source": [
    "Для упрощения работы с файлами используют конструкцию with, которая открывает блок работы с файлом и автоматически закрывает его при завершении:"
   ]
  },
  {
   "cell_type": "code",
   "execution_count": 243,
   "metadata": {},
   "outputs": [],
   "source": [
    "with open('python.txt', 'a') as f:\n",
    "    f.write('Теперь тут будет ещё и четвертая строка')"
   ]
  },
  {
   "cell_type": "code",
   "execution_count": 244,
   "metadata": {},
   "outputs": [
    {
     "name": "stdout",
     "output_type": "stream",
     "text": [
      "Это тестовый файл.\n",
      "Оно содержит немного текста для демонстрации работы Python с файлами.\n",
      "Больше тут ничего интересного нет.Теперь тут будет ещё и четвертая строка\n"
     ]
    }
   ],
   "source": [
    "with open('python.txt') as f:\n",
    "    print(f.read())"
   ]
  },
  {
   "cell_type": "markdown",
   "metadata": {},
   "source": [
    "### Задание 2."
   ]
  },
  {
   "cell_type": "markdown",
   "metadata": {},
   "source": [
    "Только что мы испортили наш замечательный пример и добавили строку не туда, куда нужно. Исправим это. Напишем код, который перенесет добавленный нами текст на отдельную строку, чтобы получилось:\n",
    "\n",
    "    Это тестовый файл.\n",
    "    Оно содержит немного текста для демонстрации работы Python с файлами.\n",
    "    Больше тут ничего интересного нет.\n",
    "    Теперь тут будет ещё и четвертая строка"
   ]
  },
  {
   "cell_type": "code",
   "execution_count": 239,
   "metadata": {},
   "outputs": [],
   "source": [
    "# Вариант 1 (работа непосредственно с файлом):\n",
    "with open('python.txt', 'r+') as f:\n",
    "    s = f.read()\n",
    "    f.seek(s.index('Теперь тут будет ещё и четвертая строка')+2)\n",
    "    f.write('\\nТеперь тут будет ещё и четвертая строка')"
   ]
  },
  {
   "cell_type": "code",
   "execution_count": 328,
   "metadata": {},
   "outputs": [],
   "source": [
    "# Вариант 2 (работа со строкой):\n",
    "with open('python.txt', 'r') as f:\n",
    "    s = f.read()\n",
    "    \n",
    "i = len('Теперь тут будет ещё и четвертая строка')\n",
    "s = s[:-i] + '\\n' + s[-i:]\n",
    "\n",
    "with open('python.txt', 'w') as f:\n",
    "    f.write(s)"
   ]
  },
  {
   "cell_type": "markdown",
   "metadata": {},
   "source": [
    "Во втором случае мы разбиваем операции чтения и записи и можем выполнять обработку текста, при этом не блокируя сам файл (полезно в случае сложной обработки, но надо быть уверенным, что между операциями чтения и записи никто не изменил файл)."
   ]
  },
  {
   "cell_type": "markdown",
   "metadata": {},
   "source": [
    "### Задание 3."
   ]
  },
  {
   "cell_type": "markdown",
   "metadata": {},
   "source": [
    "На одном из прошлых уроков мы реализовывали декоратор, который логирует запуск функций. Дополним этот декоратор, реализовав механизм записи информационного сообщения в файл."
   ]
  },
  {
   "cell_type": "code",
   "execution_count": 283,
   "metadata": {},
   "outputs": [],
   "source": [
    "def wrapper(func):\n",
    "    filename = 'log.txt'\n",
    "    def wrapping_func(*args, **kwargs):\n",
    "        ret = f'Запущена функция {func.__name__}'\n",
    "        param = []\n",
    "        if args:\n",
    "            param.append(f'{[i for i in args]}')\n",
    "        if kwargs:\n",
    "            param.extend([f'{i} = {j}' for i, j in kwargs.items()])\n",
    "        if len(param)>0:\n",
    "            ret += ' c параметрами: ' + ', '.join(param)\n",
    "        ret += '.'\n",
    "        r = func(*args, **kwargs)\n",
    "        ret += f' Получен результат {r}.\\n'\n",
    "        with open(filename, 'a') as f:\n",
    "            f.write(ret)\n",
    "        return r\n",
    "    return wrapping_func"
   ]
  },
  {
   "cell_type": "code",
   "execution_count": 284,
   "metadata": {},
   "outputs": [],
   "source": [
    "@wrapper\n",
    "def new_sum(a, b):\n",
    "    return a+b"
   ]
  },
  {
   "cell_type": "code",
   "execution_count": 285,
   "metadata": {},
   "outputs": [
    {
     "data": {
      "text/plain": [
       "[0, 1, 2, 3, 4, 1, 2, 3, 4, 5, 2, 3, 4, 5, 6]"
      ]
     },
     "execution_count": 285,
     "metadata": {},
     "output_type": "execute_result"
    }
   ],
   "source": [
    "[new_sum(i,j) for i in range(3) for j in range(5)]"
   ]
  }
 ],
 "metadata": {
  "kernelspec": {
   "display_name": "Python 3",
   "language": "python",
   "name": "python3"
  },
  "language_info": {
   "codemirror_mode": {
    "name": "ipython",
    "version": 3
   },
   "file_extension": ".py",
   "mimetype": "text/x-python",
   "name": "python",
   "nbconvert_exporter": "python",
   "pygments_lexer": "ipython3",
   "version": "3.7.3"
  }
 },
 "nbformat": 4,
 "nbformat_minor": 2
}
