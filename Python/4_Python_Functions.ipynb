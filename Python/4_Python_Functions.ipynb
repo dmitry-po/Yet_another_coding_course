{
 "cells": [
  {
   "cell_type": "markdown",
   "metadata": {},
   "source": [
    "# Основы программирования на Python. "
   ]
  },
  {
   "cell_type": "markdown",
   "metadata": {},
   "source": [
    "## Часть 4: Функции, ветвления и циклы"
   ]
  },
  {
   "cell_type": "markdown",
   "metadata": {},
   "source": [
    "### Функции"
   ]
  },
  {
   "cell_type": "markdown",
   "metadata": {},
   "source": [
    "Функции - это набор команд по преобразованию свойств одного или нескольких объектов. У функций есть входные параметры, тело и результат. В базовом варианте синтаксис функции выглядит следующим образом:"
   ]
  },
  {
   "cell_type": "code",
   "execution_count": 4,
   "metadata": {},
   "outputs": [],
   "source": [
    "def some_func(param1, param2=2, *args, **kwargs): # Объявление названия функции и входных параметров\n",
    "    # Тело функции, где происходит основная работа\n",
    "    return # возврат результатов. Функция возвращает тот объект, который стоит после слова return (если ничего не стоит, \n",
    "# возвращает NoneType)"
   ]
  },
  {
   "cell_type": "code",
   "execution_count": 5,
   "metadata": {},
   "outputs": [],
   "source": [
    "# Например, функция по сложению 2 чисел:\n",
    "def sum_two(a, b):\n",
    "    ret = a + b\n",
    "    return ret"
   ]
  },
  {
   "cell_type": "code",
   "execution_count": 6,
   "metadata": {},
   "outputs": [
    {
     "data": {
      "text/plain": [
       "5"
      ]
     },
     "execution_count": 6,
     "metadata": {},
     "output_type": "execute_result"
    }
   ],
   "source": [
    "sum_two(2,3)"
   ]
  },
  {
   "cell_type": "markdown",
   "metadata": {},
   "source": [
    "#### Параметры функции"
   ]
  },
  {
   "cell_type": "markdown",
   "metadata": {},
   "source": [
    "Отдельного внимания заслуживают параметры функции. Он могут быть:\n",
    " - Позиционные или именованные;\n",
    " - Обязательные или с заданным значением по умолчанию.\n",
    " \n",
    "Порядок параметров также имеет значение: сначала идут позиционные, затем кортеж, затем именованные, затем словарь. Количество параметров позиционного и именованного типа может быть любым."
   ]
  },
  {
   "cell_type": "code",
   "execution_count": 8,
   "metadata": {},
   "outputs": [],
   "source": [
    "def foo(a, b=3):\n",
    "    print(a, b)"
   ]
  },
  {
   "cell_type": "code",
   "execution_count": 16,
   "metadata": {},
   "outputs": [
    {
     "name": "stdout",
     "output_type": "stream",
     "text": [
      "1 3\n",
      "1 5\n",
      "1 7\n",
      "1 9\n"
     ]
    }
   ],
   "source": [
    "foo(1)\n",
    "foo(1,5)\n",
    "foo(1, b=7)\n",
    "foo(a=1, b=9)"
   ]
  },
  {
   "cell_type": "markdown",
   "metadata": {},
   "source": [
    "В примере выше инициирована одна функция, которая имеет 2 параметра: a и b - первый параметр обязательный, второй - нет, так как значение задано по умолчанию."
   ]
  },
  {
   "cell_type": "markdown",
   "metadata": {},
   "source": [
    "При вызове функции важно, в каком порядке заданы переменные. Выше представлены 4 варианта корректного запуска. В первых двух случаях мы передаем переменные как позиционные и при запуске функции они автоматически определяются как переменные a и b соответственно. В третьем случае мы оставляем первую переменную позиционной, а вторую задаем по имени. Это бывает полезно, когда функция имеет ряд параметров, заданных по умолчанию, и необходимо указать конкретный:"
   ]
  },
  {
   "cell_type": "code",
   "execution_count": 20,
   "metadata": {},
   "outputs": [],
   "source": [
    "def foo(a, b=1, c=9):\n",
    "    print(a*b+c)"
   ]
  },
  {
   "cell_type": "code",
   "execution_count": 21,
   "metadata": {},
   "outputs": [
    {
     "name": "stdout",
     "output_type": "stream",
     "text": [
      "12\n"
     ]
    }
   ],
   "source": [
    "foo(1, c=11)"
   ]
  },
  {
   "cell_type": "markdown",
   "metadata": {},
   "source": [
    "В данном случае мы переопределили только переменную с, оставим значение b по умолчанию. Если бы в данном примере мы использовали позиционные аргументы, результат получился бы другим (так как в том случае переопределялась бы переменная b)"
   ]
  },
  {
   "cell_type": "code",
   "execution_count": 22,
   "metadata": {},
   "outputs": [
    {
     "name": "stdout",
     "output_type": "stream",
     "text": [
      "20\n"
     ]
    }
   ],
   "source": [
    "foo(1, 11)"
   ]
  },
  {
   "cell_type": "markdown",
   "metadata": {},
   "source": [
    "При использовании одновременно позиционных и именованных переменных следуют помнить про порядок. Если сначала указать именованную, а потом позиционную, возникнет ошибка:"
   ]
  },
  {
   "cell_type": "code",
   "execution_count": 23,
   "metadata": {},
   "outputs": [
    {
     "ename": "SyntaxError",
     "evalue": "positional argument follows keyword argument (<ipython-input-23-a0976f3304e8>, line 1)",
     "output_type": "error",
     "traceback": [
      "\u001b[1;36m  File \u001b[1;32m\"<ipython-input-23-a0976f3304e8>\"\u001b[1;36m, line \u001b[1;32m1\u001b[0m\n\u001b[1;33m    foo(a=4, 12, 15)\u001b[0m\n\u001b[1;37m            ^\u001b[0m\n\u001b[1;31mSyntaxError\u001b[0m\u001b[1;31m:\u001b[0m positional argument follows keyword argument\n"
     ]
    }
   ],
   "source": [
    "foo(a=4, 12, 15)"
   ]
  },
  {
   "cell_type": "markdown",
   "metadata": {},
   "source": [
    "Также в параметрах функции есть два аргумента с необычным синтаксисом: \n",
    " - *args\n",
    " - **kwargs\n",
    " \n",
    "args \"забирает\" в себя все позиционные аргументы, которые не покрываются именованным списком. Более понятно станет на примере:"
   ]
  },
  {
   "cell_type": "code",
   "execution_count": 32,
   "metadata": {},
   "outputs": [],
   "source": [
    "def foo(a, b, *args):\n",
    "    print(f'a = {a}')\n",
    "    print(f'b = {b}')\n",
    "    print(f\"args = {', '.join([str(i) for i in args])}\")"
   ]
  },
  {
   "cell_type": "code",
   "execution_count": 33,
   "metadata": {},
   "outputs": [
    {
     "name": "stdout",
     "output_type": "stream",
     "text": [
      "a = 1\n",
      "b = 2\n",
      "args = 3, 4, 5, 6\n"
     ]
    }
   ],
   "source": [
    "foo(1,2,3,4,5,6)"
   ]
  },
  {
   "cell_type": "markdown",
   "metadata": {},
   "source": [
    "Аналогично со списком kwargs, только он принимает все именованные переменные:"
   ]
  },
  {
   "cell_type": "code",
   "execution_count": 37,
   "metadata": {},
   "outputs": [],
   "source": [
    "def foo(a, b, **kwargs):\n",
    "    print(f'a = {a}')\n",
    "    print(f'b = {b}')\n",
    "    for i, j in kwargs.items():\n",
    "        print(f'{i} = {j}')"
   ]
  },
  {
   "cell_type": "code",
   "execution_count": 38,
   "metadata": {},
   "outputs": [
    {
     "name": "stdout",
     "output_type": "stream",
     "text": [
      "a = 1\n",
      "b = 2\n",
      "c = 3\n",
      "d = 4\n"
     ]
    }
   ],
   "source": [
    "foo(a='1', b='2', c='3', d='4')"
   ]
  },
  {
   "cell_type": "markdown",
   "metadata": {},
   "source": [
    "Как было показано выше, функция может принимать на вход одновременно аргументы всех видов:"
   ]
  },
  {
   "cell_type": "code",
   "execution_count": 58,
   "metadata": {},
   "outputs": [],
   "source": [
    "def foo(a, b, *args, c='стол', **kwargs):\n",
    "    print(f'a = {a}')\n",
    "    print(f'b = {b}')\n",
    "    print(f\"args = {', '.join([str(i) for i in args])}\")\n",
    "    print(f'c = {c}')\n",
    "    for i, j in kwargs.items():\n",
    "        print(f'{i} = {j}')"
   ]
  },
  {
   "cell_type": "code",
   "execution_count": 59,
   "metadata": {},
   "outputs": [
    {
     "name": "stdout",
     "output_type": "stream",
     "text": [
      "a = 1\n",
      "b = 2\n",
      "args = 3, 4\n",
      "c = 5\n",
      "d = 6\n",
      "e = 7\n"
     ]
    }
   ],
   "source": [
    "foo(1, 2, 3, 4, c=5, d=6, e=7)"
   ]
  },
  {
   "cell_type": "markdown",
   "metadata": {},
   "source": [
    "#### Возврат функции"
   ]
  },
  {
   "cell_type": "markdown",
   "metadata": {},
   "source": [
    "Правилом хорошего тона является явное обозначение процедуры возврата результатов функции в виде return. Однако, Python допускает возможность выполнения функции без возврата (это аналогично записи return None или просто return"
   ]
  },
  {
   "cell_type": "code",
   "execution_count": 60,
   "metadata": {},
   "outputs": [],
   "source": [
    "def foo():\n",
    "    print('Я полезная функция')"
   ]
  },
  {
   "cell_type": "code",
   "execution_count": 61,
   "metadata": {},
   "outputs": [
    {
     "name": "stdout",
     "output_type": "stream",
     "text": [
      "Я полезная функция\n",
      "Я полезная функция\n"
     ]
    },
    {
     "data": {
      "text/plain": [
       "(None, NoneType)"
      ]
     },
     "execution_count": 61,
     "metadata": {},
     "output_type": "execute_result"
    }
   ],
   "source": [
    "foo(), type(foo())"
   ]
  },
  {
   "cell_type": "markdown",
   "metadata": {},
   "source": [
    "В остальных случаях в явном виде прописывается возвращаемый объект - причем это может быть объект любого типа: целое число, строка, множество, словарь, функция, класс, даже модуль:"
   ]
  },
  {
   "cell_type": "code",
   "execution_count": 62,
   "metadata": {},
   "outputs": [],
   "source": [
    "def sum_two(a, b):\n",
    "    return a+b\n",
    "\n",
    "def mult_two(a, b):\n",
    "    return a*b\n",
    "\n",
    "def foo(calc_type):\n",
    "    if calc_type == 'сложение':\n",
    "        return sum_two\n",
    "    else:\n",
    "        return mult_two"
   ]
  },
  {
   "cell_type": "code",
   "execution_count": 64,
   "metadata": {},
   "outputs": [
    {
     "data": {
      "text/plain": [
       "8"
      ]
     },
     "execution_count": 64,
     "metadata": {},
     "output_type": "execute_result"
    }
   ],
   "source": [
    "foo('сложение')(3,5)"
   ]
  },
  {
   "cell_type": "markdown",
   "metadata": {},
   "source": [
    "Оператор return может быть как один, так и несколько (как в примере выше). Хотя эту же функцию можно переписать с одним возвратом:"
   ]
  },
  {
   "cell_type": "code",
   "execution_count": 65,
   "metadata": {},
   "outputs": [],
   "source": [
    "def foo(calc_type):\n",
    "    ret = mult_two\n",
    "    if calc_type == 'сложение':\n",
    "        ret = sum_two\n",
    "    return ret"
   ]
  },
  {
   "cell_type": "code",
   "execution_count": 66,
   "metadata": {},
   "outputs": [
    {
     "data": {
      "text/plain": [
       "8"
      ]
     },
     "execution_count": 66,
     "metadata": {},
     "output_type": "execute_result"
    }
   ],
   "source": [
    "foo('сложение')(3,5)"
   ]
  },
  {
   "cell_type": "markdown",
   "metadata": {},
   "source": [
    "В данном случае результатом выполнения функции является другая функция:"
   ]
  },
  {
   "cell_type": "code",
   "execution_count": 67,
   "metadata": {},
   "outputs": [
    {
     "data": {
      "text/plain": [
       "function"
      ]
     },
     "execution_count": 67,
     "metadata": {},
     "output_type": "execute_result"
    }
   ],
   "source": [
    "type(foo('сложение'))"
   ]
  },
  {
   "cell_type": "markdown",
   "metadata": {},
   "source": [
    "---"
   ]
  },
  {
   "cell_type": "markdown",
   "metadata": {},
   "source": [
    "### Анонимная функция lambda"
   ]
  },
  {
   "cell_type": "markdown",
   "metadata": {},
   "source": [
    "Анонимная функция - это упрощенный вариант функции с одним выражением, который не требует объявления с помощью конструкции def и явного указания возвращаемого результата. Задается анонимная функция с помощью инструкции lambda:"
   ]
  },
  {
   "cell_type": "code",
   "execution_count": 68,
   "metadata": {},
   "outputs": [
    {
     "data": {
      "text/plain": [
       "3"
      ]
     },
     "execution_count": 68,
     "metadata": {},
     "output_type": "execute_result"
    }
   ],
   "source": [
    "(lambda x, y: x + y)(1,2)"
   ]
  },
  {
   "cell_type": "code",
   "execution_count": 72,
   "metadata": {},
   "outputs": [
    {
     "data": {
      "text/plain": [
       "function"
      ]
     },
     "execution_count": 72,
     "metadata": {},
     "output_type": "execute_result"
    }
   ],
   "source": [
    "type((lambda x: x))"
   ]
  },
  {
   "cell_type": "code",
   "execution_count": 70,
   "metadata": {},
   "outputs": [
    {
     "name": "stdout",
     "output_type": "stream",
     "text": [
      "(1, 2, 3, 4, 5)\n"
     ]
    }
   ],
   "source": [
    "(lambda *args: print(args))(1,2,3,4,5)"
   ]
  },
  {
   "cell_type": "markdown",
   "metadata": {},
   "source": [
    "---"
   ]
  },
  {
   "cell_type": "markdown",
   "metadata": {},
   "source": [
    "### Задание 1."
   ]
  },
  {
   "cell_type": "markdown",
   "metadata": {},
   "source": [
    "Реализовать функцию, которая будет складывать любое количество переданных в нее переменных"
   ]
  },
  {
   "cell_type": "code",
   "execution_count": 90,
   "metadata": {},
   "outputs": [],
   "source": [
    "# Вариант решения 1\n",
    "def sum(l):\n",
    "    sum = 0\n",
    "    for i in l:\n",
    "        sum +=i\n",
    "    print(sum)"
   ]
  },
  {
   "cell_type": "code",
   "execution_count": 91,
   "metadata": {},
   "outputs": [
    {
     "name": "stdout",
     "output_type": "stream",
     "text": [
      "10\n"
     ]
    }
   ],
   "source": [
    "sum([1, 3, 6])"
   ]
  },
  {
   "cell_type": "code",
   "execution_count": 92,
   "metadata": {},
   "outputs": [],
   "source": [
    "# Вариант решения 2\n",
    "def sum(*args):\n",
    "    sum = 0\n",
    "    for i in args:\n",
    "        sum +=i\n",
    "    print(sum)"
   ]
  },
  {
   "cell_type": "code",
   "execution_count": 93,
   "metadata": {},
   "outputs": [
    {
     "name": "stdout",
     "output_type": "stream",
     "text": [
      "10\n"
     ]
    }
   ],
   "source": [
    "sum(1, 3, 6)"
   ]
  },
  {
   "cell_type": "markdown",
   "metadata": {},
   "source": [
    "---"
   ]
  },
  {
   "cell_type": "markdown",
   "metadata": {},
   "source": [
    "### Ветвления и циклы"
   ]
  },
  {
   "cell_type": "markdown",
   "metadata": {},
   "source": [
    "#### Ветвление (If)"
   ]
  },
  {
   "cell_type": "markdown",
   "metadata": {},
   "source": [
    "Ветвление - механизм проверки гипотез и выполнения кода в соответствии с полученными результатами: если яблоко красное - срываем. \n",
    "\n",
    "В python используются конструкции if - else:"
   ]
  },
  {
   "cell_type": "code",
   "execution_count": 189,
   "metadata": {},
   "outputs": [],
   "source": [
    "def check_apple(color):\n",
    "    if color == 'красное':\n",
    "        print('Можно есть')\n",
    "    else:\n",
    "        print('Яблоко ещё не созрело')"
   ]
  },
  {
   "cell_type": "code",
   "execution_count": 190,
   "metadata": {},
   "outputs": [
    {
     "name": "stdout",
     "output_type": "stream",
     "text": [
      "Можно есть\n",
      "Яблоко ещё не созрело\n",
      "Яблоко ещё не созрело\n"
     ]
    }
   ],
   "source": [
    "check_apple('красное')\n",
    "check_apple('зеленое')\n",
    "check_apple('синее')"
   ]
  },
  {
   "cell_type": "markdown",
   "metadata": {},
   "source": [
    "В примере выше видно, что у нас есть всего 2 ветки: либо яблоко красное, значит съедобное, либо любое другое, значит ещё зреет. Синий цвет не выглядит нормальным для яблока, поэтому нужно расширить конструкцию. Для этого есть два способа. Первый - через ещё один вложенный уровень if-else:"
   ]
  },
  {
   "cell_type": "code",
   "execution_count": 191,
   "metadata": {},
   "outputs": [],
   "source": [
    "def check_apple(color):\n",
    "    if color == 'красное':\n",
    "        print('Можно есть')\n",
    "    else:\n",
    "        if color == 'синее':\n",
    "            print('Я бы не советовал есть это яблоко')\n",
    "        else:\n",
    "            print('Яблоко ещё не созрело')"
   ]
  },
  {
   "cell_type": "code",
   "execution_count": 192,
   "metadata": {},
   "outputs": [
    {
     "name": "stdout",
     "output_type": "stream",
     "text": [
      "Можно есть\n",
      "Яблоко ещё не созрело\n",
      "Я бы не советовал есть это яблоко\n"
     ]
    }
   ],
   "source": [
    "check_apple('красное')\n",
    "check_apple('зеленое')\n",
    "check_apple('синее')"
   ]
  },
  {
   "cell_type": "markdown",
   "metadata": {},
   "source": [
    "Или, предпочтительнее, использовать конструкцию if-elif-else, которая перебирает ветки if-else if до момента, когда найдется подходящий вариант:"
   ]
  },
  {
   "cell_type": "code",
   "execution_count": 193,
   "metadata": {},
   "outputs": [],
   "source": [
    "def check_apple(color):\n",
    "    if color == 'красное':\n",
    "        print('Можно есть')\n",
    "    elif color == 'синее':\n",
    "        print('Я бы не советовал есть это яблоко')\n",
    "    else:\n",
    "        print('Яблоко ещё не созрело')"
   ]
  },
  {
   "cell_type": "code",
   "execution_count": 194,
   "metadata": {},
   "outputs": [
    {
     "name": "stdout",
     "output_type": "stream",
     "text": [
      "Можно есть\n",
      "Яблоко ещё не созрело\n",
      "Я бы не советовал есть это яблоко\n"
     ]
    }
   ],
   "source": [
    "check_apple('красное')\n",
    "check_apple('зеленое')\n",
    "check_apple('синее')"
   ]
  },
  {
   "cell_type": "markdown",
   "metadata": {},
   "source": [
    "В таком случае можно расширять список проверок не утяжеляя конструкцию визуально:"
   ]
  },
  {
   "cell_type": "code",
   "execution_count": 195,
   "metadata": {},
   "outputs": [],
   "source": [
    "def check_apple(color):\n",
    "    if color == 'красное':\n",
    "        print('Можно есть')\n",
    "    elif color == 'синее':\n",
    "        print('Я бы не советовал есть это яблоко')\n",
    "    elif color == 'желтое':\n",
    "        print('Можно есть на свой страх и риск')\n",
    "    else:\n",
    "        print('Яблоко ещё не созрело')"
   ]
  },
  {
   "cell_type": "code",
   "execution_count": 196,
   "metadata": {},
   "outputs": [
    {
     "name": "stdout",
     "output_type": "stream",
     "text": [
      "Можно есть\n",
      "Можно есть на свой страх и риск\n",
      "Яблоко ещё не созрело\n",
      "Я бы не советовал есть это яблоко\n"
     ]
    }
   ],
   "source": [
    "check_apple('красное')\n",
    "check_apple('желтое')\n",
    "check_apple('зеленое')\n",
    "check_apple('синее')"
   ]
  },
  {
   "cell_type": "markdown",
   "metadata": {},
   "source": [
    "С точки зрения функционала, писать else не всегда нужно, однако это считается правилом хорошего тона."
   ]
  },
  {
   "cell_type": "markdown",
   "metadata": {},
   "source": [
    "В случаях, когда ветки всего 2, бывает удобно писать конструкцию в виде одной строки:"
   ]
  },
  {
   "cell_type": "code",
   "execution_count": 197,
   "metadata": {},
   "outputs": [],
   "source": [
    "def odd_round(num):\n",
    "    ret = 0 if num % 10 < 5 else 1\n",
    "    return ret"
   ]
  },
  {
   "cell_type": "code",
   "execution_count": 198,
   "metadata": {},
   "outputs": [
    {
     "data": {
      "text/plain": [
       "(0, 0, 1, 1)"
      ]
     },
     "execution_count": 198,
     "metadata": {},
     "output_type": "execute_result"
    }
   ],
   "source": [
    "odd_round(1), odd_round(3), odd_round(5), odd_round(7)"
   ]
  },
  {
   "cell_type": "markdown",
   "metadata": {},
   "source": [
    "#### Цикл while"
   ]
  },
  {
   "cell_type": "markdown",
   "metadata": {},
   "source": [
    "Инициирует выполнение цикла до тех пор, пока не выполнится заданное условие."
   ]
  },
  {
   "cell_type": "code",
   "execution_count": 199,
   "metadata": {},
   "outputs": [
    {
     "name": "stdout",
     "output_type": "stream",
     "text": [
      "0\n",
      "1\n",
      "4\n",
      "9\n",
      "16\n",
      "25\n",
      "36\n",
      "49\n",
      "64\n",
      "81\n"
     ]
    }
   ],
   "source": [
    "i = 0\n",
    "while i < 10:\n",
    "    print(i**2)\n",
    "    i += 1"
   ]
  },
  {
   "cell_type": "markdown",
   "metadata": {},
   "source": [
    "В данном случае используется итератор i, которому присваивается значение 0 перед выполнением цикла и который увеличивается \n",
    "на 1 на каждом шаге. Важно контролировать, что итератор изменяется в теле цикла, иначе процесс \"уйдёт в бесконечность\". "
   ]
  },
  {
   "cell_type": "markdown",
   "metadata": {},
   "source": [
    "#### Цикл for"
   ]
  },
  {
   "cell_type": "markdown",
   "metadata": {},
   "source": [
    "Инструмент for используется для выполнения цикла последовательно по элементам списка. В данном случае, в отличие от while, нет необходимости дополнительно проверять выполнение условия - цикл будет выполнен только один раз для каждого элемента списка:"
   ]
  },
  {
   "cell_type": "code",
   "execution_count": 201,
   "metadata": {},
   "outputs": [
    {
     "name": "stdout",
     "output_type": "stream",
     "text": [
      "0\n",
      "1\n",
      "4\n",
      "9\n",
      "16\n",
      "25\n",
      "36\n",
      "49\n",
      "64\n",
      "81\n"
     ]
    }
   ],
   "source": [
    "for i in [0, 1, 2, 3, 4, 5, 6, 7, 8, 9]:\n",
    "    print(i**2)"
   ]
  },
  {
   "cell_type": "markdown",
   "metadata": {},
   "source": [
    "В примере выше в качестве обрабатываемого списка используется последовательность. В подобных случаях принято использовать функцию range(start, end, step), где start - начальное значение (по умолчанию = 0), end - конечное значение (не включается), step - шаг изменения (по умолчанию = 1)."
   ]
  },
  {
   "cell_type": "code",
   "execution_count": 202,
   "metadata": {},
   "outputs": [
    {
     "name": "stdout",
     "output_type": "stream",
     "text": [
      "0\n",
      "10\n",
      "20\n",
      "30\n",
      "40\n",
      "50\n",
      "60\n",
      "70\n",
      "80\n",
      "90\n"
     ]
    }
   ],
   "source": [
    "for i in range(0, 100, 10):\n",
    "    print(i)"
   ]
  },
  {
   "cell_type": "markdown",
   "metadata": {},
   "source": [
    "Получается это потому, что range можно легко преобразовать в список:"
   ]
  },
  {
   "cell_type": "code",
   "execution_count": 203,
   "metadata": {},
   "outputs": [
    {
     "data": {
      "text/plain": [
       "[0, 10, 20, 30, 40, 50, 60, 70, 80, 90]"
      ]
     },
     "execution_count": 203,
     "metadata": {},
     "output_type": "execute_result"
    }
   ],
   "source": [
    "list(range(0, 100, 10))"
   ]
  },
  {
   "cell_type": "markdown",
   "metadata": {},
   "source": [
    "и записи list(range(0, 100, 10)) и [0, 10, 20, 30, 40, 50, 60, 70, 80, 90] будут восприниматься идентично."
   ]
  },
  {
   "cell_type": "markdown",
   "metadata": {},
   "source": [
    "#### Операторы"
   ]
  },
  {
   "cell_type": "markdown",
   "metadata": {},
   "source": [
    "Действие циклов for и while можно дополнить 3 операторами, которые позволяют обрабатывать исключительные случаи:\n",
    " - continue - прерывает выполнение шага цикла и переходит к следующему;\n",
    " - break - полностью останавливает цикл;\n",
    " - else - отрабатывает на выходе из цикла, если он завершился \"самостоятельно\" (без прерываний break)."
   ]
  },
  {
   "cell_type": "code",
   "execution_count": 204,
   "metadata": {},
   "outputs": [
    {
     "name": "stdout",
     "output_type": "stream",
     "text": [
      "Раз\n",
      "Два\n",
      "Три\n",
      "Четыре\n",
      "Пять\n",
      "Вышел зайчик погулять\n"
     ]
    }
   ],
   "source": [
    "for i in ['Раз', 'Два', 'Мимо', 'Три', 'Четыре', 'Пять']:\n",
    "    if i == 'Мимо':\n",
    "        continue\n",
    "    print(i)\n",
    "else:\n",
    "    print('Вышел зайчик погулять')"
   ]
  },
  {
   "cell_type": "code",
   "execution_count": 206,
   "metadata": {},
   "outputs": [
    {
     "name": "stdout",
     "output_type": "stream",
     "text": [
      "1\n",
      "2\n",
      "3\n",
      "4\n",
      "5\n",
      "Остальные числа больше 5\n"
     ]
    }
   ],
   "source": [
    "i=1\n",
    "while i<7:\n",
    "    print(i)\n",
    "    if i % 5 == 0:\n",
    "        print('Остальные числа больше 5')\n",
    "        break\n",
    "    i+=1\n",
    "else:\n",
    "    print('Все числа меньше 5')"
   ]
  },
  {
   "cell_type": "markdown",
   "metadata": {},
   "source": [
    "Также оператор break часто используется совместно с конструкцией while True для случаев, когда какой-то функционал должен выполняться условно бесконечно (например, веб-сервис или телеграмм-бот). В таких ситуациях break в теле цикла используется для принудительного прерывания по запросу:"
   ]
  },
  {
   "cell_type": "code",
   "execution_count": 210,
   "metadata": {},
   "outputs": [
    {
     "name": "stdout",
     "output_type": "stream",
     "text": [
      "Я не сплю\n",
      "Продолжить? y/nу\n",
      "Я не сплю\n",
      "Продолжить? y/nу\n",
      "Я не сплю\n",
      "Продолжить? y/nе\n",
      "Я не сплю\n",
      "Продолжить? y/nn\n",
      "Работа функции завершена\n"
     ]
    }
   ],
   "source": [
    "import time\n",
    "while True:\n",
    "    print('Я не сплю')\n",
    "    k = input('Продолжить? y/n')\n",
    "    if k.lower()=='n':\n",
    "        print('Работа функции завершена')\n",
    "        break;\n",
    "    time.sleep(1)\n",
    "    "
   ]
  },
  {
   "cell_type": "markdown",
   "metadata": {},
   "source": [
    "---"
   ]
  },
  {
   "cell_type": "markdown",
   "metadata": {},
   "source": [
    "### Задание 2."
   ]
  },
  {
   "cell_type": "markdown",
   "metadata": {},
   "source": [
    "Мы уже писали функцию, которая проверяет тип заданного элемента. Воспользуемся этой функцией и напишем новую, которая будет принимать на вход список значений и выполнять 2 проверки: число четное и число положительное. Если число прошло проверку, возводить его в квадрат."
   ]
  },
  {
   "cell_type": "code",
   "execution_count": 217,
   "metadata": {},
   "outputs": [],
   "source": [
    "def is_type(x, x_type):\n",
    "    return type(x) == x_type\n",
    "\n",
    "def is_int(x):\n",
    "    return is_type(x, int)"
   ]
  },
  {
   "cell_type": "code",
   "execution_count": 224,
   "metadata": {},
   "outputs": [],
   "source": [
    "def odd_square(l):\n",
    "    ret = []\n",
    "    for i in l:\n",
    "        if is_int(i):\n",
    "            if i>0:\n",
    "                ret.append(i**2)\n",
    "    return ret"
   ]
  },
  {
   "cell_type": "code",
   "execution_count": 225,
   "metadata": {},
   "outputs": [
    {
     "data": {
      "text/plain": [
       "[1, 4, 9, 16]"
      ]
     },
     "execution_count": 225,
     "metadata": {},
     "output_type": "execute_result"
    }
   ],
   "source": [
    "odd_square([1,2,3, -1, -8, 4, 'text', 9.0])"
   ]
  }
 ],
 "metadata": {
  "kernelspec": {
   "display_name": "Python 3",
   "language": "python",
   "name": "python3"
  },
  "language_info": {
   "codemirror_mode": {
    "name": "ipython",
    "version": 3
   },
   "file_extension": ".py",
   "mimetype": "text/x-python",
   "name": "python",
   "nbconvert_exporter": "python",
   "pygments_lexer": "ipython3",
   "version": "3.7.3"
  }
 },
 "nbformat": 4,
 "nbformat_minor": 2
}
