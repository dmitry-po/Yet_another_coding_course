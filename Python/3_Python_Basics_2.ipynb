{
 "cells": [
  {
   "cell_type": "markdown",
   "metadata": {},
   "source": [
    "# Основы программирования на Python. "
   ]
  },
  {
   "cell_type": "markdown",
   "metadata": {},
   "source": [
    "## Часть 3: Составные типы данных"
   ]
  },
  {
   "cell_type": "markdown",
   "metadata": {},
   "source": [
    "### Оглавление\n",
    "1. [Списки](#Списки)  \n",
    "  1. [Задание 1.](#Задание-1.)\n",
    "  2. [Задание 2.](#Задание-2.)\n",
    "  3. [Задание 2.2.](#Задание-2.2.)\n",
    "  4. [Задание 2.3.](#Задание-2.3.)\n",
    "  5. [Задание 2.4.](#Задание-2.4.)\n",
    "3. [Кортежи](#Кортежи)  \n",
    "  1. [Задание 3.](#Задание-3.)\n",
    "4. [Словари](#Словари)  \n",
    "  1. [Задание 4.](#Задание-4.)\n",
    "5. [Множества](#Множества)\n",
    "6. [Фиксированные множества](#Фиксированные-множества)\n",
    "  1. [Задание 5.](#Задание-5.)\n",
    "  2. [Задание 6.](#Задание-6.)\n",
    "  3. [Задание 6.2.](#Задание-6.2.)"
   ]
  },
  {
   "cell_type": "markdown",
   "metadata": {},
   "source": [
    "### Списки"
   ]
  },
  {
   "cell_type": "markdown",
   "metadata": {},
   "source": [
    "Списки - упорядоченные изменяемые коллекции объектов произвольных типов (могут отличаться внутри одного списка), в том числе других списков, словарей, множеств и т.д."
   ]
  },
  {
   "cell_type": "code",
   "execution_count": 57,
   "metadata": {},
   "outputs": [
    {
     "name": "stdout",
     "output_type": "stream",
     "text": [
      "[1, 2, 3, 4, 3, 2, 1, 'Стол', 'Стул', 42, (1, 2, 3, 2, 1), {1: 'один', 2: 'два'}, [11, 12], 99]\n",
      "['Т', 'е', 'п', 'е', 'р', 'ь', ' ', 'э', 'т', 'о', ' ', 'с', 'п', 'и', 'с', 'о', 'к']\n",
      "[0, 1, 2, 3, 4, 5, 6, 7, 8, 9]\n"
     ]
    }
   ],
   "source": [
    "# Создать список можно несколькими способами:\n",
    "# 1. Как перечисление элементов в квадратных скобках []:\n",
    "l = [1,2,3,4,3,2,1,'Стол', 'Стул', 42, (1,2,3,2,1), {1:'один', 2:'два'}, [11,12], 99]\n",
    "print(l)\n",
    "\n",
    "# 2. С помощью функции list и итерируемого объекта, например строки:\n",
    "l = list('Теперь это список')\n",
    "print(l)\n",
    "\n",
    "# 3. С помощью генератора:\n",
    "l = [i for i in range(10)]\n",
    "print(l)"
   ]
  },
  {
   "cell_type": "markdown",
   "metadata": {},
   "source": [
    "Генераторы - мощный инструмент, который позволяет закладывать более сложные алгоритмы формирования списков (и множеств):"
   ]
  },
  {
   "cell_type": "code",
   "execution_count": 62,
   "metadata": {},
   "outputs": [
    {
     "name": "stdout",
     "output_type": "stream",
     "text": [
      "[0, 0, 0, 0, 10, 20, 4, 4, 4, 0, 30, 60, 16, 16, 16, 0, 50, 100, 36, 36, 36, 0, 70, 140, 64, 64, 64, 0, 90, 180]\n"
     ]
    }
   ],
   "source": [
    "l = [i**2 if i%2==0 else i*j for i in range(10) for j in range(0, 30, 10)]\n",
    "print(l)"
   ]
  },
  {
   "cell_type": "markdown",
   "metadata": {},
   "source": [
    "Списки в полном объеме поддерживают индексирование, поэтому можно обращаться как к отдельным элементам списка, так и срезам:"
   ]
  },
  {
   "cell_type": "code",
   "execution_count": 74,
   "metadata": {},
   "outputs": [
    {
     "name": "stdout",
     "output_type": "stream",
     "text": [
      "[1, 2, 3, 4, 5, 6, 7, 8, 9, 10]\n",
      "2\n",
      "9\n",
      "[2, 3, 4, 5]\n",
      "[3, 5, 7]\n"
     ]
    }
   ],
   "source": [
    "l = [i for i in range(1, 11)]\n",
    "print(l)\n",
    "\n",
    "# Обращение ко 2 элементу списка (нумерация начинается с 0, поэтому индекс 1)\n",
    "print(l[1])\n",
    "\n",
    "# Можно обращаться как посредством прямой, так и обратной нумерации:\n",
    "print(l[-2])\n",
    "\n",
    "# Выделение последовательного среза:\n",
    "print(l[1:5])\n",
    "\n",
    "# С заданным правилом (через 1, в диапазоне от 2 до 7):\n",
    "print(l[2:8:2])"
   ]
  },
  {
   "cell_type": "markdown",
   "metadata": {},
   "source": [
    "В списках можно не только обращаться к элементам по индексу, но и изменять значения:"
   ]
  },
  {
   "cell_type": "code",
   "execution_count": 75,
   "metadata": {},
   "outputs": [
    {
     "name": "stdout",
     "output_type": "stream",
     "text": [
      "[1, 2, 3, 4, 5, 6, 7, 8, 9, 10]\n",
      "[1, 2, 3, 99, 5, 6, 7, 8, 9, 10]\n"
     ]
    }
   ],
   "source": [
    "print(l)\n",
    "l[3] = 99\n",
    "print(l)"
   ]
  },
  {
   "cell_type": "markdown",
   "metadata": {},
   "source": [
    "К другим полезным методам относятся:"
   ]
  },
  {
   "cell_type": "code",
   "execution_count": 152,
   "metadata": {},
   "outputs": [
    {
     "name": "stdout",
     "output_type": "stream",
     "text": [
      "[1, 2, 3, 4, 5, 6, 7, 8, 9, 10, 'один']\n",
      "[1, 2, 3, 4, 5, 6, 7, 8, 9, 10, 'один', [100, 200]]\n",
      "[1, 2, 3, 4, 5, 6, 7, 8, 9, 10, 'один', 100, 200]\n",
      "200\n",
      "[1, 2, 3, 4, 5, 6, 7, 8, 9, 10, 'один', 100]\n",
      "12\n",
      "[1, 2, 3, 4, 5, 6, 7, 8, 9, 10, 100]\n",
      "4\n",
      "1\n",
      "True\n",
      "2595466338184 2595466173384\n",
      "[100, 10, 9, 8, 7, 6, 5, 4, 3, 2, 1]\n",
      "[1, 2, 3, 4, 5, 6, 7, 8, 9, 10, 100]\n",
      "[]\n"
     ]
    }
   ],
   "source": [
    "l = [i for i in range(1, 11)]\n",
    "\n",
    "# Добавление нового элемента в конец списка\n",
    "l.append('один')\n",
    "print(l)\n",
    "\n",
    "# Но для добавления другого списка такой метод не подходит:\n",
    "l.append([100,200])\n",
    "print(l)\n",
    "\n",
    "# Для этого используется метод extend:\n",
    "l.pop(len(l)-1)\n",
    "l.extend([100,200])\n",
    "print(l)\n",
    "\n",
    "# В примере выше показано ещё 2 полезных функции: pop(n) - удаляет и возвращает n-элемент из списка (если n не задан, удаляет \n",
    "# последний элемент, и len(l) - возвращает длину списка:\n",
    "print(l.pop())\n",
    "print(l)\n",
    "print(len(l))\n",
    "\n",
    "# Помимо pop можно использовать метод remove для удаления элемента из списка не по индексу, а по значению \n",
    "# (удаляет только первое вхождение)\n",
    "l.remove('один')\n",
    "print(l)\n",
    "\n",
    "# Продолжая тему работы с элементами по их значению, следует упомянуть ещё 2 метода: \n",
    "# index(x, start, end) - ищет первое вхождение элемента x в списке в диапазоне индексов start и end (можно не задавать);\n",
    "# count(x) - ищет количество вхождений элемента x в списке\n",
    "print(l.index(5))\n",
    "print(l.count(7))\n",
    "\n",
    "# Если нужно просто проверить наличие элемента в списке, то достаточно будет оператора in:\n",
    "print(9 in l)\n",
    "\n",
    "# Ранее уже появлялся метод copy() для создания отдельного объекта-копии списка:\n",
    "l2 = l.copy()\n",
    "print(id(l), id(l2))\n",
    "\n",
    "# Полезной может оказаться метод вывода списка в обратно порядке. Это можно сделать 2 способами: через индексацию\n",
    "l = l[::-1]\n",
    "print(l)\n",
    "# или специальный метод:\n",
    "l.reverse()\n",
    "print(l)\n",
    "\n",
    "# Ранее также уже был упомянут метод для удаления отдельных элементов списка, полное же очищение выполняется методом clear():\n",
    "l.clear()\n",
    "print(l)"
   ]
  },
  {
   "cell_type": "markdown",
   "metadata": {},
   "source": [
    "Часть из перечисленных методов работает не только со списками (кортежами и множествами), но и со строками:"
   ]
  },
  {
   "cell_type": "code",
   "execution_count": 151,
   "metadata": {},
   "outputs": [
    {
     "name": "stdout",
     "output_type": "stream",
     "text": [
      "Подопытная строка\n",
      "ы\n",
      "опыт\n",
      "ооынясрк\n",
      "П\n",
      "о\n",
      "д\n",
      "о\n",
      "п\n",
      "ы\n",
      "т\n",
      "н\n",
      "а\n",
      "я\n",
      " \n",
      "с\n",
      "т\n",
      "р\n",
      "о\n",
      "к\n",
      "а\n",
      "П-о-д-о-п-ы-т-н-а-я- -с-т-р-о-к-а\n",
      "5\n",
      "3\n",
      "17\n",
      "17\n",
      "1\n",
      "2\n",
      "True\n"
     ]
    }
   ],
   "source": [
    "s = 'Подопытная строка'\n",
    "print(s)\n",
    "\n",
    "# Можно выделить отдельный символ:\n",
    "print(s[5])\n",
    "\n",
    "# Или несколько:\n",
    "print(s[3:7])\n",
    "print(s[1::2])\n",
    "\n",
    "# Или пройтись по строка итерационно:\n",
    "for i in s:\n",
    "    print(i)\n",
    "    \n",
    "# Или пересобрать строку, изменив наполнитель между символами:\n",
    "print('-'.join(s))\n",
    "\n",
    "# Можно искать вхождение символов (одного или последовательной группы) в строке:\n",
    "print(s.index('ы'))\n",
    "\n",
    "# Или считать количество вхождений:\n",
    "print(s.count('о'))\n",
    "\n",
    "# С помощью метода count можно даже считать длину строки:\n",
    "print(s.count('')-1)\n",
    "# Но лучше пользоваться методом len:\n",
    "print(len(s))\n",
    "\n",
    "# Однако, с последними двумя методами нужно быть внимательными: они регистро-зависимые, поэтом лучше предварительно \n",
    "# обработать строку\n",
    "print(s.count('п'))\n",
    "print(s.lower().count('п'))\n",
    "\n",
    "# А Иногда достаточно просто проверить факт наличия символа в строке:\n",
    "print('ы' in s)"
   ]
  },
  {
   "cell_type": "markdown",
   "metadata": {},
   "source": [
    "Тем не менее, строка - неизменяемый тип данных, поэтому заменить отдельный символ внутри не получится:"
   ]
  },
  {
   "cell_type": "code",
   "execution_count": 135,
   "metadata": {},
   "outputs": [
    {
     "ename": "TypeError",
     "evalue": "'str' object does not support item assignment",
     "output_type": "error",
     "traceback": [
      "\u001b[1;31m---------------------------------------------------------------------------\u001b[0m",
      "\u001b[1;31mTypeError\u001b[0m                                 Traceback (most recent call last)",
      "\u001b[1;32m<ipython-input-135-d0bf3e41de15>\u001b[0m in \u001b[0;36m<module>\u001b[1;34m\u001b[0m\n\u001b[1;32m----> 1\u001b[1;33m \u001b[0ms\u001b[0m\u001b[1;33m[\u001b[0m\u001b[1;36m5\u001b[0m\u001b[1;33m]\u001b[0m\u001b[1;33m=\u001b[0m\u001b[1;34m'и'\u001b[0m\u001b[1;33m\u001b[0m\u001b[1;33m\u001b[0m\u001b[0m\n\u001b[0m",
      "\u001b[1;31mTypeError\u001b[0m: 'str' object does not support item assignment"
     ]
    }
   ],
   "source": [
    "s[5]='и'"
   ]
  },
  {
   "cell_type": "markdown",
   "metadata": {},
   "source": [
    "---"
   ]
  },
  {
   "cell_type": "markdown",
   "metadata": {},
   "source": [
    "#### Задание 1."
   ]
  },
  {
   "cell_type": "markdown",
   "metadata": {},
   "source": [
    "Реализовать функцию, которая изменяет значения элемента в строке по индексу"
   ]
  },
  {
   "cell_type": "code",
   "execution_count": 467,
   "metadata": {},
   "outputs": [],
   "source": [
    "# Вариант 1:\n",
    "def replace_by_index(some_string, index, value):\n",
    "    l = list(some_string)\n",
    "    l[index] = value\n",
    "    ret = ''\n",
    "    for i in l:\n",
    "        ret += i\n",
    "    return ret"
   ]
  },
  {
   "cell_type": "code",
   "execution_count": 469,
   "metadata": {},
   "outputs": [],
   "source": [
    "# Вариант 2 (для тех, кто уже знает Python):\n",
    "def replace_by_index(some_string, index, value):\n",
    "    l = list(some_string)\n",
    "    l[index] = value\n",
    "    ret = ''.join(l)\n",
    "    return ret"
   ]
  },
  {
   "cell_type": "code",
   "execution_count": 470,
   "metadata": {},
   "outputs": [
    {
     "data": {
      "text/plain": [
       "'Какой-то текст'"
      ]
     },
     "execution_count": 470,
     "metadata": {},
     "output_type": "execute_result"
    }
   ],
   "source": [
    "replace_by_index('Какой+то текст', 5, '-')"
   ]
  },
  {
   "cell_type": "markdown",
   "metadata": {},
   "source": [
    "#### Задание 2."
   ]
  },
  {
   "cell_type": "markdown",
   "metadata": {},
   "source": [
    "Функция на вход получает некую строку. На выходе необходимо вернуть строку без пробелов"
   ]
  },
  {
   "cell_type": "code",
   "execution_count": 492,
   "metadata": {},
   "outputs": [],
   "source": [
    "# Вариант 1 (простейший):\n",
    "def edit_string(s):\n",
    "    s = s.replace(' ', '')\n",
    "    return s"
   ]
  },
  {
   "cell_type": "code",
   "execution_count": 478,
   "metadata": {},
   "outputs": [],
   "source": [
    "# Вариант 2 (через строки):\n",
    "def edit_string(s):\n",
    "    ret = ''\n",
    "    for i in s:\n",
    "        if i != ' ':\n",
    "            ret += i\n",
    "    return ret"
   ]
  },
  {
   "cell_type": "code",
   "execution_count": 480,
   "metadata": {},
   "outputs": [],
   "source": [
    "# Вариант 2 (через строки, уточненный):\n",
    "def edit_string(s):\n",
    "    if ' ' in s:  \n",
    "        ret = ''\n",
    "        for i in s:\n",
    "            if i != ' ':\n",
    "                ret += i\n",
    "    else:\n",
    "        ret = s\n",
    "    return ret"
   ]
  },
  {
   "cell_type": "code",
   "execution_count": 502,
   "metadata": {},
   "outputs": [],
   "source": [
    "# Вариант 3 (через списки):\n",
    "def edit_string(s):\n",
    "    l = list(s)\n",
    "    if ' ' in l:\n",
    "        l = [x for x in l if x!=' ']\n",
    "    ret = ''\n",
    "    for i in l:\n",
    "        ret += i\n",
    "    return ret"
   ]
  },
  {
   "cell_type": "code",
   "execution_count": 1,
   "metadata": {},
   "outputs": [],
   "source": [
    "# Вариант 4 (для тех, кто уже знает Python):\n",
    "def edit_string(s):\n",
    "    if ' ' in s:\n",
    "        r = s.split(' ')\n",
    "        ret = ''.join(r)\n",
    "    else:\n",
    "        ret = s\n",
    "    return ret"
   ]
  },
  {
   "cell_type": "code",
   "execution_count": 2,
   "metadata": {},
   "outputs": [
    {
     "name": "stdout",
     "output_type": "stream",
     "text": [
      "Строкаспробелами,какими-тодефисамиипрочимизнакамипрепинания!\n"
     ]
    }
   ],
   "source": [
    "print(edit_string('Строка с пробелами, какими-то дефисами и прочими знаками препинания!'))"
   ]
  },
  {
   "cell_type": "markdown",
   "metadata": {},
   "source": [
    "#### Задание 2.2."
   ]
  },
  {
   "cell_type": "markdown",
   "metadata": {},
   "source": [
    "Та же функция, только строка должна быть развернута в обратном порядке"
   ]
  },
  {
   "cell_type": "code",
   "execution_count": 497,
   "metadata": {},
   "outputs": [],
   "source": [
    "# Варинат 1 (простейший):\n",
    "def edit_string(s):\n",
    "    s = s.replace(' ', '')\n",
    "    s = s[::-1]\n",
    "    return s"
   ]
  },
  {
   "cell_type": "code",
   "execution_count": 182,
   "metadata": {},
   "outputs": [],
   "source": [
    "# Вариант 2:\n",
    "def edit_string(s):\n",
    "    if ' ' in s:\n",
    "        r = s.split(' ')\n",
    "        ret = ''.join(r)\n",
    "    else:\n",
    "        ret = s\n",
    "    ret = ret[::-1]\n",
    "    return ret"
   ]
  },
  {
   "cell_type": "code",
   "execution_count": 496,
   "metadata": {},
   "outputs": [
    {
     "name": "stdout",
     "output_type": "stream",
     "text": [
      "простаястрока\n"
     ]
    }
   ],
   "source": [
    "print(edit_string('акортс яатсорп'))"
   ]
  },
  {
   "cell_type": "markdown",
   "metadata": {},
   "source": [
    "#### Задание 2.3."
   ]
  },
  {
   "cell_type": "markdown",
   "metadata": {},
   "source": [
    "Взять исходную функцию по обработке строки (удаление пробелов) и добавить в неё второй параметр: удаляемый символ, чтобы эту функцию можно было использовать не только для удаления пробелов, но и любого другого символа из строки."
   ]
  },
  {
   "cell_type": "code",
   "execution_count": 518,
   "metadata": {},
   "outputs": [],
   "source": [
    "# Вариант 1:\n",
    "def edit_string(s, p):\n",
    "    s = s.replace(p, '')\n",
    "    return s"
   ]
  },
  {
   "cell_type": "code",
   "execution_count": 519,
   "metadata": {},
   "outputs": [],
   "source": [
    "# Вариант 2:\n",
    "def edit_string(s, p):\n",
    "    if p in s:\n",
    "        r = s.split(p)\n",
    "        ret = ''.join(r)\n",
    "    else:\n",
    "        ret = s\n",
    "    return ret"
   ]
  },
  {
   "cell_type": "code",
   "execution_count": 520,
   "metadata": {},
   "outputs": [
    {
     "name": "stdout",
     "output_type": "stream",
     "text": [
      "Постая стока\n"
     ]
    }
   ],
   "source": [
    "print(edit_string('Простая строка', 'р'))"
   ]
  },
  {
   "cell_type": "markdown",
   "metadata": {},
   "source": [
    "#### Задание 2.4."
   ]
  },
  {
   "cell_type": "markdown",
   "metadata": {},
   "source": [
    "Удаляемый символ может быть как одним, так и в виде списка."
   ]
  },
  {
   "cell_type": "code",
   "execution_count": 521,
   "metadata": {},
   "outputs": [],
   "source": [
    "# Вариант 1:\n",
    "def edit_string(s, l):\n",
    "    if type(l) != list:\n",
    "        l = [l]\n",
    "    for p in l: \n",
    "        s = s.replace(p, '')\n",
    "    return s"
   ]
  },
  {
   "cell_type": "code",
   "execution_count": 522,
   "metadata": {},
   "outputs": [],
   "source": [
    "# Вариант 2:\n",
    "def edit_string(s, l):\n",
    "    ret = s\n",
    "    if type(l) != list:\n",
    "        l = [l]\n",
    "    for p in l:    \n",
    "        if p in ret:\n",
    "            r = ret.split(p)\n",
    "            ret = ''.join(r)\n",
    "    return ret"
   ]
  },
  {
   "cell_type": "code",
   "execution_count": 524,
   "metadata": {},
   "outputs": [
    {
     "name": "stdout",
     "output_type": "stream",
     "text": [
      "Строкаспробеламикакимитодефисамиипрочимизначамипрепинания\n"
     ]
    }
   ],
   "source": [
    "print(edit_string('Строка с пробелами, какими-то дефисами и прочими значами препинания!', [',', '.', ' ', '!', '?', '-']))"
   ]
  },
  {
   "cell_type": "markdown",
   "metadata": {},
   "source": [
    "---"
   ]
  },
  {
   "cell_type": "markdown",
   "metadata": {},
   "source": [
    "### Кортежи"
   ]
  },
  {
   "cell_type": "markdown",
   "metadata": {},
   "source": [
    "Кортежи (tuple) - те же списки, только неизменяемые. "
   ]
  },
  {
   "cell_type": "code",
   "execution_count": 395,
   "metadata": {},
   "outputs": [
    {
     "name": "stdout",
     "output_type": "stream",
     "text": [
      "(1, 2, 3, 4, 3, 2, 1, 'Стол', 'Стул', 42, (1, 2, 3, 2, 1), {1: 'один', 2: 'два'}, [11, 12], 99)\n",
      "('Т', 'е', 'п', 'е', 'р', 'ь', ' ', 'э', 'т', 'о', ' ', 'с', 'п', 'и', 'с', 'о', 'к')\n",
      "<generator object <genexpr> at 0x0000025C4DD66318>\n",
      "(0, 1, 2, 3, 4, 5, 6, 7, 8, 9)\n",
      "1\n",
      "<class 'int'>\n",
      "(1,)\n",
      "<class 'tuple'>\n",
      "1\n",
      "(1,)\n"
     ]
    }
   ],
   "source": [
    "# Создать кортеж можно аналогично списку:\n",
    "# 1. Как перечисление элементов в круглых скобках ():\n",
    "t = (1,2,3,4,3,2,1,'Стол', 'Стул', 42, (1,2,3,2,1), {1:'один', 2:'два'}, [11,12], 99)\n",
    "print(t)\n",
    "\n",
    "# 2. С помощью функции tuple и итерируемого объекта, например строки:\n",
    "t = tuple('Теперь это список')\n",
    "print(t)\n",
    "\n",
    "# Но генератор в чистом виде для кортежей не работает:\n",
    "t = (i for i in range(10))\n",
    "print(t)\n",
    "\n",
    "# В таких случаях необходимо в явно виде указывать конструктор tuple:\n",
    "t = tuple(i for i in range(10))\n",
    "print(t)\n",
    "\n",
    "# Также не получится создать кортеж из 1 элемента:\n",
    "t = (1)\n",
    "print(t)\n",
    "print(type(t))\n",
    "\n",
    "# Для этого необходимо использовать запись вида:\n",
    "t = (1,)\n",
    "print(t)\n",
    "print(type(t))\n",
    "\n",
    "# Это выглядит как список из 2 элементов, но таковым не является:\n",
    "print(len(t))\n",
    "\n",
    "# Аналогично можно записать инициацию без скобок (но не рекомендуется):\n",
    "t = 1,\n",
    "print(t)"
   ]
  },
  {
   "cell_type": "markdown",
   "metadata": {},
   "source": [
    "Последняя запись порождает гордость питонистов: возможность поменять местами переменные"
   ]
  },
  {
   "cell_type": "code",
   "execution_count": 398,
   "metadata": {},
   "outputs": [
    {
     "name": "stdout",
     "output_type": "stream",
     "text": [
      "1 2\n",
      "2 1\n"
     ]
    }
   ],
   "source": [
    "a = 1\n",
    "b = 2\n",
    "print(a, b)\n",
    "a,b = b,a\n",
    "print(a, b)"
   ]
  },
  {
   "cell_type": "markdown",
   "metadata": {},
   "source": [
    "Также, в отличие от списков, кортежи занимают меньше места в памяти:"
   ]
  },
  {
   "cell_type": "code",
   "execution_count": 379,
   "metadata": {},
   "outputs": [
    {
     "data": {
      "text/plain": [
       "(56, 72)"
      ]
     },
     "execution_count": 379,
     "metadata": {},
     "output_type": "execute_result"
    }
   ],
   "source": [
    "t = (1, 2, 3, 4)\n",
    "l = [1, 2, 3, 4]\n",
    "t.__sizeof__(), l.__sizeof__()"
   ]
  },
  {
   "cell_type": "markdown",
   "metadata": {},
   "source": [
    "В остальном, с ними можно работать так же, как и со списками (за исключением операций, которые изменяют кортеж):"
   ]
  },
  {
   "cell_type": "code",
   "execution_count": 411,
   "metadata": {},
   "outputs": [
    {
     "name": "stdout",
     "output_type": "stream",
     "text": [
      "('К', 'о', 'р', 'т', 'е', 'ж')\n",
      "6\n",
      "т\n",
      "0\n",
      "True\n",
      "К-о-р-т-е-ж\n"
     ]
    }
   ],
   "source": [
    "t = tuple('Кортеж')\n",
    "print(t)\n",
    "\n",
    "print(len(t))\n",
    "\n",
    "print(t[3])\n",
    "\n",
    "print(t.count(4))\n",
    "\n",
    "print('ж' in t)\n",
    "\n",
    "print('-'.join(t))"
   ]
  },
  {
   "cell_type": "markdown",
   "metadata": {},
   "source": [
    "---"
   ]
  },
  {
   "cell_type": "markdown",
   "metadata": {},
   "source": [
    "#### Задание 3."
   ]
  },
  {
   "cell_type": "markdown",
   "metadata": {},
   "source": [
    "Написать функцию, которая принимает на вход кортеж и возвращает на вход кортеж с элементами в обратном порядке."
   ]
  },
  {
   "cell_type": "code",
   "execution_count": 540,
   "metadata": {},
   "outputs": [],
   "source": [
    "# Вариант 1:\n",
    "def reverse_tuple(t):\n",
    "    l = list(t)\n",
    "    l.reverse()\n",
    "    ret = tuple(l)\n",
    "    return ret"
   ]
  },
  {
   "cell_type": "code",
   "execution_count": 542,
   "metadata": {},
   "outputs": [],
   "source": [
    "# Вариант 2:\n",
    "def reverse_tuple(t):\n",
    "    ret = t[::-1]\n",
    "    return ret"
   ]
  },
  {
   "cell_type": "code",
   "execution_count": 543,
   "metadata": {},
   "outputs": [
    {
     "data": {
      "text/plain": [
       "('ж', 'е', 'т', 'р', 'о', 'К')"
      ]
     },
     "execution_count": 543,
     "metadata": {},
     "output_type": "execute_result"
    }
   ],
   "source": [
    "t = tuple('Кортеж')\n",
    "reverse_tuple(t)"
   ]
  },
  {
   "cell_type": "markdown",
   "metadata": {},
   "source": [
    "---"
   ]
  },
  {
   "cell_type": "markdown",
   "metadata": {},
   "source": [
    "### Словари"
   ]
  },
  {
   "cell_type": "markdown",
   "metadata": {},
   "source": [
    "Словари (dict) - неупорядоченная коллекция произвольных объектов с доступом по ключу. Создать словари можно 4 способами:"
   ]
  },
  {
   "cell_type": "code",
   "execution_count": 239,
   "metadata": {},
   "outputs": [
    {
     "name": "stdout",
     "output_type": "stream",
     "text": [
      "<class 'dict'>\n",
      "{1: 'one', 2: 'two', 3: 'three'}\n",
      "{'ru': 'один', 'eng': 'one'}\n",
      "{'a': 100, 'b': 100}\n",
      "{1: 1, 2: 4, 3: 9, 4: 16, 5: 25, 6: 36, 7: 49, 8: 64, 9: 81, 10: 100}\n"
     ]
    }
   ],
   "source": [
    "# С помощью литерала:\n",
    "d = {}\n",
    "print(type(d))\n",
    "\n",
    "d = {1:'one', 2:'two', 3:'three'}\n",
    "print(d)\n",
    "\n",
    "# С помощью функции dict:\n",
    "d = dict(ru='один', eng='one')\n",
    "print(d)\n",
    "\n",
    "# с помощью функции fromkeys (все ключи будут иметь одно значение):\n",
    "d = dict.fromkeys(['a', 'b'], 100)\n",
    "print(d)\n",
    "\n",
    "# с помощью генератора:\n",
    "d = {i:i**2 for i in range(1,11)}\n",
    "print(d)"
   ]
  },
  {
   "cell_type": "code",
   "execution_count": 240,
   "metadata": {},
   "outputs": [
    {
     "name": "stdout",
     "output_type": "stream",
     "text": [
      "9\n",
      "{1: 1, 2: 256, 3: 9, 4: 16, 5: 25, 6: 36, 7: 49, 8: 64, 9: 81, 10: 100}\n",
      "{1: 1, 2: 256, 3: 9, 4: 16, 5: 25, 6: 36, 7: 49, 8: 64, 9: 81, 10: 100, 11: 121}\n"
     ]
    }
   ],
   "source": [
    "# В словарям можно обращаться по ключу:\n",
    "d = {i:i**2 for i in range(1,11)}\n",
    "print(d[3])\n",
    "\n",
    "\n",
    "# Можно менять значение по ключу\n",
    "d[2] = 256\n",
    "print(d)\n",
    "\n",
    "# При обращении к словарю по несуществующему ключу произойдёт ошибка. Но, если вместе с этим ключом передать значение, то \n",
    "# оно сохранится:\n",
    "d[11] = 121\n",
    "print(d)"
   ]
  },
  {
   "cell_type": "markdown",
   "metadata": {},
   "source": [
    "У словарей есть ряд полезных функций:"
   ]
  },
  {
   "cell_type": "code",
   "execution_count": 283,
   "metadata": {},
   "outputs": [
    {
     "name": "stdout",
     "output_type": "stream",
     "text": [
      "None\n",
      "144\n",
      "dict_items([(1, 1), (2, 4), (3, 9), (4, 16), (5, 25), (6, 36), (7, 49), (8, 64), (9, 81), (10, 100)])\n",
      "dict_keys([1, 2, 3, 4, 5, 6, 7, 8, 9, 10])\n",
      "dict_values([1, 4, 9, 16, 25, 36, 49, 64, 81, 100])\n",
      "{1: 1, 2: 4, 3: 9, 4: 16, 5: 25, 6: 36, 7: 49, 8: 64, 9: 81, 10: 100, 11: 121, 12: 144}\n",
      "144\n",
      "{1: 1, 2: 4, 3: 9, 4: 16, 5: 25, 6: 36, 7: 49, 8: 64, 9: 81, 10: 100, 11: 121}\n",
      "{}\n"
     ]
    }
   ],
   "source": [
    "# Обращение к словарю может быть выполнено не через ключ, а через метод get, при этом можно дополнительно прописать поведение\n",
    "# для случаев, когда значение по ключу не найдено:\n",
    "d = {i:i**2 for i in range(1,11)}\n",
    "print(d.get(12))\n",
    "print(d.get(12, 144))\n",
    "\n",
    "# Отображение всех пар в словаре:\n",
    "print(d.items())\n",
    "\n",
    "# Отображение всех ключей в словаре:\n",
    "print(d.keys())\n",
    "\n",
    "# Отображение всех значений в словаре:\n",
    "print(d.values())\n",
    "\n",
    "# Добавление новой пары:\n",
    "d.update({11: 121, 12:144})\n",
    "print(d)\n",
    "\n",
    "# Удаление пары с выводом:\n",
    "print(d.pop(12))\n",
    "print(d)\n",
    "\n",
    "# Или удаление всего словаря:\n",
    "d.clear()\n",
    "print(d)"
   ]
  },
  {
   "cell_type": "markdown",
   "metadata": {},
   "source": [
    "Словари удобно использовать как некий упрощенный аналог switch-case в С:"
   ]
  },
  {
   "cell_type": "code",
   "execution_count": 528,
   "metadata": {},
   "outputs": [],
   "source": [
    "def check_apple(color):\n",
    "    statuses = {'красное': 'Можно есть',\n",
    "                'желтое': 'Почти созрело',\n",
    "                'зеленое': 'Ещё рано'}\n",
    "    print(statuses.get(color.lower(), 'Не стоит есть такое яблоко'))"
   ]
  },
  {
   "cell_type": "code",
   "execution_count": 532,
   "metadata": {},
   "outputs": [
    {
     "name": "stdout",
     "output_type": "stream",
     "text": [
      "Можно есть\n",
      "Почти созрело\n",
      "Не стоит есть такое яблоко\n"
     ]
    }
   ],
   "source": [
    "check_apple('Красное')\n",
    "check_apple('желтое')\n",
    "check_apple('Синее')"
   ]
  },
  {
   "cell_type": "markdown",
   "metadata": {},
   "source": [
    "В версии 3.9 для словарей добавились операторы слияния (|) и обновления (|=). Они заменят конструкции вида {\\*\\*dict1, \\*\\*dict2}."
   ]
  },
  {
   "cell_type": "markdown",
   "metadata": {},
   "source": [
    "---"
   ]
  },
  {
   "cell_type": "markdown",
   "metadata": {},
   "source": [
    "#### Задание 4."
   ]
  },
  {
   "cell_type": "markdown",
   "metadata": {},
   "source": [
    "Написать функцию, которая будет на вход получать число (от 1 до 10) и кодировку языка ('ru', 'en') и выводить число и название числа на соответствующем языке."
   ]
  },
  {
   "cell_type": "code",
   "execution_count": 224,
   "metadata": {},
   "outputs": [],
   "source": [
    "# Вариант 1:\n",
    "def translate_num(num, lang):\n",
    "    d = {1:{'ru':'один', 'en':'one'}, \n",
    "         2:{'ru':'два', 'en':'two'}, \n",
    "         3:{'ru':'три', 'en':'three'}, \n",
    "         4:{'ru':'четыре', 'en':'four'}, \n",
    "         5:{'ru':'пять', 'en':'five'}, \n",
    "         6:{'ru':'шесть', 'en':'six'}, \n",
    "         7:{'ru':'семь', 'en':'seven'}, \n",
    "         8:{'ru':'восемь', 'en':'eight'}, \n",
    "         9:{'ru':'девять', 'en':'nine'}, \n",
    "         10:{'ru':'десять', 'en':'ten'}}\n",
    "    ret = d[num][lang]\n",
    "    print(f'{num} - {ret}')"
   ]
  },
  {
   "cell_type": "code",
   "execution_count": 544,
   "metadata": {},
   "outputs": [],
   "source": [
    "# Вариант 2:\n",
    "def translate_num(num, lang):\n",
    "    d_ru = {1:'один', 2:'два', 3:'три', 4:'четыре', 5:'пять', 6:'шесть', 7:'семь', 8:'восемь', 9: 'девять', 10:'десять'}\n",
    "    d_en = {1:'one', 2:'two', 3:'three', 4:'four', 5:'five', 6:'six', 7:'seven', 8:'eight', 9: 'nine', 10:'ten'}\n",
    "    d = {'ru':d_ru, 'en':d_en}\n",
    "    ret = d[lang][num]\n",
    "    print(f'{num} - {ret}')"
   ]
  },
  {
   "cell_type": "code",
   "execution_count": 545,
   "metadata": {},
   "outputs": [
    {
     "name": "stdout",
     "output_type": "stream",
     "text": [
      "1 - one\n",
      "2 - two\n",
      "3 - three\n",
      "4 - four\n",
      "5 - five\n",
      "6 - six\n",
      "7 - seven\n",
      "8 - eight\n",
      "9 - nine\n",
      "10 - ten\n"
     ]
    }
   ],
   "source": [
    "for i in range(1, 11):\n",
    "    translate_num(i, 'en')"
   ]
  },
  {
   "cell_type": "markdown",
   "metadata": {},
   "source": [
    "---"
   ]
  },
  {
   "cell_type": "markdown",
   "metadata": {},
   "source": [
    "### Множества"
   ]
  },
  {
   "cell_type": "markdown",
   "metadata": {},
   "source": [
    "Множества - это кортежи, содержащие неповторяющиеся значения:"
   ]
  },
  {
   "cell_type": "code",
   "execution_count": 11,
   "metadata": {},
   "outputs": [
    {
     "name": "stdout",
     "output_type": "stream",
     "text": [
      "{1, 2, 3, 4}\n",
      "{'в', 'л', 'С', 'о'}\n",
      "{1, 2, 3, 4}\n"
     ]
    }
   ],
   "source": [
    "s = set([1,2,3,4,3,2,1])\n",
    "print(s)\n",
    "\n",
    "s = set('Слово')\n",
    "print(s)\n",
    "\n",
    "s = {1,2,3,4,3,2,1}\n",
    "print(s)"
   ]
  },
  {
   "cell_type": "markdown",
   "metadata": {},
   "source": [
    "Инициация происходит с помощью функции set() или литералов {}, аналогично словарям, с той лишь разницей, что пустое множество так создать нельзя:"
   ]
  },
  {
   "cell_type": "code",
   "execution_count": 13,
   "metadata": {},
   "outputs": [
    {
     "data": {
      "text/plain": [
       "(set, set, set, dict)"
      ]
     },
     "execution_count": 13,
     "metadata": {},
     "output_type": "execute_result"
    }
   ],
   "source": [
    "type(set([1,2,3])), type({1,2,3}), type(set()), type({})"
   ]
  },
  {
   "cell_type": "markdown",
   "metadata": {},
   "source": [
    "Другой способ создания множества - использование генераторов:"
   ]
  },
  {
   "cell_type": "code",
   "execution_count": 35,
   "metadata": {},
   "outputs": [
    {
     "name": "stdout",
     "output_type": "stream",
     "text": [
      "{0, 1, 2, 3, 4, 5, 6, 7, 8, 9}\n"
     ]
    }
   ],
   "source": [
    "s = {i for i in range(10)}\n",
    "print(s)"
   ]
  },
  {
   "cell_type": "markdown",
   "metadata": {},
   "source": [
    "Множества удобно использовать для удаления дублирующихся элементов в списке."
   ]
  },
  {
   "cell_type": "markdown",
   "metadata": {},
   "source": [
    "Множества поддерживают индексы, но не так полно, как кортежи:"
   ]
  },
  {
   "cell_type": "code",
   "execution_count": 36,
   "metadata": {},
   "outputs": [
    {
     "name": "stdout",
     "output_type": "stream",
     "text": [
      "0-1-2-3-4-5-6-7-8-9-"
     ]
    },
    {
     "ename": "TypeError",
     "evalue": "'set' object is not subscriptable",
     "output_type": "error",
     "traceback": [
      "\u001b[1;31m---------------------------------------------------------------------------\u001b[0m",
      "\u001b[1;31mTypeError\u001b[0m                                 Traceback (most recent call last)",
      "\u001b[1;32m<ipython-input-36-ae28775d82de>\u001b[0m in \u001b[0;36m<module>\u001b[1;34m\u001b[0m\n\u001b[0;32m      4\u001b[0m \u001b[1;33m\u001b[0m\u001b[0m\n\u001b[0;32m      5\u001b[0m \u001b[1;31m# Однако, читать отдельный элемент множества по индексу или, тем более, изменять его - нельзя:\u001b[0m\u001b[1;33m\u001b[0m\u001b[1;33m\u001b[0m\u001b[1;33m\u001b[0m\u001b[0m\n\u001b[1;32m----> 6\u001b[1;33m \u001b[0mprint\u001b[0m\u001b[1;33m(\u001b[0m\u001b[0ms\u001b[0m\u001b[1;33m[\u001b[0m\u001b[1;36m3\u001b[0m\u001b[1;33m]\u001b[0m\u001b[1;33m)\u001b[0m\u001b[1;33m\u001b[0m\u001b[1;33m\u001b[0m\u001b[0m\n\u001b[0m",
      "\u001b[1;31mTypeError\u001b[0m: 'set' object is not subscriptable"
     ]
    }
   ],
   "source": [
    "# Можно проходиться по элементам множества:\n",
    "for i in s:\n",
    "    print(i, end='-')\n",
    "    \n",
    "# Однако, читать отдельный элемент множества по индексу или, тем более, изменять его - нельзя:\n",
    "print(s[3])"
   ]
  },
  {
   "cell_type": "markdown",
   "metadata": {},
   "source": [
    "Для изменения множеств используются следующие методы:"
   ]
  },
  {
   "cell_type": "code",
   "execution_count": 51,
   "metadata": {},
   "outputs": [
    {
     "name": "stdout",
     "output_type": "stream",
     "text": [
      "{0, 1, 2, 3, 4, 5, 6, 7, 8, 9, 10}\n",
      "{0, 1, 2, 3, 4, 5, 6, 7, 8, 9}\n",
      "{0, 1, 2, 3, 4, 5, 6, 7, 8, 9}\n",
      "{0, 1, 2, 3, 4, 5, 6, 7, 8}\n",
      "{0, 1, 2, 3, 4, 5, 6, 7, 8, 10, 11, 12}\n",
      "{0, 1, 2, 3, 4, 5, 6, 7, 8}\n",
      "{0, 1, 2, 3, 4, 5, 6, 7, 8, 10, 11, 12}\n",
      "{1, 2, 3, 4, 5, 6, 7, 8, 10, 11, 12}\n",
      "set()\n"
     ]
    }
   ],
   "source": [
    "s = {i for i in range(10)}\n",
    "\n",
    "# Добавление элемента в множество:\n",
    "s.add(10)\n",
    "print(s)\n",
    "\n",
    "# Удаление элемента из множества:\n",
    "s.remove(10)\n",
    "print(s)\n",
    "\n",
    "# Более удобной может показаться метод discard, который, в отличие от remove, в случае отсутствия элемента \n",
    "# в множесте не выдаст ошибку:\n",
    "s.discard(10)\n",
    "print(s)\n",
    "s.discard(9)\n",
    "print(s)\n",
    "\n",
    "# Для объединения нескольких множеств используется метод union:\n",
    "print(s.union({10,11,12}))\n",
    "\n",
    "# Однако, метод union производит объединение без обновления множества:\n",
    "print(s)\n",
    "\n",
    "# Обновление множества можно выполнить либо присвоением результатов операции union переменной (s.union({10,11,12})), \n",
    "# либо с помощью метода update:\n",
    "s.update({10,11,12})\n",
    "print(s)\n",
    "\n",
    "# Удаление первого элемента списка:\n",
    "s.pop()\n",
    "print(s)\n",
    "\n",
    "# Полная очистка списка:\n",
    "s.clear()\n",
    "print(s)"
   ]
  },
  {
   "cell_type": "markdown",
   "metadata": {},
   "source": [
    "Множества обладают и другими полезными методами (пересечения, вычитание множеств и т.д.), которые останутся для самостоятельного изучения."
   ]
  },
  {
   "cell_type": "markdown",
   "metadata": {},
   "source": [
    "---"
   ]
  },
  {
   "cell_type": "markdown",
   "metadata": {},
   "source": [
    "### Фиксированные множества"
   ]
  },
  {
   "cell_type": "markdown",
   "metadata": {},
   "source": [
    "Фиксированные множества отличаются от обычных, как это не парадоксально, тем, что их нельзя изменять (аналогично спискам и кортежам):"
   ]
  },
  {
   "cell_type": "code",
   "execution_count": 48,
   "metadata": {},
   "outputs": [
    {
     "name": "stdout",
     "output_type": "stream",
     "text": [
      "True\n",
      "{'t', 1, 's', 'e'}\n"
     ]
    },
    {
     "ename": "AttributeError",
     "evalue": "'frozenset' object has no attribute 'add'",
     "output_type": "error",
     "traceback": [
      "\u001b[1;31m---------------------------------------------------------------------------\u001b[0m",
      "\u001b[1;31mAttributeError\u001b[0m                            Traceback (most recent call last)",
      "\u001b[1;32m<ipython-input-48-383b9e011544>\u001b[0m in \u001b[0;36m<module>\u001b[1;34m\u001b[0m\n\u001b[0;32m      4\u001b[0m \u001b[0ms\u001b[0m\u001b[1;33m.\u001b[0m\u001b[0madd\u001b[0m\u001b[1;33m(\u001b[0m\u001b[1;36m1\u001b[0m\u001b[1;33m)\u001b[0m\u001b[1;33m\u001b[0m\u001b[1;33m\u001b[0m\u001b[0m\n\u001b[0;32m      5\u001b[0m \u001b[0mprint\u001b[0m\u001b[1;33m(\u001b[0m\u001b[0ms\u001b[0m\u001b[1;33m)\u001b[0m\u001b[1;33m\u001b[0m\u001b[1;33m\u001b[0m\u001b[0m\n\u001b[1;32m----> 6\u001b[1;33m \u001b[0msf\u001b[0m\u001b[1;33m.\u001b[0m\u001b[0madd\u001b[0m\u001b[1;33m(\u001b[0m\u001b[1;36m1\u001b[0m\u001b[1;33m)\u001b[0m \u001b[1;31m# AttributeError: 'frozenset' object has no attribute 'add'\u001b[0m\u001b[1;33m\u001b[0m\u001b[1;33m\u001b[0m\u001b[0m\n\u001b[0m",
      "\u001b[1;31mAttributeError\u001b[0m: 'frozenset' object has no attribute 'add'"
     ]
    }
   ],
   "source": [
    "s = set('set')\n",
    "sf = frozenset('set')\n",
    "print(s == sf)\n",
    "s.add(1)\n",
    "print(s)\n",
    "sf.add(1) # AttributeError: 'frozenset' object has no attribute 'add'"
   ]
  },
  {
   "cell_type": "markdown",
   "metadata": {},
   "source": [
    "---"
   ]
  },
  {
   "cell_type": "markdown",
   "metadata": {},
   "source": [
    "#### Задание 5."
   ]
  },
  {
   "cell_type": "markdown",
   "metadata": {},
   "source": [
    "Написать функцию, которая будет получать на вход строку и возвращать словарь с количеством повторений каждого знака в слове."
   ]
  },
  {
   "cell_type": "code",
   "execution_count": 323,
   "metadata": {},
   "outputs": [],
   "source": [
    "def count_char(some_string):\n",
    "    some_string = some_string.lower()\n",
    "    s = set(some_string)\n",
    "    d = {}\n",
    "    for i in s:\n",
    "        d[i] = some_string.count(i)\n",
    "    return d    "
   ]
  },
  {
   "cell_type": "code",
   "execution_count": 325,
   "metadata": {},
   "outputs": [
    {
     "data": {
      "text/plain": [
       "{'а': 3,\n",
       " 'к': 5,\n",
       " 'и': 3,\n",
       " 'я': 1,\n",
       " 'н': 2,\n",
       " ' ': 7,\n",
       " 'з': 1,\n",
       " ',': 1,\n",
       " 'м': 2,\n",
       " 'ы': 1,\n",
       " 'ж': 1,\n",
       " 'в': 3,\n",
       " 'д': 2,\n",
       " 'ь': 1,\n",
       " 'р': 1,\n",
       " 'с': 5,\n",
       " 'х': 1,\n",
       " 'е': 4,\n",
       " 'ч': 1,\n",
       " 'л': 1,\n",
       " 'о': 8,\n",
       " 'п': 1,\n",
       " 'т': 5,\n",
       " 'э': 1}"
      ]
     },
     "execution_count": 325,
     "metadata": {},
     "output_type": "execute_result"
    }
   ],
   "source": [
    "count_char('Посчитаем, сколько одинаковых знаков содержится в этом тексте')"
   ]
  },
  {
   "cell_type": "markdown",
   "metadata": {},
   "source": [
    "#### Задание 6."
   ]
  },
  {
   "cell_type": "markdown",
   "metadata": {},
   "source": [
    "У нас уже есть функция, которая проверяет тип числа. Напишем ещё одну функцию, которая из полученного списка значений будет выбирать список уникальных значений заданного типа.    "
   ]
  },
  {
   "cell_type": "code",
   "execution_count": 604,
   "metadata": {},
   "outputs": [],
   "source": [
    "def check_type(x, checking_type):\n",
    "    ret = type(x) == checking_type\n",
    "    return  ret\n",
    "\n",
    "def get_unique(l, checking_type):\n",
    "    ret = set(l)\n",
    "    ret = [x for x in ret if check_type(x, checking_type)]\n",
    "    return ret"
   ]
  },
  {
   "cell_type": "code",
   "execution_count": 605,
   "metadata": {},
   "outputs": [
    {
     "data": {
      "text/plain": [
       "[0.3, 4.7, 2.2]"
      ]
     },
     "execution_count": 605,
     "metadata": {},
     "output_type": "execute_result"
    }
   ],
   "source": [
    "get_unique([1,2,3,2,1, 2.2, 4.7, 'a', 'str', 7, 0.3], float)"
   ]
  },
  {
   "cell_type": "markdown",
   "metadata": {},
   "source": [
    "#### Задание 6.2. "
   ]
  },
  {
   "cell_type": "markdown",
   "metadata": {},
   "source": [
    "Функция поиска уникальных значений в версии реализации выше не умеет работать со списками и множествами. Доработать функцию так, чтобы:\n",
    " - Она не завершалась ошибкой при получении на вход списков и множеств;\n",
    " - Анализировала элементы вложенных списков и множеств на общем основании, как если бы они были в родительском списке (это касается всех уровней вложенности). Например: [1,2,[3,4,[5,6]]] воспринималось бы как [1,2,3,4,5,6]."
   ]
  },
  {
   "cell_type": "code",
   "execution_count": 606,
   "metadata": {},
   "outputs": [],
   "source": [
    "def get_unique(l, checking_type):\n",
    "    if checking_type in [list, dict, set, frozenset, tuple]:\n",
    "        print('Функция работает только с простыми типами данных')\n",
    "    for i in l:\n",
    "        if check_type(i, list):\n",
    "            pop_index = l.index(i)\n",
    "            pop_item = l.pop(pop_index)\n",
    "            l.extend(pop_item)\n",
    "    ret = set(l)\n",
    "    ret = [x for x in ret if check_type(x, checking_type)]\n",
    "    return ret"
   ]
  },
  {
   "cell_type": "code",
   "execution_count": 607,
   "metadata": {},
   "outputs": [
    {
     "data": {
      "text/plain": [
       "[1, 2, 3, 7, 9]"
      ]
     },
     "execution_count": 607,
     "metadata": {},
     "output_type": "execute_result"
    }
   ],
   "source": [
    "get_unique([1,2,3,2,1, [2.2, 4.7, [3.1, 9]], 'a', 'str', 7, 0.3], int)"
   ]
  }
 ],
 "metadata": {
  "kernelspec": {
   "display_name": "Python 3",
   "language": "python",
   "name": "python3"
  },
  "language_info": {
   "codemirror_mode": {
    "name": "ipython",
    "version": 3
   },
   "file_extension": ".py",
   "mimetype": "text/x-python",
   "name": "python",
   "nbconvert_exporter": "python",
   "pygments_lexer": "ipython3",
   "version": "3.7.3"
  }
 },
 "nbformat": 4,
 "nbformat_minor": 2
}
