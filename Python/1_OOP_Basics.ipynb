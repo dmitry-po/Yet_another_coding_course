{
 "cells": [
  {
   "cell_type": "markdown",
   "metadata": {},
   "source": [
    "# Основы программирования на Python."
   ]
  },
  {
   "cell_type": "markdown",
   "metadata": {},
   "source": [
    "## Часть 1: Основы Python и ООП"
   ]
  },
  {
   "cell_type": "markdown",
   "metadata": {},
   "source": [
    "### Python"
   ]
  },
  {
   "cell_type": "markdown",
   "metadata": {},
   "source": [
    "<table>\n",
    "    <tr>\n",
    "        <td><img src='../img/Python-logo.png' height='100' width='100'></td>\n",
    "        <td>\"Python  — высокоуровневый язык программирования общего назначения, ориентированный на повышение производительности разработчика и читаемости кода. Синтаксис ядра Python минималистичен. В то же время стандартная библиотека включает большой объём полезных функций.\"</td>\n",
    "    </tr>\n",
    "</table>"
   ]
  },
  {
   "cell_type": "markdown",
   "metadata": {},
   "source": [
    "#### Философия Python"
   ]
  },
  {
   "cell_type": "code",
   "execution_count": 2,
   "metadata": {
    "scrolled": false
   },
   "outputs": [
    {
     "name": "stdout",
     "output_type": "stream",
     "text": [
      "The Zen of Python, by Tim Peters\n",
      "\n",
      "Beautiful is better than ugly.\n",
      "Explicit is better than implicit.\n",
      "Simple is better than complex.\n",
      "Complex is better than complicated.\n",
      "Flat is better than nested.\n",
      "Sparse is better than dense.\n",
      "Readability counts.\n",
      "Special cases aren't special enough to break the rules.\n",
      "Although practicality beats purity.\n",
      "Errors should never pass silently.\n",
      "Unless explicitly silenced.\n",
      "In the face of ambiguity, refuse the temptation to guess.\n",
      "There should be one-- and preferably only one --obvious way to do it.\n",
      "Although that way may not be obvious at first unless you're Dutch.\n",
      "Now is better than never.\n",
      "Although never is often better than *right* now.\n",
      "If the implementation is hard to explain, it's a bad idea.\n",
      "If the implementation is easy to explain, it may be a good idea.\n",
      "Namespaces are one honking great idea -- let's do more of those!\n"
     ]
    }
   ],
   "source": [
    "import this"
   ]
  },
  {
   "cell_type": "markdown",
   "metadata": {},
   "source": [
    "#### Особенности языка:\n",
    " - Интерпретируемость - программа, написанная на Python, не требует предварительной компиляции и может выполняться в командной строке;\n",
    " - Портирован почти на все платформы;\n",
    " - Динамическая типизация - не требуется предварительное определение типа переменной, он может быть переопределен в любой момент исполнения кода;\n",
    " - Полная интроспекция - возможность запросить тип объекта в процессе исполнения кода; \n",
    " - Автоматическое управление памятью - объекты автоматически удаляются из памяти после завершения работы с ними, нет необходимости использовать сборщики мусора в явном виде. Однако, следует быть аккуратным при работе с большим количеством данных и/или данными большой размерности - при работе под Windows высвобожденная память возвращается обратно ОС в процессе работы программы, под Linux - нет, только по завершении; \n",
    " - Механизм обработки исключений;\n",
    " - Поддержка многопоточных вычислений (но не везде);\n",
    " - Высокоуровневые структуры данных;\n",
    " - Поддерживается разбиение программ на модули, которые, в свою очередь, могут объединяться в пакеты;\n",
    " - Большое количество разнообразных библиотек."
   ]
  },
  {
   "cell_type": "code",
   "execution_count": 3,
   "metadata": {},
   "outputs": [
    {
     "name": "stdout",
     "output_type": "stream",
     "text": [
      "3\n",
      "\n",
      "some text\n",
      "\n",
      "[1, 2, 'some', 3, 'text', [1, 'one'], {2: 'two'}]\n",
      "\n",
      "1 - <class 'int'>\n",
      "2 - <class 'int'>\n",
      "some - <class 'str'>\n",
      "3 - <class 'int'>\n",
      "text - <class 'str'>\n",
      "[1, 'one'] - <class 'list'>\n",
      "{2: 'two'} - <class 'dict'>\n"
     ]
    }
   ],
   "source": [
    "# Пример типизации и интроспекции\n",
    "# int a = 3\n",
    "\n",
    "a = 3\n",
    "print(a, end='\\n\\n')\n",
    "\n",
    "a = 'some text'\n",
    "print(a, end='\\n\\n')\n",
    "\n",
    "a = [1,2,'some', 3, 'text', [1, 'one'], {2:'two'}]\n",
    "print(a, end='\\n\\n')\n",
    "\n",
    "for i in a:\n",
    "    print(f'{i} - {type(i)}')"
   ]
  },
  {
   "cell_type": "markdown",
   "metadata": {},
   "source": [
    "#### Методологии программирования:\n",
    "Python поддерживает структурное, объектно-ориентированное, функциональное, императивное и аспектно-ориентированное программирование:\n",
    " - Структурное - программа в виде иерархической структуры блоков и 3-х управляющих структур: последовательность, ветвление, цикл. Разработка программы ведется пошагово;\n",
    " - Объектно-ориентированное - программа в виде совокупности взаимодействующих объектов (экземпляров классов);\n",
    " - Функциональное - программа в виде последовательности функций (преобразований) над исходными данными;\n",
    " - Императивное - программа в виде последовательного исполнения инструкций (команд). В отличие от функционального программирования, данные, получаемые после выполнения инструкций, могут быть записаны/прочитаны из памяти;\n",
    " - Аспектно-ориентированное - программа в виде взаимодействующих модулей (аспектов), реализующих \"сквозную\" функциональность."
   ]
  },
  {
   "cell_type": "markdown",
   "metadata": {},
   "source": [
    "### Объектно-ориентированное программирование (ООП)"
   ]
  },
  {
   "cell_type": "markdown",
   "metadata": {},
   "source": [
    "В основе парадигмы лежит попытка эмулировать объекты реального мира с помощью программных средств. По идее, это должно было решить задачу управляемости кодом и облегчить его читаемость/переиспользуемость. ООП, как правило, наилучшим образом проявляет себя в долгосрочной перспективе из-за более \"логичной\" компоновки объектов: все функции и свойства, относящиеся к одному объекту, содержатся в одном месте.\n",
    "\n",
    "Основой ООП являются классы - абстракции над объектами. Грубо можно назвать классы схемами/чертежами. Объекты - конкретные представители класса. Типичный пример: класс - \"Животные\", объекты - кошка, собака, слон. При этом, можно выделить дополнительные классы: верхнеуровневые (\"Млекопитающие\", \"Птицы\") или низкоуровневые (\"Кошачьи\", \"Псовые\", \"Слоновые\"). Классы определяют основные свойства (питаются молоком) и возможности (ходить, есть), объекты - закрепляют конкретные значений свойств и возможностей."
   ]
  },
  {
   "cell_type": "markdown",
   "metadata": {},
   "source": [
    "#### Основные свойства ООП:\n",
    " - Инкапсуляция - свойство, позволяющее объединить данные и методы, обрабатывающих их, внутри классов;\n",
    " - Наследование - свойство, позволяющее описать новый класс на основе уже существующего, используя или видоизменяя его данные и методы и добавляя собственные. Исходный класс называется базовым или родительским, новый - дочерним или потомком. Python поддерживает множественно наследование;\n",
    " - Полиморфизм - свойство, позволяющее иметь множество реализаций одного интерфейса, не зная о его содержимом.\n",
    "\n",
    "Другим важным понятием в ООП является упомянутая выше \"Абстракция\" - выделение значимой и исключение незначимой информации. Абстракцией пользуются для формирования структуры решения и определения классов. Выделяют \"уровни абстракции\". Например, в нашем случае, \"Животные\" - это первый уровень абстракции. Можно все свойства прописать в этом классе и создавать объекты непосредственно от него. Но в таком случае класс может содержать избыточную информацию и иметь сложную структуру. Введение второго уровня абстракции (\"Млекопитающие\", \"Птицы\") позволит сделать структуру более прозрачной и (относительно) легкой. Главное в этом процессе соблюдать баланс и не создавать лишних уровней абстракции."
   ]
  },
  {
   "cell_type": "markdown",
   "metadata": {},
   "source": [
    "Рассматривая пример с животными выше, класс \"Кошачьи\" будет дочерним по отношению к классу \"Животные\" и, соответственно, наследовать его свойства и возможности:"
   ]
  },
  {
   "cell_type": "code",
   "execution_count": 6,
   "metadata": {},
   "outputs": [],
   "source": [
    "# Объявим класс \"Млекопитающие\"\n",
    "class Mammal:\n",
    "    has_mammal_glands = True\n",
    "    m_type = 'Млекопитающее'\n",
    "    \n",
    "    def eat(self):\n",
    "        print(f'{self.m_type} покушало')\n",
    "        \n",
    "    def sleep(self):\n",
    "        print(f'{self.m_type} выспалось')"
   ]
  },
  {
   "cell_type": "markdown",
   "metadata": {},
   "source": [
    "В этом классе мы ввели свойство \"Имеет молочные железы\" (has_mammal_glands) и \"Тип животного\" (type), а также наделили его возможностью есть (eat) и спать (sleep). В этом заключается суть инкапсуляции - все, что относится в одному объекту, мы описали в рамках одного класса."
   ]
  },
  {
   "cell_type": "code",
   "execution_count": 7,
   "metadata": {},
   "outputs": [
    {
     "name": "stdout",
     "output_type": "stream",
     "text": [
      "Млекопитающее покушало\n"
     ]
    }
   ],
   "source": [
    "# Создадим экземпляр класса \"Млекопитающие\"\n",
    "m = Mammal()\n",
    "m.eat()"
   ]
  },
  {
   "cell_type": "markdown",
   "metadata": {},
   "source": [
    "Создадим наследников:"
   ]
  },
  {
   "cell_type": "code",
   "execution_count": 9,
   "metadata": {},
   "outputs": [],
   "source": [
    "# Объявим класс \"Кошачьи\"\n",
    "class Felidae(Mammal):\n",
    "    pass\n",
    "\n",
    "# Объявим класс \"Псовые\"\n",
    "class Dog(Mammal):\n",
    "    pass"
   ]
  },
  {
   "cell_type": "code",
   "execution_count": 11,
   "metadata": {},
   "outputs": [
    {
     "name": "stdout",
     "output_type": "stream",
     "text": [
      "Млекопитающее покушало\n",
      "Млекопитающее выспалось\n"
     ]
    }
   ],
   "source": [
    "f = Felidae()\n",
    "f.eat()\n",
    "f.sleep()"
   ]
  },
  {
   "cell_type": "code",
   "execution_count": 12,
   "metadata": {},
   "outputs": [
    {
     "name": "stdout",
     "output_type": "stream",
     "text": [
      "Млекопитающее покушало\n",
      "Млекопитающее выспалось\n"
     ]
    }
   ],
   "source": [
    "d = Dog()\n",
    "d.eat()\n",
    "d.sleep()"
   ]
  },
  {
   "cell_type": "markdown",
   "metadata": {},
   "source": [
    "Из примера видно, что классы \"Кошачьи\" и \"Псовые\" наследуют свойства и методы класса \"Млекопитающие\". \n",
    "\n",
    "Изменим дочерние классы и добавим им новые методы:"
   ]
  },
  {
   "cell_type": "code",
   "execution_count": 13,
   "metadata": {},
   "outputs": [],
   "source": [
    "class Felidae(Mammal):\n",
    "    def mew(self):\n",
    "        print('У меня лапки')\n",
    "\n",
    "class Dog(Mammal):\n",
    "    def roar(self):\n",
    "        print('Гав')"
   ]
  },
  {
   "cell_type": "markdown",
   "metadata": {},
   "source": [
    "Поскольку мы изменили классы, необходимо пересоздать объекты:"
   ]
  },
  {
   "cell_type": "code",
   "execution_count": 14,
   "metadata": {},
   "outputs": [
    {
     "name": "stdout",
     "output_type": "stream",
     "text": [
      "У меня лапки\n",
      "Гав\n"
     ]
    }
   ],
   "source": [
    "f = Felidae()\n",
    "f.mew()\n",
    "\n",
    "d = Dog()\n",
    "d.roar()"
   ]
  },
  {
   "cell_type": "markdown",
   "metadata": {},
   "source": [
    "Хотя классы и являются наследниками одного родителя, они не имеют доступ к свойствам и методам друг друга:"
   ]
  },
  {
   "cell_type": "code",
   "execution_count": 15,
   "metadata": {},
   "outputs": [
    {
     "ename": "AttributeError",
     "evalue": "'Dog' object has no attribute 'mew'",
     "output_type": "error",
     "traceback": [
      "\u001b[1;31m---------------------------------------------------------------------------\u001b[0m",
      "\u001b[1;31mAttributeError\u001b[0m                            Traceback (most recent call last)",
      "\u001b[1;32m<ipython-input-15-d7d0e0096460>\u001b[0m in \u001b[0;36m<module>\u001b[1;34m\u001b[0m\n\u001b[1;32m----> 1\u001b[1;33m \u001b[0md\u001b[0m\u001b[1;33m.\u001b[0m\u001b[0mmew\u001b[0m\u001b[1;33m(\u001b[0m\u001b[1;33m)\u001b[0m\u001b[1;33m\u001b[0m\u001b[1;33m\u001b[0m\u001b[0m\n\u001b[0m",
      "\u001b[1;31mAttributeError\u001b[0m: 'Dog' object has no attribute 'mew'"
     ]
    }
   ],
   "source": [
    "d.mew()"
   ]
  },
  {
   "cell_type": "code",
   "execution_count": 16,
   "metadata": {},
   "outputs": [
    {
     "ename": "AttributeError",
     "evalue": "'Felidae' object has no attribute 'roar'",
     "output_type": "error",
     "traceback": [
      "\u001b[1;31m---------------------------------------------------------------------------\u001b[0m",
      "\u001b[1;31mAttributeError\u001b[0m                            Traceback (most recent call last)",
      "\u001b[1;32m<ipython-input-16-4b73e6cfa099>\u001b[0m in \u001b[0;36m<module>\u001b[1;34m\u001b[0m\n\u001b[1;32m----> 1\u001b[1;33m \u001b[0mf\u001b[0m\u001b[1;33m.\u001b[0m\u001b[0mroar\u001b[0m\u001b[1;33m(\u001b[0m\u001b[1;33m)\u001b[0m\u001b[1;33m\u001b[0m\u001b[1;33m\u001b[0m\u001b[0m\n\u001b[0m",
      "\u001b[1;31mAttributeError\u001b[0m: 'Felidae' object has no attribute 'roar'"
     ]
    }
   ],
   "source": [
    "f.roar()"
   ]
  },
  {
   "cell_type": "markdown",
   "metadata": {},
   "source": [
    "Это пример свойства \"Наследование\"."
   ]
  },
  {
   "cell_type": "markdown",
   "metadata": {},
   "source": [
    "Рассмотри ещё один случай: сейчас все 3 класса одинаково реализуют метод \"Покушать\", но в жизни кошки и собаки едят по-разному. Исправим это, переопределив функции в соответствующих классах:"
   ]
  },
  {
   "cell_type": "code",
   "execution_count": 17,
   "metadata": {},
   "outputs": [],
   "source": [
    "class Felidae(Mammal):\n",
    "    def eat(self):\n",
    "        print(f'{self.m_type} неохотно покушало')\n",
    "        \n",
    "    def mew(self):\n",
    "        print('У меня лапки')\n",
    "\n",
    "        \n",
    "class Dog(Mammal):\n",
    "    def eat(self):\n",
    "        print(f'{self.m_type} покушало и довольно')\n",
    "        \n",
    "    def roar(self):\n",
    "        print('Гав')"
   ]
  },
  {
   "cell_type": "code",
   "execution_count": 18,
   "metadata": {
    "scrolled": true
   },
   "outputs": [
    {
     "name": "stdout",
     "output_type": "stream",
     "text": [
      "Млекопитающее неохотно покушало\n",
      "Млекопитающее покушало и довольно\n"
     ]
    }
   ],
   "source": [
    "f = Felidae()\n",
    "f.eat()\n",
    "\n",
    "d = Dog()\n",
    "d.eat()"
   ]
  },
  {
   "cell_type": "markdown",
   "metadata": {},
   "source": [
    "Видно, что мы вызываем одну и ту же функцию, но возвращает она разный результат - это и есть \"Полиморфизм\". Мы знаем, что у наследников класса \"Млекопитающие\" должна быть реализован метод \"Покушать\" - он либо будет наследоваться от родителя, либо переопределен в классе, но, чтобы воспользоваться этим методом, нет необходимости знать особенности его реализации, достаточно знаний о его существовании, которое было заложено структурой родительского класса.\n",
    "\n",
    "То же самое можно делать и со свойствами:"
   ]
  },
  {
   "cell_type": "code",
   "execution_count": 19,
   "metadata": {},
   "outputs": [],
   "source": [
    "class Felidae(Mammal):\n",
    "    m_type = 'Кошачье'\n",
    "    def eat(self):\n",
    "        print(f'{self.m_type} неохотно покушало')\n",
    "        \n",
    "    def mew(self):\n",
    "        print('У меня лапки')\n",
    "\n",
    "        \n",
    "class Dog(Mammal):\n",
    "    m_type = 'Псовое'\n",
    "    def eat(self):\n",
    "        print(f'{self.m_type} покушало и довольно')\n",
    "        \n",
    "    def roar(self):\n",
    "        print('Гав')"
   ]
  },
  {
   "cell_type": "code",
   "execution_count": 20,
   "metadata": {},
   "outputs": [
    {
     "name": "stdout",
     "output_type": "stream",
     "text": [
      "Кошачье неохотно покушало\n",
      "Псовое покушало и довольно\n"
     ]
    }
   ],
   "source": [
    "f = Felidae()\n",
    "f.eat()\n",
    "\n",
    "d = Dog()\n",
    "d.eat()"
   ]
  },
  {
   "cell_type": "markdown",
   "metadata": {},
   "source": [
    "В некоторых случаях может возникать необходимость не полностью переопределять родительский метод, а лишь дополнять его. Для этого предварительно выполняется запуск переопределяемой функции:"
   ]
  },
  {
   "cell_type": "code",
   "execution_count": 21,
   "metadata": {},
   "outputs": [],
   "source": [
    "class Felidae(Mammal):\n",
    "    m_type = 'Кошачье'\n",
    "    def eat(self):\n",
    "        print(f'{self.m_type} неохотно покушало')\n",
    "        \n",
    "    def mew(self):\n",
    "        print('У меня лапки')\n",
    "        \n",
    "    def sleep(self):\n",
    "        super().sleep()\n",
    "        print(f'{self.m_type} легло снова спасть')\n",
    "\n",
    "        \n",
    "class Dog(Mammal):\n",
    "    m_type = 'Псовое'\n",
    "    def eat(self):\n",
    "        print(f'{self.m_type} покушало и довольно')\n",
    "        \n",
    "    def roar(self):\n",
    "        print('Гав')\n",
    "        \n",
    "    def sleep(self):\n",
    "        super().sleep()\n",
    "        print(f'{self.m_type} побежало играть с хозяином')"
   ]
  },
  {
   "cell_type": "code",
   "execution_count": 22,
   "metadata": {},
   "outputs": [
    {
     "name": "stdout",
     "output_type": "stream",
     "text": [
      "Кошачье выспалось\n",
      "Кошачье легло снова спасть\n",
      "Псовое выспалось\n",
      "Псовое побежало играть с хозяином\n"
     ]
    }
   ],
   "source": [
    "f = Felidae()\n",
    "f.sleep()\n",
    "\n",
    "d = Dog()\n",
    "d.sleep()"
   ]
  },
  {
   "cell_type": "markdown",
   "metadata": {},
   "source": [
    "Помимо наследования, в ООП также используется другой способ связи объектов - ассоциация. Она бывает 2 типов: \n",
    " - композиция - один объект становится неотъемлемой частью другого;\n",
    " - агрегация - один объект дополняет другой, но существует отдельно от него;\n",
    "\n",
    "На этот раз, рассмотри на другой классический пример - с автомобилями, чтобы не издеваться над животными. Создадим два класса - двигатель и автомобиль. Любой автомобиль может иметь один или несколько двигателей, но то, как эти двигатели будут \"объявлены\", влияет на то, что с ними произойдет после \"разрушения\" автомобиля: "
   ]
  },
  {
   "cell_type": "code",
   "execution_count": 23,
   "metadata": {},
   "outputs": [],
   "source": [
    "class Engine:\n",
    "    def __init__(self, volume, horse_power):\n",
    "        self.volume = volume\n",
    "        self.horse_power = horse_power\n",
    "        \n",
    "    def describe_engine(self):\n",
    "        print(f'Двигатель имеет объем {self.volume} литров и мощность {self.horse_power} лошадиных сил.')\n",
    "        \n",
    "class Auto:\n",
    "    def __init__(self, color, volume, horse_power):\n",
    "        self.color = color\n",
    "        self.engine = Engine(volume, horse_power)\n",
    "    \n",
    "    def describe_auto(self):\n",
    "        print(f'{self.color} автомобиль с двигателем {self.engine.volume} литров ({self.engine.horse_power} лошадиных сил).')\n",
    "    \n",
    "    def describe_engine(self):\n",
    "        self.engine.describe_engine()"
   ]
  },
  {
   "cell_type": "code",
   "execution_count": 24,
   "metadata": {},
   "outputs": [
    {
     "name": "stdout",
     "output_type": "stream",
     "text": [
      "Красный автомобиль с двигателем 3.6 литров (420 лошадиных сил).\n",
      "Двигатель имеет объем 3.6 литров и мощность 420 лошадиных сил.\n"
     ]
    }
   ],
   "source": [
    "a = Auto('Красный', 3.6, 420)\n",
    "a.describe_auto()\n",
    "a.describe_engine()"
   ]
  },
  {
   "cell_type": "markdown",
   "metadata": {},
   "source": [
    "В данном случае мы наблюдаем композицию - двигатель является неотъемлемой частью автомобиля и будет уничтожен одновременно с уничтожением объекта \"Автомобиль\"."
   ]
  },
  {
   "cell_type": "code",
   "execution_count": 25,
   "metadata": {},
   "outputs": [
    {
     "ename": "NameError",
     "evalue": "name 'a' is not defined",
     "output_type": "error",
     "traceback": [
      "\u001b[1;31m---------------------------------------------------------------------------\u001b[0m",
      "\u001b[1;31mNameError\u001b[0m                                 Traceback (most recent call last)",
      "\u001b[1;32m<ipython-input-25-9edac202d90c>\u001b[0m in \u001b[0;36m<module>\u001b[1;34m\u001b[0m\n\u001b[0;32m      1\u001b[0m \u001b[1;32mdel\u001b[0m\u001b[1;33m(\u001b[0m\u001b[0ma\u001b[0m\u001b[1;33m)\u001b[0m\u001b[1;33m\u001b[0m\u001b[1;33m\u001b[0m\u001b[0m\n\u001b[1;32m----> 2\u001b[1;33m \u001b[0ma\u001b[0m\u001b[1;33m.\u001b[0m\u001b[0mdescribe_engine\u001b[0m\u001b[1;33m(\u001b[0m\u001b[1;33m)\u001b[0m\u001b[1;33m\u001b[0m\u001b[1;33m\u001b[0m\u001b[0m\n\u001b[0m",
      "\u001b[1;31mNameError\u001b[0m: name 'a' is not defined"
     ]
    }
   ],
   "source": [
    "del(a)\n",
    "a.describe_engine()"
   ]
  },
  {
   "cell_type": "markdown",
   "metadata": {},
   "source": [
    "Рассмотрим другой пример:"
   ]
  },
  {
   "cell_type": "code",
   "execution_count": 29,
   "metadata": {},
   "outputs": [],
   "source": [
    "class Auto:\n",
    "    def __init__(self, color, engine):\n",
    "        self.color = color\n",
    "        self.engine = engine\n",
    "    \n",
    "    def describe_auto(self):\n",
    "        print(f'{self.color} автомобиль с двигателем {self.engine.volume} литров ({self.engine.horse_power} лошадиных сил)')\n",
    "        \n",
    "    def describe_engine(self):\n",
    "        self.engine.describe_engine()"
   ]
  },
  {
   "cell_type": "code",
   "execution_count": 30,
   "metadata": {},
   "outputs": [
    {
     "name": "stdout",
     "output_type": "stream",
     "text": [
      "Красный автомобиль с двигателем 3.6 литров (420 лошадиных сил)\n",
      "Двигатель имеет объем 3.6 литров и мощность 420 лошадиных сил.\n"
     ]
    }
   ],
   "source": [
    "e = Engine(3.6, 420)\n",
    "a = Auto('Красный', e)\n",
    "a.describe_auto()\n",
    "a.describe_engine()"
   ]
  },
  {
   "cell_type": "markdown",
   "metadata": {},
   "source": [
    "В данном случае мы создали отдельный объект типа \"Двигатель\" и использовали его при создании объекта типа \"Автомобиль\". При этом, сам класс двигателя мы не видоизменяли. Это называется \"агрегацией\". Теперь после уничтожение объекта типа \"Автомобиль\", объект типа \"Двигатель\" останется нетронутым."
   ]
  },
  {
   "cell_type": "code",
   "execution_count": 31,
   "metadata": {},
   "outputs": [
    {
     "name": "stdout",
     "output_type": "stream",
     "text": [
      "Двигатель имеет объем 3.6 литров и мощность 420 лошадиных сил.\n"
     ]
    },
    {
     "ename": "NameError",
     "evalue": "name 'a' is not defined",
     "output_type": "error",
     "traceback": [
      "\u001b[1;31m---------------------------------------------------------------------------\u001b[0m",
      "\u001b[1;31mNameError\u001b[0m                                 Traceback (most recent call last)",
      "\u001b[1;32m<ipython-input-31-e91725c4a2c5>\u001b[0m in \u001b[0;36m<module>\u001b[1;34m\u001b[0m\n\u001b[0;32m      1\u001b[0m \u001b[1;32mdel\u001b[0m\u001b[1;33m(\u001b[0m\u001b[0ma\u001b[0m\u001b[1;33m)\u001b[0m\u001b[1;33m\u001b[0m\u001b[1;33m\u001b[0m\u001b[0m\n\u001b[0;32m      2\u001b[0m \u001b[0me\u001b[0m\u001b[1;33m.\u001b[0m\u001b[0mdescribe_engine\u001b[0m\u001b[1;33m(\u001b[0m\u001b[1;33m)\u001b[0m\u001b[1;33m\u001b[0m\u001b[1;33m\u001b[0m\u001b[0m\n\u001b[1;32m----> 3\u001b[1;33m \u001b[0ma\u001b[0m\u001b[1;33m.\u001b[0m\u001b[0mdescribe_engine\u001b[0m\u001b[1;33m(\u001b[0m\u001b[1;33m)\u001b[0m\u001b[1;33m\u001b[0m\u001b[1;33m\u001b[0m\u001b[0m\n\u001b[0m",
      "\u001b[1;31mNameError\u001b[0m: name 'a' is not defined"
     ]
    }
   ],
   "source": [
    "del(a)\n",
    "e.describe_engine()\n",
    "a.describe_engine()"
   ]
  },
  {
   "cell_type": "markdown",
   "metadata": {},
   "source": [
    "Более того, если мы ещё несколько изменим класс \"Автомобиль\" и \"Двигатель\", то мы сможем менять как сам двигатель, так и настройки этого двигателя:"
   ]
  },
  {
   "cell_type": "code",
   "execution_count": 32,
   "metadata": {},
   "outputs": [],
   "source": [
    "class Engine:\n",
    "    def __init__(self, volume, horse_power):\n",
    "        self.volume = volume\n",
    "        self.horse_power = horse_power\n",
    "        \n",
    "    def describe_engine(self):\n",
    "        print(f'Двигатель имеет объем {self.volume} литров и мощность {self.horse_power} лошадиных сил.')\n",
    "        \n",
    "    def tune_engine(self):\n",
    "        self.horse_power = self.horse_power + 100\n",
    "        self.describe_engine()\n",
    "        \n",
    "class Auto:\n",
    "    def __init__(self, color, engine):\n",
    "        self.color = color\n",
    "        self.engine = engine\n",
    "    \n",
    "    def describe_auto(self):\n",
    "        print(f'{self.color} автомобиль с двигателем {self.engine.volume} литров ({self.engine.horse_power} лошадиных сил)')\n",
    "        \n",
    "    def describe_engine(self):\n",
    "        self.engine.describe_engine()\n",
    "    \n",
    "    def change_engine(self, engine):\n",
    "        self.engine = engine"
   ]
  },
  {
   "cell_type": "code",
   "execution_count": 33,
   "metadata": {},
   "outputs": [
    {
     "name": "stdout",
     "output_type": "stream",
     "text": [
      "Красный автомобиль с двигателем 3.6 литров (420 лошадиных сил)\n",
      "Двигатель имеет объем 3.6 литров и мощность 420 лошадиных сил.\n"
     ]
    }
   ],
   "source": [
    "e = Engine(3.6, 420)\n",
    "a = Auto('Красный', e)\n",
    "a.describe_auto()\n",
    "a.describe_engine()"
   ]
  },
  {
   "cell_type": "markdown",
   "metadata": {},
   "source": [
    "Поднастроим двигатель:"
   ]
  },
  {
   "cell_type": "code",
   "execution_count": 34,
   "metadata": {},
   "outputs": [
    {
     "name": "stdout",
     "output_type": "stream",
     "text": [
      "Двигатель имеет объем 3.6 литров и мощность 520 лошадиных сил.\n"
     ]
    }
   ],
   "source": [
    "e.tune_engine()"
   ]
  },
  {
   "cell_type": "markdown",
   "metadata": {},
   "source": [
    "Обратим внимание, что эти же изменения автоматически произойдут и с двигателем, который установлен в автомобиле:"
   ]
  },
  {
   "cell_type": "code",
   "execution_count": 35,
   "metadata": {},
   "outputs": [
    {
     "name": "stdout",
     "output_type": "stream",
     "text": [
      "Двигатель имеет объем 3.6 литров и мощность 520 лошадиных сил.\n"
     ]
    }
   ],
   "source": [
    "a.describe_engine()"
   ]
  },
  {
   "cell_type": "markdown",
   "metadata": {},
   "source": [
    "Происходит это потому, что фактически мы обращаемся к одному и тому же объекту. Только сначала это было напрямую, а теперь как к части автомобиля.\n",
    "\n",
    "Тем не менее, мы можем совсем заменить двигатель машины, не меняя её саму:"
   ]
  },
  {
   "cell_type": "code",
   "execution_count": 36,
   "metadata": {},
   "outputs": [
    {
     "name": "stdout",
     "output_type": "stream",
     "text": [
      "Двигатель имеет объем 4.1 литров и мощность 670 лошадиных сил.\n"
     ]
    }
   ],
   "source": [
    "e2 = Engine(4.1, 670)\n",
    "e2.describe_engine()"
   ]
  },
  {
   "cell_type": "code",
   "execution_count": 37,
   "metadata": {},
   "outputs": [
    {
     "name": "stdout",
     "output_type": "stream",
     "text": [
      "Двигатель имеет объем 4.1 литров и мощность 670 лошадиных сил.\n"
     ]
    }
   ],
   "source": [
    "a.change_engine(e2)\n",
    "a.describe_engine()"
   ]
  },
  {
   "cell_type": "markdown",
   "metadata": {},
   "source": [
    "При этом \"старый\" двигатель никуда не исчезает:"
   ]
  },
  {
   "cell_type": "code",
   "execution_count": 38,
   "metadata": {},
   "outputs": [
    {
     "name": "stdout",
     "output_type": "stream",
     "text": [
      "Двигатель имеет объем 3.6 литров и мощность 520 лошадиных сил.\n"
     ]
    }
   ],
   "source": [
    "e.describe_engine()"
   ]
  },
  {
   "cell_type": "markdown",
   "metadata": {},
   "source": [
    "Описанные выше принципы - базовая основа программирования. Большая часть из них относится к ООП, однако, может быть применена и в прочих парадигмах. Основная идея, которая стоит за всем этим - писать чистый, понятный и хороший код. Именно это является приоритетом, а инкапсуляция, наследование и полиморфизм - всего лишь инструменты на пути к нему."
   ]
  },
  {
   "cell_type": "markdown",
   "metadata": {},
   "source": [
    "##### Полезные статьи и источники:\n",
    "    1. ООП в картинках (https://habr.com/ru/post/463125/);\n",
    "    2. Наследование, композиция, агрегация (https://habr.com/ru/post/354046/);\n",
    "    3. Управление памятью в Python (https://habr.com/ru/company/mailru/blog/336156/);\n",
    "    4. Stackoverflow (https://stackoverflow.com/);\n",
    "    5. Wikipedia (https://ru.wikipedia.org/).    "
   ]
  }
 ],
 "metadata": {
  "kernelspec": {
   "display_name": "Python 3",
   "language": "python",
   "name": "python3"
  },
  "language_info": {
   "codemirror_mode": {
    "name": "ipython",
    "version": 3
   },
   "file_extension": ".py",
   "mimetype": "text/x-python",
   "name": "python",
   "nbconvert_exporter": "python",
   "pygments_lexer": "ipython3",
   "version": "3.7.3"
  }
 },
 "nbformat": 4,
 "nbformat_minor": 2
}
