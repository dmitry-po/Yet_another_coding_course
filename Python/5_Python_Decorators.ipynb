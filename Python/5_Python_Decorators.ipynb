{
 "cells": [
  {
   "cell_type": "markdown",
   "metadata": {},
   "source": [
    "# Основы программирования на Python. "
   ]
  },
  {
   "cell_type": "markdown",
   "metadata": {},
   "source": [
    "## Часть 5: Декораторы"
   ]
  },
  {
   "cell_type": "markdown",
   "metadata": {},
   "source": [
    "### Задание 1."
   ]
  },
  {
   "cell_type": "markdown",
   "metadata": {},
   "source": [
    "Написать функцию, которая на вход будет принимать список объектов, а на выходе возвращать одну строку, где все элементы перечислены через запятую. \n",
    "\n",
    "Пример:\n",
    "<br>&nbsp; ret = merge_list(['Иван', 'Василий', 'Петр'])\n",
    "<br>&nbsp; print(ret) \n",
    "<br>&nbsp; # Результат: 'Иван, Василий, Петр'"
   ]
  },
  {
   "cell_type": "code",
   "execution_count": 230,
   "metadata": {},
   "outputs": [],
   "source": [
    "# Вариант 1: через цикл while:\n",
    "def merge_list_1(x):\n",
    "    ret_str = ''\n",
    "    i=0\n",
    "    while i < len(x)-1:\n",
    "        ret_str += x[i]\n",
    "        ret_str += ', '\n",
    "        i += 1\n",
    "    ret_str += x[len(x)-1]\n",
    "    return ret_str"
   ]
  },
  {
   "cell_type": "code",
   "execution_count": 231,
   "metadata": {},
   "outputs": [
    {
     "name": "stdout",
     "output_type": "stream",
     "text": [
      "Иван, Василий, Петр\n"
     ]
    }
   ],
   "source": [
    "ret = merge_list_1(['Иван', 'Василий', 'Петр'])\n",
    "print(ret)"
   ]
  },
  {
   "cell_type": "code",
   "execution_count": 233,
   "metadata": {},
   "outputs": [],
   "source": [
    "# Вариант 2: через цикл for с перебором элементов:\n",
    "def merge_list_2(x):\n",
    "    ret_str = ''\n",
    "    for i in x[:-1]:\n",
    "        ret_str += i\n",
    "        ret_str += ', '\n",
    "    ret_str += x[-1]\n",
    "    return ret_str"
   ]
  },
  {
   "cell_type": "code",
   "execution_count": 234,
   "metadata": {},
   "outputs": [
    {
     "name": "stdout",
     "output_type": "stream",
     "text": [
      "Иван, Василий, Петр\n"
     ]
    }
   ],
   "source": [
    "ret = merge_list_2(['Иван', 'Василий', 'Петр'])\n",
    "print(ret)"
   ]
  },
  {
   "cell_type": "code",
   "execution_count": 3,
   "metadata": {},
   "outputs": [],
   "source": [
    "# Вариант 3: если нужен только вывод результата:\n",
    "def merge_list_3(x):\n",
    "    for i in x:\n",
    "        print(i, end=', ')\n",
    "    print('\\b\\b')"
   ]
  },
  {
   "cell_type": "code",
   "execution_count": 6,
   "metadata": {},
   "outputs": [
    {
     "name": "stdout",
     "output_type": "stream",
     "text": [
      "Иван, Василий, Петр, \b\b\n"
     ]
    }
   ],
   "source": [
    "merge_list_3(['Иван', 'Василий', 'Петр'])"
   ]
  },
  {
   "cell_type": "markdown",
   "metadata": {},
   "source": [
    "В последнем варианте мы использовали один из необязательных параметров функции print - end. Этот параметр отвечает за последний символ выводимого сообщения. По умолчанию он равен '\\n', но можно переопределить его одни из строковых литералов ('\\t', '\\r', '\\b',...) или любой другой строковой переменной."
   ]
  },
  {
   "cell_type": "markdown",
   "metadata": {},
   "source": [
    "---"
   ]
  },
  {
   "cell_type": "markdown",
   "metadata": {},
   "source": [
    "Могут быть ещё варианты с тем, чтобы сразу в цикле собирать всю строку, а затем отрезать лишние символы или некая комбинация этих двух подходов, но это не так принципиально. Вопрос сейчас: какой вариант лучше?\n",
    "\n",
    "Правильный ответ - ни один из перечисленных.\n",
    "\n",
    "Почему? Причин 2: первая - при работе с большими данными крайне рекомендуется максимально избегать циклов, так как с точки зрения исполнения кода - они очень затратны. На игрушечных примерах это не так заметно, но сравним эти циклы на более существенном объеме:"
   ]
  },
  {
   "cell_type": "code",
   "execution_count": 235,
   "metadata": {},
   "outputs": [
    {
     "name": "stdout",
     "output_type": "stream",
     "text": [
      "34.5 ms ± 5.4 ms per loop (mean ± std. dev. of 7 runs, 10 loops each)\n"
     ]
    }
   ],
   "source": [
    "%%timeit\n",
    "ret = merge_list_1(['Иван', 'Василий', 'Петр']*10000)"
   ]
  },
  {
   "cell_type": "code",
   "execution_count": 236,
   "metadata": {},
   "outputs": [
    {
     "name": "stdout",
     "output_type": "stream",
     "text": [
      "23.3 ms ± 3.61 ms per loop (mean ± std. dev. of 7 runs, 10 loops each)\n"
     ]
    }
   ],
   "source": [
    "%%timeit\n",
    "ret = merge_list_2(['Иван', 'Василий', 'Петр']*10000)"
   ]
  },
  {
   "cell_type": "markdown",
   "metadata": {},
   "source": [
    "Из полученных результатов мы видим, что в второй вариант реализации работает в среднем быстрее и с меньшим разбросом. Однако, это не предел. Что приводит нас ко второй причине (более значимой) - в python уже реализован инструмент для подобных действий. Это метод join, который формально относится к строковым переменным, но используется в связке со списками. Этот метод позволяет собрать строку из элементов списка, соединив их между собой с помощью заданного значения:"
   ]
  },
  {
   "cell_type": "code",
   "execution_count": 237,
   "metadata": {},
   "outputs": [
    {
     "name": "stdout",
     "output_type": "stream",
     "text": [
      "Иван, Василий, Петр\n"
     ]
    }
   ],
   "source": [
    "print(', '.join(['Иван', 'Василий', 'Петр']))"
   ]
  },
  {
   "cell_type": "markdown",
   "metadata": {},
   "source": [
    "Этот метод показывает, насколько удобнее и правильнее использовать уже существующие инструменты, чем создавать свой \"велосипед\":"
   ]
  },
  {
   "cell_type": "code",
   "execution_count": 240,
   "metadata": {},
   "outputs": [
    {
     "name": "stdout",
     "output_type": "stream",
     "text": [
      "1.56 ms ± 113 µs per loop (mean ± std. dev. of 7 runs, 1000 loops each)\n"
     ]
    }
   ],
   "source": [
    "%%timeit\n",
    "', '.join(['Иван', 'Василий', 'Петр']*10000)"
   ]
  },
  {
   "cell_type": "markdown",
   "metadata": {},
   "source": [
    "---"
   ]
  },
  {
   "cell_type": "markdown",
   "metadata": {},
   "source": [
    "### Декораторы"
   ]
  },
  {
   "cell_type": "markdown",
   "metadata": {},
   "source": [
    "Пример выше также демонстрирует нам ещё один удобный, хотя и не столько часто применяющийся механизм - декорирование. Строка %%timeit - представляет из себя ни что иное как декоратор. Суть декораторов, как следует из названия, предоставлять обертку над какой-то функцией. В данном примере эта обертка позволяет запускать нашу функцию несколько раз и считать показатели по времени исполнения. Если совсем коротко, то декоратор - это функция, которая запускается внутри себя другую функцию:"
   ]
  },
  {
   "cell_type": "markdown",
   "metadata": {},
   "source": [
    "Допустим, у нас есть некая очень полезная функция:"
   ]
  },
  {
   "cell_type": "code",
   "execution_count": 154,
   "metadata": {},
   "outputs": [],
   "source": [
    "def new_sum(a, b):\n",
    "    ret = a + b\n",
    "    return ret"
   ]
  },
  {
   "cell_type": "code",
   "execution_count": 155,
   "metadata": {},
   "outputs": [
    {
     "data": {
      "text/plain": [
       "8"
      ]
     },
     "execution_count": 155,
     "metadata": {},
     "output_type": "execute_result"
    }
   ],
   "source": [
    "new_sum(3, 5)"
   ]
  },
  {
   "cell_type": "markdown",
   "metadata": {},
   "source": [
    "И мы хотим видеть моменты, когда она запускается. Мы можем прописать это непосредственно в теле функции:"
   ]
  },
  {
   "cell_type": "code",
   "execution_count": 156,
   "metadata": {},
   "outputs": [],
   "source": [
    "def new_sum(a,b):\n",
    "    print('Начало выполнения функции')\n",
    "    ret = a + b\n",
    "    print('Завершение выполнения функции')\n",
    "    return ret"
   ]
  },
  {
   "cell_type": "code",
   "execution_count": 157,
   "metadata": {},
   "outputs": [
    {
     "name": "stdout",
     "output_type": "stream",
     "text": [
      "Начало выполнения функции\n",
      "Завершение выполнения функции\n"
     ]
    },
    {
     "data": {
      "text/plain": [
       "8"
      ]
     },
     "execution_count": 157,
     "metadata": {},
     "output_type": "execute_result"
    }
   ],
   "source": [
    "new_sum(3, 5)"
   ]
  },
  {
   "cell_type": "markdown",
   "metadata": {},
   "source": [
    "Теперь у нас появилась ещё одна полезная функция, в которой мы тоже хотим видеть аналогичную информацию. Для этого нам придется дублировать куски кода:"
   ]
  },
  {
   "cell_type": "code",
   "execution_count": 159,
   "metadata": {},
   "outputs": [],
   "source": [
    "def new_mult(a,b):\n",
    "    print('Начало выполнения функции')\n",
    "    ret = a * b\n",
    "    print('Завершение выполнения функции')\n",
    "    return ret"
   ]
  },
  {
   "cell_type": "code",
   "execution_count": 160,
   "metadata": {},
   "outputs": [
    {
     "name": "stdout",
     "output_type": "stream",
     "text": [
      "Начало выполнения функции\n",
      "Завершение выполнения функции\n"
     ]
    },
    {
     "data": {
      "text/plain": [
       "15"
      ]
     },
     "execution_count": 160,
     "metadata": {},
     "output_type": "execute_result"
    }
   ],
   "source": [
    "new_mult(3, 5)"
   ]
  },
  {
   "cell_type": "markdown",
   "metadata": {},
   "source": [
    "Таких функций может становиться больше, а сам лог - сложнее (например, добавится время запуска и окончания). Поддерживать множественный код - не очень удобно. Для этого можно написать над-функцию, которая будет принимать на вход другую функцию (ведь никто не запрещает нам на использовать функцию как аргумент) и оборачивать её в нужные нам логи:"
   ]
  },
  {
   "cell_type": "code",
   "execution_count": 161,
   "metadata": {},
   "outputs": [],
   "source": [
    "def simple_wrapper(func, *args, **kwargs):\n",
    "    print('Начало выполнения функции')\n",
    "    ret=func(*args, **kwargs)\n",
    "    print('Завершение выполнения функции')\n",
    "    return ret"
   ]
  },
  {
   "cell_type": "markdown",
   "metadata": {},
   "source": [
    "Теперь мы можем убрать лишнее из наших функций и использовать функцию-обертку:"
   ]
  },
  {
   "cell_type": "code",
   "execution_count": 162,
   "metadata": {},
   "outputs": [],
   "source": [
    "def new_sum(a,b):\n",
    "    ret = a + b\n",
    "    return ret\n",
    "\n",
    "def new_mult(a,b):\n",
    "    ret = a * b\n",
    "    return ret"
   ]
  },
  {
   "cell_type": "code",
   "execution_count": 164,
   "metadata": {},
   "outputs": [
    {
     "data": {
      "text/plain": [
       "(8, 15)"
      ]
     },
     "execution_count": 164,
     "metadata": {},
     "output_type": "execute_result"
    }
   ],
   "source": [
    "new_sum(3, 5), new_mult(3, 5)"
   ]
  },
  {
   "cell_type": "code",
   "execution_count": 165,
   "metadata": {},
   "outputs": [
    {
     "name": "stdout",
     "output_type": "stream",
     "text": [
      "Начало выполнения функции\n",
      "Завершение выполнения функции\n"
     ]
    },
    {
     "data": {
      "text/plain": [
       "8"
      ]
     },
     "execution_count": 165,
     "metadata": {},
     "output_type": "execute_result"
    }
   ],
   "source": [
    "simple_wrapper(new_sum, 3, 5)"
   ]
  },
  {
   "cell_type": "code",
   "execution_count": 166,
   "metadata": {},
   "outputs": [
    {
     "name": "stdout",
     "output_type": "stream",
     "text": [
      "Начало выполнения функции\n",
      "Завершение выполнения функции\n"
     ]
    },
    {
     "data": {
      "text/plain": [
       "15"
      ]
     },
     "execution_count": 166,
     "metadata": {},
     "output_type": "execute_result"
    }
   ],
   "source": [
    "simple_wrapper(new_mult, 3, 5)"
   ]
  },
  {
   "cell_type": "markdown",
   "metadata": {},
   "source": [
    "Мы почти достигли желаемого результата: каждая функция выполняется с логированием и не нужно прописывать один и тот же функционал много раз. Но у нас появилась новая проблема - читаемость кода ухудшилась: сначала глаз обращает внимание на функцию *simple_wrapper*, а лишь затем на саму полезную нагрузку."
   ]
  },
  {
   "cell_type": "markdown",
   "metadata": {},
   "source": [
    "Сделаем ещё один маленький шажок: воспользуемся тем фактом, что функцию (как объект) можно не только принимать на вход, но и возвращать.\n",
    "Напишем функцию (wrapper), в которой напишем ещё одну функцию (wrapping_func) и будем возвращать эту функцию (wrapping_func) как результат выполнения основной функции (wrapper). А параметром для этой функции (wrapper) станет ещё одна функция, которая будет выполняться внутри функции (wrapping_func). \n",
    "\n",
    "Поясним на примере:"
   ]
  },
  {
   "cell_type": "code",
   "execution_count": 167,
   "metadata": {},
   "outputs": [],
   "source": [
    "def wrapper(func):\n",
    "    def wrapping_func(*args, **kwargs):\n",
    "        print('Начало выполнения функции')\n",
    "        ret = func(*args, **kwargs)\n",
    "        print('Завершение выполнения функции')\n",
    "        return ret\n",
    "    return wrapping_func"
   ]
  },
  {
   "cell_type": "markdown",
   "metadata": {},
   "source": [
    "Теперь можно сделать следующее:"
   ]
  },
  {
   "cell_type": "code",
   "execution_count": 168,
   "metadata": {},
   "outputs": [],
   "source": [
    "new_mult = wrapper(new_mult)"
   ]
  },
  {
   "cell_type": "code",
   "execution_count": 169,
   "metadata": {},
   "outputs": [
    {
     "name": "stdout",
     "output_type": "stream",
     "text": [
      "Начало выполнения функции\n",
      "Завершение выполнения функции\n"
     ]
    },
    {
     "data": {
      "text/plain": [
       "15"
      ]
     },
     "execution_count": 169,
     "metadata": {},
     "output_type": "execute_result"
    }
   ],
   "source": [
    "new_mult(3, 5)"
   ]
  },
  {
   "cell_type": "markdown",
   "metadata": {},
   "source": [
    "Теперь мы достигли ровно того, чего хотели: мы вызываем функцию по её собственному имени, она возвращает правильный результат, да к тому же ещё и обернута в наш функционал по логированию. "
   ]
  },
  {
   "cell_type": "markdown",
   "metadata": {},
   "source": [
    "Как же это произошло? Если посмотреть внимательно, то можно заметить, что мы только что сделали финт ушами - подменили одну функцию другой:"
   ]
  },
  {
   "cell_type": "code",
   "execution_count": 170,
   "metadata": {},
   "outputs": [
    {
     "name": "stdout",
     "output_type": "stream",
     "text": [
      "15\n",
      "Имя функции - new_mult\n"
     ]
    }
   ],
   "source": [
    "# так было сначала\n",
    "def new_mult(a,b):\n",
    "    ret = a * b\n",
    "    return ret\n",
    "\n",
    "print(new_mult(3, 5))\n",
    "print(f'Имя функции - {new_mult.__name__}')"
   ]
  },
  {
   "cell_type": "code",
   "execution_count": 171,
   "metadata": {},
   "outputs": [
    {
     "name": "stdout",
     "output_type": "stream",
     "text": [
      "Начало выполнения функции\n",
      "Завершение выполнения функции\n",
      "15\n",
      "Имя функции - wrapping_func\n"
     ]
    }
   ],
   "source": [
    "# Так стало после декоратора:\n",
    "new_mult = wrapper(new_mult)\n",
    "print(new_mult(3, 5))\n",
    "print(f'Имя функции - {new_mult.__name__}')"
   ]
  },
  {
   "cell_type": "markdown",
   "metadata": {},
   "source": [
    "Главное не увлечься и не завернуть функцию ещё раз (ещё много-много раз) в декоратор:"
   ]
  },
  {
   "cell_type": "code",
   "execution_count": 172,
   "metadata": {},
   "outputs": [
    {
     "name": "stdout",
     "output_type": "stream",
     "text": [
      "Начало выполнения функции\n",
      "Начало выполнения функции\n",
      "Завершение выполнения функции\n",
      "Завершение выполнения функции\n",
      "15\n",
      "Имя функции - wrapping_func\n"
     ]
    }
   ],
   "source": [
    "# Так делать не стоит. Одного раза вполне достаточно:\n",
    "new_mult = wrapper(new_mult)\n",
    "print(new_mult(3, 5))\n",
    "print(f'Имя функции - {new_mult.__name__}')"
   ]
  },
  {
   "cell_type": "markdown",
   "metadata": {},
   "source": [
    "По сути, это и есть декоратор. Можно пользоваться конструкцией такого вида, но в Python есть альтернативная форма записи, специально для декораторов. Она позволит избежать неприятных коллизий со множественным декорированием:"
   ]
  },
  {
   "cell_type": "code",
   "execution_count": 173,
   "metadata": {},
   "outputs": [
    {
     "data": {
      "text/plain": [
       "8"
      ]
     },
     "execution_count": 173,
     "metadata": {},
     "output_type": "execute_result"
    }
   ],
   "source": [
    "new_sum(3, 5)"
   ]
  },
  {
   "cell_type": "code",
   "execution_count": 174,
   "metadata": {},
   "outputs": [],
   "source": [
    "@wrapper\n",
    "def new_sum(a,b):\n",
    "    ret = a + b\n",
    "    return ret"
   ]
  },
  {
   "cell_type": "code",
   "execution_count": 175,
   "metadata": {},
   "outputs": [
    {
     "name": "stdout",
     "output_type": "stream",
     "text": [
      "Начало выполнения функции\n",
      "Завершение выполнения функции\n"
     ]
    },
    {
     "data": {
      "text/plain": [
       "8"
      ]
     },
     "execution_count": 175,
     "metadata": {},
     "output_type": "execute_result"
    }
   ],
   "source": [
    "new_sum(3, 5)"
   ]
  },
  {
   "cell_type": "markdown",
   "metadata": {},
   "source": [
    "Как было показано ранее, декораторы не обязательно должны быть оформлены именно в таком виде, но подобная запись облегчает понимание кода. Такие подходы в программировании называются \"синтаксическим сахаром\" - они не прибавляют никакой функциональности, но делают код более доступным к пониманию.\n",
    "\n",
    "Декораторы - мощный инструмент, который обычно используется для отладки, обработки ошибок или, как в данном случае, для сбора статистики. Однако, это отдельная тема и в данном случае затронута больше для общего понимания."
   ]
  },
  {
   "cell_type": "markdown",
   "metadata": {},
   "source": [
    "---"
   ]
  },
  {
   "cell_type": "markdown",
   "metadata": {},
   "source": [
    "### Задание 2."
   ]
  },
  {
   "cell_type": "markdown",
   "metadata": {},
   "source": [
    "Написать декоратор для функций, который будет сохранять все параметры, с которыми запускаются функции. \n",
    "\n",
    "Например: \"Запущена функция new_sum c параметрами: a = 3, b = 4. Получен результат 17\""
   ]
  },
  {
   "cell_type": "code",
   "execution_count": 82,
   "metadata": {},
   "outputs": [],
   "source": [
    "def wrapper(func):\n",
    "    def wrapping_func(*args, **kwargs):\n",
    "        ret = f'Запущена функция {func.__name__}'\n",
    "        param = []\n",
    "        if args:\n",
    "            param.append(f'{[i for i in args]}')\n",
    "        if kwargs:\n",
    "            param.extend([f'{i} = {j}' for i, j in kwargs.items()])\n",
    "        if len(param)>0:\n",
    "            ret += ' c параметрами: ' + ', '.join(param)\n",
    "        ret += '.'\n",
    "        r = func(*args, **kwargs)\n",
    "        ret += f' Получен результат {r}'\n",
    "        print(ret)\n",
    "        return r\n",
    "    return wrapping_func"
   ]
  },
  {
   "cell_type": "code",
   "execution_count": 83,
   "metadata": {},
   "outputs": [],
   "source": [
    "@wrapper\n",
    "def new_sum(a, b, *args, c=10):\n",
    "    return a+b+sum([i for i in args]) + c\n",
    "\n",
    "@wrapper\n",
    "def new_mult(a, b):\n",
    "    return a*b"
   ]
  },
  {
   "cell_type": "code",
   "execution_count": 84,
   "metadata": {},
   "outputs": [
    {
     "name": "stdout",
     "output_type": "stream",
     "text": [
      "Запущена функция new_sum c параметрами: a = 3, b = 4. Получен результат 17\n",
      "Запущена функция new_mult c параметрами: [1, 11]. Получен результат 11\n"
     ]
    },
    {
     "data": {
      "text/plain": [
       "(17, 11)"
      ]
     },
     "execution_count": 84,
     "metadata": {},
     "output_type": "execute_result"
    }
   ],
   "source": [
    "new_sum(a=3, b=4), new_mult(1,11)"
   ]
  }
 ],
 "metadata": {
  "kernelspec": {
   "display_name": "Python 3",
   "language": "python",
   "name": "python3"
  },
  "language_info": {
   "codemirror_mode": {
    "name": "ipython",
    "version": 3
   },
   "file_extension": ".py",
   "mimetype": "text/x-python",
   "name": "python",
   "nbconvert_exporter": "python",
   "pygments_lexer": "ipython3",
   "version": "3.7.3"
  }
 },
 "nbformat": 4,
 "nbformat_minor": 2
}
