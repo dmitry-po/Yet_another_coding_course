{
 "cells": [
  {
   "cell_type": "markdown",
   "metadata": {},
   "source": [
    "# Основы программирования на Python. "
   ]
  },
  {
   "cell_type": "markdown",
   "metadata": {},
   "source": [
    "## Часть 6: Классы"
   ]
  },
  {
   "cell_type": "markdown",
   "metadata": {},
   "source": [
    "Классы мы уже встречали ранее при обсуждении концепции ООП, сейчас чуть ближе ознакомимся с их структурой и синтаксисом на языке Python.\n",
    "Любой класс начинается с его явного объявления с помощью инструкции class, далее идет имя класса и набор родителей в круглых скобках (если они есть): "
   ]
  },
  {
   "cell_type": "code",
   "execution_count": 119,
   "metadata": {},
   "outputs": [],
   "source": [
    "class Mammal:\n",
    "    m_type = 'Млекопитающее'\n",
    "\n",
    "class Dog(Mammal):\n",
    "    name = 'Шарик'\n",
    "        \n",
    "    def bark(self):\n",
    "        print(f'{self.name} говорит \"Гав\"')"
   ]
  },
  {
   "cell_type": "markdown",
   "metadata": {},
   "source": [
    "В данном случае мы имеем 2 класса (Mammal и Dog), у каждого класса есть по свойству (m_type и name, соответственно), и у класса Dog есть дополнительный метод bark. По сути, метод - это функция, которая относится к классу, за тем исключением, что метод оперирует самим объектом (self) - это обязательный параметр любого метода."
   ]
  },
  {
   "cell_type": "markdown",
   "metadata": {},
   "source": [
    "Для инициации объекта класса используется конструктор. Он есть у всех классов, включая встроенные (например int()). Конструктор запускается при вызове конструкции с именем класса и фигурными скобками:"
   ]
  },
  {
   "cell_type": "code",
   "execution_count": 120,
   "metadata": {},
   "outputs": [
    {
     "name": "stdout",
     "output_type": "stream",
     "text": [
      "Шарик говорит \"Гав\"\n"
     ]
    }
   ],
   "source": [
    "d = Dog()\n",
    "d.bark()"
   ]
  },
  {
   "cell_type": "markdown",
   "metadata": {},
   "source": [
    "В примере выше, при инициации объекта класса Dog происходит создание объекта и присвоение объекту имени Шарик."
   ]
  },
  {
   "cell_type": "code",
   "execution_count": 121,
   "metadata": {},
   "outputs": [
    {
     "data": {
      "text/plain": [
       "'Шарик'"
      ]
     },
     "execution_count": 121,
     "metadata": {},
     "output_type": "execute_result"
    }
   ],
   "source": [
    "d.name"
   ]
  },
  {
   "cell_type": "markdown",
   "metadata": {},
   "source": [
    "Однако, это не совсем корректная форма записи по 2 причинам:\n",
    "    1. Все собаки будут Шариками;\n",
    "    2. Не только сами собаки будут Шариками, но и самому классу будет присуще имя Шарик"
   ]
  },
  {
   "cell_type": "code",
   "execution_count": 122,
   "metadata": {},
   "outputs": [
    {
     "data": {
      "text/plain": [
       "'Шарик'"
      ]
     },
     "execution_count": 122,
     "metadata": {},
     "output_type": "execute_result"
    }
   ],
   "source": [
    "Dog.name"
   ]
  },
  {
   "cell_type": "markdown",
   "metadata": {},
   "source": [
    "С точки зрения быстродействия - это неправильно. Потому что при выполнении кода идет обращение не к объекту, а к классу. \n",
    "Для решения этих проблем принято прописывать метод __init__ - это непосредственно реализация конструктора класса, в котором все атрибуты мы фиксируем за самим объектом (self)."
   ]
  },
  {
   "cell_type": "code",
   "execution_count": 131,
   "metadata": {},
   "outputs": [],
   "source": [
    "class Mammal:\n",
    "    def __init__(self, name):\n",
    "        self.m_type = 'Млекопитающее'\n",
    "\n",
    "class Dog(Mammal):\n",
    "    def __init__(self, name):\n",
    "        self.name = name\n",
    "        print(f'{self.name} приветствует тебя')\n",
    "        \n",
    "    def bark(self):\n",
    "        print(f'{self.name} говорит \"Гав\"')"
   ]
  },
  {
   "cell_type": "code",
   "execution_count": 132,
   "metadata": {},
   "outputs": [
    {
     "name": "stdout",
     "output_type": "stream",
     "text": [
      "Шарик приветствует тебя\n"
     ]
    }
   ],
   "source": [
    "d = Dog('Шарик')"
   ]
  },
  {
   "cell_type": "code",
   "execution_count": 133,
   "metadata": {},
   "outputs": [
    {
     "data": {
      "text/plain": [
       "'Шарик'"
      ]
     },
     "execution_count": 133,
     "metadata": {},
     "output_type": "execute_result"
    }
   ],
   "source": [
    "d.name"
   ]
  },
  {
   "cell_type": "code",
   "execution_count": 134,
   "metadata": {},
   "outputs": [
    {
     "ename": "AttributeError",
     "evalue": "type object 'Dog' has no attribute 'name'",
     "output_type": "error",
     "traceback": [
      "\u001b[1;31m---------------------------------------------------------------------------\u001b[0m",
      "\u001b[1;31mAttributeError\u001b[0m                            Traceback (most recent call last)",
      "\u001b[1;32m<ipython-input-134-629675d46941>\u001b[0m in \u001b[0;36m<module>\u001b[1;34m\u001b[0m\n\u001b[1;32m----> 1\u001b[1;33m \u001b[0mDog\u001b[0m\u001b[1;33m.\u001b[0m\u001b[0mname\u001b[0m\u001b[1;33m\u001b[0m\u001b[1;33m\u001b[0m\u001b[0m\n\u001b[0m",
      "\u001b[1;31mAttributeError\u001b[0m: type object 'Dog' has no attribute 'name'"
     ]
    }
   ],
   "source": [
    "Dog.name"
   ]
  },
  {
   "cell_type": "markdown",
   "metadata": {},
   "source": [
    "Доступ к свойствам класса может быть выполнен по имени атрибута, как показано выше, но обычно для этого рекомендуется использовать метода getter и setter"
   ]
  },
  {
   "cell_type": "code",
   "execution_count": 135,
   "metadata": {},
   "outputs": [],
   "source": [
    "class Dog(Mammal):\n",
    "    def __init__(self, name):\n",
    "        self.name = name\n",
    "        print(f'{self.name} приветствует тебя')\n",
    "        \n",
    "    def bark(self):\n",
    "        print(f'{self.name} говорит \"Гав\"')\n",
    "        \n",
    "    def get_name(self):\n",
    "        print(self.name)\n",
    "        \n",
    "    def set_name(self, name):\n",
    "        self.name = name\n",
    "        print(f'Теперь собаку зовут {self.name}')"
   ]
  },
  {
   "cell_type": "code",
   "execution_count": 136,
   "metadata": {},
   "outputs": [
    {
     "name": "stdout",
     "output_type": "stream",
     "text": [
      "Шарик приветствует тебя\n"
     ]
    }
   ],
   "source": [
    "d = Dog('Шарик')"
   ]
  },
  {
   "cell_type": "code",
   "execution_count": 137,
   "metadata": {},
   "outputs": [
    {
     "name": "stdout",
     "output_type": "stream",
     "text": [
      "Шарик\n"
     ]
    }
   ],
   "source": [
    "d.get_name()"
   ]
  },
  {
   "cell_type": "code",
   "execution_count": 138,
   "metadata": {},
   "outputs": [
    {
     "name": "stdout",
     "output_type": "stream",
     "text": [
      "Теперь собаку зовут Тузик\n"
     ]
    }
   ],
   "source": [
    "d.set_name('Тузик')"
   ]
  },
  {
   "cell_type": "markdown",
   "metadata": {},
   "source": [
    "Изначально такой подход был внедрен в целях безопасности: мы запрещает напрямую менять значения переменных, только через специальные обработчики, которые реализуют дополнительные проверки. Для пущего эффекта сами переменные скрываются от глаз посторонних, превращаясь в приватные (private) или защищенные (protected). Приватные переменные (и методы) - доступны только внутри класса, защищенные - внутри класса и всех потомков. Во многих языках программирования невозможно в принципе получить доступ к таким переменным без реализованных методов get и set.\n",
    "\n",
    "К сожалению, в \"чистом\" Python все немного проще и доступ к таким переменным из-вне регулируется \"джентельменским соглашением\": приватные переменные и методы обозначаются префиксом двойного подчеркивание ('__'), защищенные - одинарного ('_'), при этом доступ к самим объектам остается (почти):"
   ]
  },
  {
   "cell_type": "code",
   "execution_count": 172,
   "metadata": {},
   "outputs": [],
   "source": [
    "class Dog(Mammal):\n",
    "    def __init__(self, name):\n",
    "        self._name = name\n",
    "        self.__age = 3\n",
    "        print(f'{self._name} приветствует тебя')\n",
    "        \n",
    "    def bark(self):\n",
    "        print(f'{self._name} говорит \"Гав\"')\n",
    "        \n",
    "    def get_name(self):\n",
    "        print(self._name)\n",
    "        \n",
    "    def set_name(self, name):\n",
    "        self._name = name\n",
    "        print(f'Теперь собаку зовут {self._name}')\n",
    "    \n",
    "    def _get_age(self):\n",
    "        age_descr = 'год' if self.__age == 1 else 'года' if self.__age < 5 else 'лет'\n",
    "        print(f'{self.__age} {age_descr}')"
   ]
  },
  {
   "cell_type": "code",
   "execution_count": 173,
   "metadata": {},
   "outputs": [
    {
     "name": "stdout",
     "output_type": "stream",
     "text": [
      "Шарик приветствует тебя\n"
     ]
    }
   ],
   "source": [
    "d = Dog('Шарик')"
   ]
  },
  {
   "cell_type": "code",
   "execution_count": 174,
   "metadata": {},
   "outputs": [
    {
     "data": {
      "text/plain": [
       "'Шарик'"
      ]
     },
     "execution_count": 174,
     "metadata": {},
     "output_type": "execute_result"
    }
   ],
   "source": [
    "d._name"
   ]
  },
  {
   "cell_type": "code",
   "execution_count": 175,
   "metadata": {},
   "outputs": [
    {
     "ename": "AttributeError",
     "evalue": "'Dog' object has no attribute '__age'",
     "output_type": "error",
     "traceback": [
      "\u001b[1;31m---------------------------------------------------------------------------\u001b[0m",
      "\u001b[1;31mAttributeError\u001b[0m                            Traceback (most recent call last)",
      "\u001b[1;32m<ipython-input-175-5742a1cad796>\u001b[0m in \u001b[0;36m<module>\u001b[1;34m\u001b[0m\n\u001b[1;32m----> 1\u001b[1;33m \u001b[0md\u001b[0m\u001b[1;33m.\u001b[0m\u001b[0m__age\u001b[0m\u001b[1;33m\u001b[0m\u001b[1;33m\u001b[0m\u001b[0m\n\u001b[0m",
      "\u001b[1;31mAttributeError\u001b[0m: 'Dog' object has no attribute '__age'"
     ]
    }
   ],
   "source": [
    "d.__age"
   ]
  },
  {
   "cell_type": "code",
   "execution_count": 185,
   "metadata": {},
   "outputs": [
    {
     "name": "stdout",
     "output_type": "stream",
     "text": [
      "3 года\n"
     ]
    }
   ],
   "source": [
    "d._get_age()"
   ]
  },
  {
   "cell_type": "markdown",
   "metadata": {},
   "source": [
    "Успех, казалось бы, но нет. В случаях, когда в наименовании используется более одного подчеркивания, в Python включается механизм изменения (коверканья) имен (name mangling): объект меняет имя на _<ClassName><memberName>"
   ]
  },
  {
   "cell_type": "code",
   "execution_count": 186,
   "metadata": {},
   "outputs": [
    {
     "data": {
      "text/plain": [
       "3"
      ]
     },
     "execution_count": 186,
     "metadata": {},
     "output_type": "execute_result"
    }
   ],
   "source": [
    "d._Dog__age"
   ]
  },
  {
   "cell_type": "markdown",
   "metadata": {},
   "source": [
    "---"
   ]
  },
  {
   "cell_type": "markdown",
   "metadata": {},
   "source": [
    "### Задание 1. \"Шифровальщик Цезаря\""
   ]
  },
  {
   "cell_type": "markdown",
   "metadata": {},
   "source": [
    "Один из способов шифрования данных (шифр Цезаря) основан на смещение алфавита на какое-то заданное значение. Напишем класс, который будет выполнять шифровку-дешифровку текста. У класса должно быть как минимум одно свойство (смещение алфавита), которое передается в конструктор класса, и 3 метода: обучение, шифрование (принимает на вход исходный текст, возвращает зашифрованный) и дешифрование (принимает на вход зашифрованный текст и возвращает расшифрованный). При инициализации класса переданное смещение сохраняется как внутреннее свойство. \n",
    "Во время обучения происходит настройка алфавита: для этого ключевое алфавит смещается вправо на заданное значение.\n",
    "Метод шифровки получает на вход строку для шифрования и возвращает обработанный вариант, в котором все буквы исходного алфавита изменены на новый.\n",
    "Метод дешифровки выполняет обратную операцию.\n",
    "\n",
    "Например: \n",
    " - Смещение: 9;\n",
    " - Исходный алфавит: \"абвгдеёжзийклмнопрстуфхцчшщъыьэюя \";\n",
    " - Новый алфавит (получается после обучения): \"щъыьэюя абвгдеёжзийклмнопрстуфхцчш\"\n",
    " - Шифруемая фраза: 'Штирлиц ещё никогда не был так близок к провалу'\n",
    " - Результат: 'пйазганчэрючеавёыьшчеэчщтгчйшвчщга ёвчвчжзёъшгк'"
   ]
  },
  {
   "cell_type": "code",
   "execution_count": 191,
   "metadata": {},
   "outputs": [],
   "source": [
    "# Вариант реализации\n",
    "class Encryptor:\n",
    "    def __init__(self, shift):\n",
    "        # код\n",
    "        pass\n",
    "    \n",
    "    def fit():\n",
    "        # код\n",
    "        pass\n",
    "    \n",
    "    def enctypt(self,text):\n",
    "        # код\n",
    "        pass\n",
    "    \n",
    "    def decrypt(self, text):\n",
    "        # код\n",
    "        pass"
   ]
  },
  {
   "cell_type": "code",
   "execution_count": 193,
   "metadata": {},
   "outputs": [],
   "source": [
    "class Encrypter:\n",
    "    def __init__(self, shift):\n",
    "        self.origin_alphabet = 'абвгдеёжзийклмнопрстуфхцчшщъыьэюя '\n",
    "        self.shift = shift % len(self.origin_alphabet)\n",
    "        self.new_alphabet = self.origin_alphabet\n",
    "        self.encrypter = {}\n",
    "        self.decrypter = {}\n",
    "        \n",
    "    def fit(self):\n",
    "        self.new_alphabet = self.origin_alphabet[-self.shift:] + self.origin_alphabet[:-self.shift]\n",
    "        for i in range(len(self.new_alphabet)):\n",
    "            self.encrypter[self.origin_alphabet[i]] = self.new_alphabet[i]\n",
    "            self.decrypter[self.new_alphabet[i]] = self.origin_alphabet[i]\n",
    "            \n",
    "    def encrypt(self, text):\n",
    "        ret = ''.join(self.encrypter.get(i, i) for i in text.lower())\n",
    "        return ret\n",
    "    \n",
    "    def decrypt(self, text):\n",
    "        ret = ''.join(self.decrypter.get(i, i) for i in text.lower())\n",
    "        return ret"
   ]
  },
  {
   "cell_type": "code",
   "execution_count": 204,
   "metadata": {},
   "outputs": [
    {
     "name": "stdout",
     "output_type": "stream",
     "text": [
      "ундлждсыафбыидёйя ьыиаыэцжыньёыэждгйёыёыклйюьжо\n"
     ]
    }
   ],
   "source": [
    "text = 'Штирлиц ещё никогда не был так близок к провалу'\n",
    "e = Encrypter(39)\n",
    "e.fit()\n",
    "ret = e.encrypt(text)\n",
    "print(ret)"
   ]
  },
  {
   "cell_type": "code",
   "execution_count": 205,
   "metadata": {},
   "outputs": [
    {
     "data": {
      "text/plain": [
       "'штирлиц ещё никогда не был так близок к провалу'"
      ]
     },
     "execution_count": 205,
     "metadata": {},
     "output_type": "execute_result"
    }
   ],
   "source": [
    "e.decrypt(ret)"
   ]
  },
  {
   "cell_type": "code",
   "execution_count": 206,
   "metadata": {},
   "outputs": [
    {
     "name": "stdout",
     "output_type": "stream",
     "text": [
      "Не удалось восстановить исходный текст\n"
     ]
    },
    {
     "ename": "AssertionError",
     "evalue": "None",
     "output_type": "error",
     "traceback": [
      "\u001b[1;31m---------------------------------------------------------------------------\u001b[0m",
      "\u001b[1;31mAssertionError\u001b[0m                            Traceback (most recent call last)",
      "\u001b[1;32m<ipython-input-206-8c58f170c60b>\u001b[0m in \u001b[0;36m<module>\u001b[1;34m\u001b[0m\n\u001b[1;32m----> 1\u001b[1;33m \u001b[1;32massert\u001b[0m \u001b[0mtext\u001b[0m \u001b[1;33m==\u001b[0m \u001b[0me\u001b[0m\u001b[1;33m.\u001b[0m\u001b[0mdecrypt\u001b[0m\u001b[1;33m(\u001b[0m\u001b[0mret\u001b[0m\u001b[1;33m)\u001b[0m\u001b[1;33m,\u001b[0m \u001b[0mprint\u001b[0m\u001b[1;33m(\u001b[0m\u001b[1;34m'Не удалось восстановить исходный текст'\u001b[0m\u001b[1;33m)\u001b[0m\u001b[1;33m\u001b[0m\u001b[1;33m\u001b[0m\u001b[0m\n\u001b[0m",
      "\u001b[1;31mAssertionError\u001b[0m: None"
     ]
    }
   ],
   "source": [
    "assert text == e.decrypt(ret), print('Не удалось восстановить исходный текст')"
   ]
  },
  {
   "cell_type": "markdown",
   "metadata": {},
   "source": [
    "### Задание 1.2. \n",
    "Есть альтернативная версия шифра Цезаря. В ней алфавит сдвигается не по числовому значению, а по слову: ключевое слово добавляется перед словарем, затем из полученной строки удаляются дубликаты.\n",
    "Например: \n",
    " - Смещение: 'инкапсуляция';\n",
    " - Исходный алфавит: \"абвгдеёжзийклмнопрстуфхцчшщъыьэюя \";\n",
    " - Новый алфавит (получается после обучения): \"инкапсуляциябвгдеёжзймортфхчшщъыьэю \"\n",
    " - Шифруемая фраза: 'Штирлиц ещё никогда не был так близок к провалу'\n",
    " - Результат: 'чмцзгцф сшу ецвёапи ес нъг мив нгцяёв в жзёкиго'"
   ]
  },
  {
   "cell_type": "code",
   "execution_count": 177,
   "metadata": {},
   "outputs": [],
   "source": [
    "class Encrypter:\n",
    "    def __init__(self, keyword):\n",
    "        self.origin_alphabet = 'абвгдеёжзийклмнопрстуфхцчшщъыьэюя '\n",
    "        self.keyword = keyword\n",
    "        self.new_alphabet = self.origin_alphabet\n",
    "        self.encrypter = {}\n",
    "        self.decrypter = {}\n",
    "        \n",
    "    def fit(self):\n",
    "        self.new_alphabet = list(dict.fromkeys(self.keyword + self.origin_alphabet, None).keys())\n",
    "        for i in range(len(self.new_alphabet)):\n",
    "            self.encrypter[self.origin_alphabet[i]] = self.new_alphabet[i]\n",
    "            self.decrypter[self.new_alphabet[i]] = self.origin_alphabet[i]\n",
    "            \n",
    "    def encrypt(self, text):\n",
    "        ret = ''.join(self.encrypter.get(i, i) for i in text.lower())\n",
    "        return ret\n",
    "    \n",
    "    def decrypt(self, text):\n",
    "        ret = ''.join(self.decrypter.get(i, i) for i in text.lower())\n",
    "        return ret"
   ]
  },
  {
   "cell_type": "code",
   "execution_count": 178,
   "metadata": {},
   "outputs": [
    {
     "name": "stdout",
     "output_type": "stream",
     "text": [
      "чмцзгцф сшу ецвёапи ес нъг мив нгцяёв в жзёкиго\n"
     ]
    }
   ],
   "source": [
    "e = Encrypter('инкапсуляция')\n",
    "e.fit()\n",
    "ret = e.encrypt('Штирлиц ещё никогда не был так близок к провалу')\n",
    "print(ret)"
   ]
  },
  {
   "cell_type": "code",
   "execution_count": 148,
   "metadata": {},
   "outputs": [
    {
     "data": {
      "text/plain": [
       "'штирлиц ещё никогда не был так близок к провалу'"
      ]
     },
     "execution_count": 148,
     "metadata": {},
     "output_type": "execute_result"
    }
   ],
   "source": [
    "e.decrypt(ret)"
   ]
  },
  {
   "cell_type": "markdown",
   "metadata": {},
   "source": [
    "### Задание 2."
   ]
  },
  {
   "cell_type": "markdown",
   "metadata": {},
   "source": [
    "Шифры со смещение алфавита не отличаются особой надежность. Проверим это заявление на практике.\n",
    "Один из способов их \"вскрытия\" основан на частотности букв алфавита. Например, в русском языке самая часто встречающаяся буква - о, а наименее часто встречающаяся - ё.\n",
    "С помощью функций, реализованных ранее, попробуем взломать наш шифр из задания выше. Для этого потребуется:\n",
    "1. Собрать список букв русского алфавита в порядке убывания частотности (можно взять отсюда: https://ru.wikipedia.org/wiki/%D0%A7%D0%B0%D1%81%D1%82%D0%BE%D1%82%D0%BD%D0%BE%D1%81%D1%82%D1%8C);\n",
    "2. Составить аналогичный список для зашифрованной строки;\n",
    "3. Сопоставить списки исходя из ранжирования;\n",
    "4. ...\n",
    "5. Profit."
   ]
  },
  {
   "cell_type": "code",
   "execution_count": 63,
   "metadata": {},
   "outputs": [],
   "source": [
    "def count_char(some_string):\n",
    "    some_string = some_string.lower()\n",
    "    s = set(some_string)\n",
    "    d = {}\n",
    "    for i in s:\n",
    "        d[i] = some_string.count(i)\n",
    "    return d "
   ]
  },
  {
   "cell_type": "code",
   "execution_count": 77,
   "metadata": {},
   "outputs": [
    {
     "data": {
      "text/plain": [
       "'чмцзгцф сшу ецвёапи ес нъг мив нгцяёв в жзёкиго'"
      ]
     },
     "execution_count": 77,
     "metadata": {},
     "output_type": "execute_result"
    }
   ],
   "source": [
    "ret"
   ]
  },
  {
   "cell_type": "code",
   "execution_count": 184,
   "metadata": {},
   "outputs": [],
   "source": [
    "def super_decrypter(text):\n",
    "    alphabet = '''\n",
    "    1\tо\t55414481\t10.97%\n",
    "    2\tе\t42691213\t8.45%\n",
    "    3\tа\t40487008\t8.01%\n",
    "    4\tи\t37153142\t7.35%\n",
    "    5\tн\t33838881\t6.70%\n",
    "    6\tт\t31620970\t6.26%\n",
    "    7\tс\t27627040\t5.47%\n",
    "    8\tр\t23916825\t4.73%\n",
    "    9\tв\t22930719\t4.54%\n",
    "    10\tл\t22230174\t4.40%\n",
    "    11\tк\t17653469\t3.49%\n",
    "    12\tм\t16203060\t3.21%\n",
    "    13\tд\t15052118\t2.98%\n",
    "    14\tп\t14201572\t2.81%\n",
    "    15\tу\t13245712\t2.62%\n",
    "    16\tя\t10139085\t2.01%\n",
    "    17\tы\t9595941\t1.90%\n",
    "    18\tь\t8784613\t1.74%\n",
    "    19\tг\t8564640\t1.70%\n",
    "    20\tз\t8329904\t1.65%\n",
    "    21\tб\t8051767\t1.59%\n",
    "    22\tч\t7300193\t1.44%\n",
    "    23\tй\t6106262\t1.21%\n",
    "    24\tх\t4904176\t0.97%\n",
    "    25\tж\t4746916\t0.94%\n",
    "    26\tш\t3678738\t0.73%\n",
    "    27\tю\t3220715\t0.64%\n",
    "    28\tц\t2438807\t0.48%\n",
    "    29\tщ\t1822476\t0.36%\n",
    "    30\tэ\t1610107\t0.32%\n",
    "    31\tф\t1335747\t0.26%\n",
    "    32\tъ\t185452\t0.04%\n",
    "    33\tё\t184928\t0.04%\n",
    "    '''\n",
    "    alphabet = alphabet.split('\\t')[1::3]\n",
    "    alphabet.insert(0, ' ')\n",
    "    text_freq = count_char(text)\n",
    "    l = list(text_freq.items())\n",
    "    l.sort(key=(lambda x: x[1]), reverse=True)\n",
    "    text_alphabet = [x[0] for x in l]\n",
    "    decrypter = {}\n",
    "    for i in range(len(text_alphabet)):\n",
    "        decrypter[text_alphabet[i]] = alphabet[i]\n",
    "    ret = ''.join(decrypter.get(i, i) for i in text.lower())\n",
    "    return ret"
   ]
  },
  {
   "cell_type": "code",
   "execution_count": 185,
   "metadata": {},
   "outputs": [
    {
     "name": "stdout",
     "output_type": "stream",
     "text": [
      "Штирлиц ещё никогда не был так близок к провалу\n"
     ]
    },
    {
     "data": {
      "text/plain": [
       "'зтасоап лгу раеидян рл вмо тне воакие е бсиыноь'"
      ]
     },
     "execution_count": 185,
     "metadata": {},
     "output_type": "execute_result"
    }
   ],
   "source": [
    "text = 'Штирлиц ещё никогда не был так близок к провалу'\n",
    "text = text.replace(',','').replace('.','').replace(')','').replace('(','').replace('\"', '').replace('\\n', '')\n",
    "ret = e.encrypt(text)\n",
    "print(text)\n",
    "super_decrypter(ret)"
   ]
  },
  {
   "cell_type": "code",
   "execution_count": 186,
   "metadata": {},
   "outputs": [
    {
     "name": "stdout",
     "output_type": "stream",
     "text": [
      "Граф танцевал хорошо и знал это но его дама вовсе не умела и не хотела хорошо танцевать Ее огромное тело стояло прямо с опущенными вниз мощными руками она передала ридикюль графине; только одно строгое но красивое лицо ее танцевало Что выражалось во всей круглой фигуре графа у Марьи Дмитриевны выражалось лишь в более и более улыбающемся лице и вздергивающемся носе Но зато ежели граф все более и более расходясь пленял зрителей неожиданностью ловких вывертов и легких прыжков своих мягких ног Марья Дмитриевна малейшим усердием при движении плеч или округлении рук в поворотах и прито-пываньях производила не меньшее впечатление по заслуге которую ценил всякий при ее тучности и всегдашней суровости Пляска оживлялась все более и более Визави не могли ни на минуту обратить на себя внимание и даже не старались о том Все было занято графом и Марьею Дмитриевной Наташа дергала за рукава и платье всех присутствовавших которые и без того не спускали глаз с танцующих и требовала чтобы смотрели на папеньку Граф в промежутках танца тяжело переводил дух махал и кричал музыкантам чтоб они играли скорее Скорее скорее и скорее лише лише и лише развертывался граф то на цыпочках то на каблуках носясь вокруг Марьи Дмитриевны и наконец повернув свою даму к ее месту сделал последнее па подняв сзади кверху свою мягкую ногу склонив вспотевшую голову с улыбающимся лицом и округло размахнув правою рукою среди грохота рукоплесканий и хохота особенно Наташи Оба танцора остановились тяжело переводя дыхание и утираясь батистовыми платками\n"
     ]
    },
    {
     "data": {
      "text/plain": [
       "'унаю ватжерас ыонохо и чтас ёво то еуо яака рорле те мкеса и те ыовеса ыонохо ватжеравг ее оуноктое весо лвоьсо пнько л опмэеттзки ртич коэтзки нмдаки ота пенеяаса нияидйсг унаюитеъ восгдо оято лвноуое то дналирое сижо ее ватжерасо цво рзнашасолг ро рлещ днмусощ юиумне унаюа м канги якивниертз рзнашасолг сихг р босее и босее мсзбайэекль сиже и рчяенуирайэекль толе то чаво ешеси унаю рле босее и босее налыояьлг псетьс чнивесещ теошияаттолвгй сордиы рзренвор и сеудиы пнзшдор лроиы кьудиы тоу кангь якивниерта касещхик мленяиек пни яришетии псец иси однмусетии нмд р пороноваы и пнивофпзратгьы пноичрояиса те кетгхее рпецавсетие по чалсмуе довонмй жетис рльдищ пни ее вмцтолви и рлеуяахтещ лмноролви псьлда оширсьсалг рле босее и босее ричари те коуси ти та китмвм обнавивг та лебь ртикатие и яаше те лванасилг о вок рле бзсо чатьво унаюок и кангей якивниертощ таваха яенуаса ча нмдара и псавге рлеы пнилмвлврорархиы довонзе и беч воуо те лпмлдаси усач л ватжмйэиы и внебораса цвобз лковнеси та папетгдм унаю р пнокешмвдаы ватжа вьшесо пенерояис ямы каыас и дницас кмчздатвак цвоб оти иунаси лдонее лдонее лдонее и лдонее сихе сихе и сихе начренвзрасль унаю во та жзпоцдаы во та дабсмдаы тольлг роднму канги якивниертз и тадотеж порентмр лрой яакм д ее келвм ляесас полсеятее па поятьр лчаяи дреным лрой кьудмй тоум лдсотир рлповерхмй уосорм л мсзбайэикль сижок и однмусо начкаытмр пнарой нмдой лнеяи уноыова нмдопселдатищ и ыоыова олобетто тавахи оба ватжона олваторисилг вьшесо пенерояь языатие и мвинаьлг бавилворзки псавдаки'"
      ]
     },
     "execution_count": 186,
     "metadata": {},
     "output_type": "execute_result"
    }
   ],
   "source": [
    "text = '''\n",
    "Граф танцевал хорошо и знал это, но его дама вовсе не умела и не хотела хорошо танцевать. Ее огромное тело стояло прямо, с опущенными вниз мощными руками (она передала ридикюль графине); только одно строгое, но красивое лицо ее танцевало. Что выражалось во всей круглой фигуре графа, у Марьи Дмитриевны выражалось лишь в более и более улыбающемся лице и вздергивающемся носе. Но зато, ежели граф, все более и более расходясь, пленял зрителей неожиданностью ловких вывертов и легких прыжков своих мягких ног, Марья Дмитриевна малейшим усердием при движении плеч или округлении рук в поворотах и прито-пываньях производила не меньшее впечатление по заслуге, которую ценил всякий при ее тучности и всегдашней суровости. Пляска оживлялась все более и более. Визави не могли ни на минуту обратить на себя внимание и даже не старались о том. Все было занято графом и Марьею Дмитриевной. Наташа дергала за рукава и платье всех присутствовавших, которые и без того не спускали глаз с танцующих, и требовала, чтобы смотрели на папеньку. Граф в промежутках танца тяжело переводил дух, махал и кричал музыкантам, чтоб они играли скорее. Скорее, скорее и скорее, лише, лише и лише развертывался граф, то на цыпочках, то на каблуках носясь вокруг Марьи Дмитриевны, и, наконец, повернув свою даму к ее месту, сделал последнее па, подняв сзади кверху свою мягкую ногу, склонив вспотевшую голову с улыбающимся лицом и округло размахнув правою рукою среди грохота рукоплесканий и хохота, особенно Наташи. Оба танцора остановились, тяжело переводя дыхание и утираясь батистовыми платками.\n",
    "'''\n",
    "text = text.replace(',','').replace('.','').replace(')','').replace('(','').replace('\"', '').replace('\\n', '')\n",
    "ret = e.encrypt(text)\n",
    "print(text)\n",
    "super_decrypter(ret)"
   ]
  }
 ],
 "metadata": {
  "kernelspec": {
   "display_name": "Python 3",
   "language": "python",
   "name": "python3"
  },
  "language_info": {
   "codemirror_mode": {
    "name": "ipython",
    "version": 3
   },
   "file_extension": ".py",
   "mimetype": "text/x-python",
   "name": "python",
   "nbconvert_exporter": "python",
   "pygments_lexer": "ipython3",
   "version": "3.7.3"
  }
 },
 "nbformat": 4,
 "nbformat_minor": 2
}
