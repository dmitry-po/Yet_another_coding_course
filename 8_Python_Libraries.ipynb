{
 "cells": [
  {
   "cell_type": "markdown",
   "metadata": {},
   "source": [
    "# Основы программирования на Python"
   ]
  },
  {
   "cell_type": "markdown",
   "metadata": {},
   "source": [
    "## Часть 8. Библиотеки"
   ]
  },
  {
   "cell_type": "markdown",
   "metadata": {},
   "source": [
    "### Импорт библиотек"
   ]
  },
  {
   "cell_type": "markdown",
   "metadata": {},
   "source": [
    "#### Синтаксис"
   ]
  },
  {
   "cell_type": "markdown",
   "metadata": {},
   "source": [
    "Импорт библиотек (модулей) в Python выполняется командой import. Разрешаются следующие конструкции:"
   ]
  },
  {
   "cell_type": "markdown",
   "metadata": {},
   "source": [
    "1. Простой импорт библиотеки. После импорта библиоека становится частью текущего пространства имен (namespace) и может быть вызвана по названию модуля"
   ]
  },
  {
   "cell_type": "code",
   "execution_count": 1,
   "metadata": {},
   "outputs": [
    {
     "name": "stdout",
     "output_type": "stream",
     "text": [
      "math: <class 'module'>\n",
      "3.141592653589793\n"
     ]
    }
   ],
   "source": [
    "import math\n",
    "print('math: {}'.format(type(math)))\n",
    "print(math.pi)"
   ]
  },
  {
   "cell_type": "markdown",
   "metadata": {},
   "source": [
    "Иногда бывает удобно использовать сокращения для импортируемых библиотек (например, это могут быть общепринятые сокращения или просто удобство). Алиасы также могут использоваться в целях безопасности, так как при импорте создается (или перезаписывается) переменная в текущем прострастве имен с тем же именем (об этом чуть позже)."
   ]
  },
  {
   "cell_type": "code",
   "execution_count": 2,
   "metadata": {},
   "outputs": [
    {
     "name": "stdout",
     "output_type": "stream",
     "text": [
      "pd: <class 'module'>\n"
     ]
    }
   ],
   "source": [
    "import pandas as pd\n",
    "print('pd: {}'.format(type(pd)))"
   ]
  },
  {
   "cell_type": "markdown",
   "metadata": {},
   "source": [
    "2. Импортировать можно не только библиотеки целиком, но и отдельных их части:"
   ]
  },
  {
   "cell_type": "code",
   "execution_count": 3,
   "metadata": {},
   "outputs": [],
   "source": [
    "# Одну\n",
    "from datetime import datetime\n",
    "\n",
    "# Или несколько\n",
    "from os import path, defpath"
   ]
  },
  {
   "cell_type": "markdown",
   "metadata": {},
   "source": [
    "Из модуля можно импортировать все объекты, через *, но лучше этого не делать, так как в противном случае может выполняться подмена методов/переменных и нарушение работы системы."
   ]
  },
  {
   "cell_type": "markdown",
   "metadata": {},
   "source": [
    "При импорте отдельных элементов модуля (библиотеки) можно также использовать алиасы:"
   ]
  },
  {
   "cell_type": "code",
   "execution_count": 4,
   "metadata": {},
   "outputs": [],
   "source": [
    "from bs4 import BeautifulSoup as bs"
   ]
  },
  {
   "cell_type": "markdown",
   "metadata": {},
   "source": [
    "При импорте библиотек Python проверяет несколько источников:\n",
    "    1. sys.modules на случай, если данные библиотеки уже были загуружены и можно обратиться к кэшу;\n",
    "    2. Стандартная библиотека Python, которая содержит богатый список предустановленных библиотек;\n",
    "    3. sys.path, который включает, в первую очередь, текущую директорию, что позволяет импортировать собственные модули."
   ]
  },
  {
   "cell_type": "markdown",
   "metadata": {},
   "source": [
    "#### Правила"
   ]
  },
  {
   "cell_type": "markdown",
   "metadata": {},
   "source": [
    "При импорте библиотек стоит придерживаться ряда правил, которые могут сильно упростить, а иногда и обезопасить жизнь."
   ]
  },
  {
   "cell_type": "markdown",
   "metadata": {},
   "source": [
    "##### Стандартные рекомендации"
   ]
  },
  {
   "cell_type": "markdown",
   "metadata": {},
   "source": [
    "Руководство по написанию кода PEP8 предлагает придержиться следующих ключевых правил в части импорта библиотек:\n",
    "    1. Импорт всегда должен быть прописан в верхней части файла, сразу после документации по модулю;\n",
    "    2. Импорт должен быть визуально разделен на 3 раздела: \n",
    "    \t2.1. Стандартные (встроенные) библиотеки;\n",
    "        2.2. Сторонние библиотеки (которые установлены дополнительно и не относятся напрямую к текущему приложению);\n",
    "        2.2. Локальные библиотеки;\n",
    "    3. Каждый раздел должен быть отделен от соседнего одной пустой строкой.\n",
    "    \n",
    "Дополнительно можно рекомендовать поддерживать алфавитный порядок внутри кжадой группы."
   ]
  },
  {
   "cell_type": "markdown",
   "metadata": {},
   "source": [
    "##### Рекомендации безопасности "
   ]
  },
  {
   "cell_type": "markdown",
   "metadata": {},
   "source": [
    "Рассмотри пример:"
   ]
  },
  {
   "cell_type": "code",
   "execution_count": 2,
   "metadata": {},
   "outputs": [
    {
     "name": "stdout",
     "output_type": "stream",
     "text": [
      "Hello, world!\n"
     ]
    }
   ],
   "source": [
    "print('Hello, world!')"
   ]
  },
  {
   "cell_type": "code",
   "execution_count": 3,
   "metadata": {},
   "outputs": [
    {
     "data": {
      "text/plain": [
       "12"
      ]
     },
     "execution_count": 3,
     "metadata": {},
     "output_type": "execute_result"
    }
   ],
   "source": [
    "sum([2, 3, 7])"
   ]
  },
  {
   "cell_type": "code",
   "execution_count": 4,
   "metadata": {},
   "outputs": [],
   "source": [
    "# на всякий случай\n",
    "_tmp_print = print\n",
    "_tmp_sum = sum"
   ]
  },
  {
   "cell_type": "code",
   "execution_count": 5,
   "metadata": {},
   "outputs": [],
   "source": [
    "from evil import *"
   ]
  },
  {
   "cell_type": "code",
   "execution_count": 6,
   "metadata": {},
   "outputs": [
    {
     "name": "stdout",
     "output_type": "stream",
     "text": [
      "Бу-га-га! Функция печати сломана!"
     ]
    }
   ],
   "source": [
    "print('hey')"
   ]
  },
  {
   "cell_type": "code",
   "execution_count": 7,
   "metadata": {},
   "outputs": [
    {
     "name": "stdout",
     "output_type": "stream",
     "text": [
      "Бу-га-гашенька"
     ]
    },
    {
     "data": {
      "text/plain": [
       "13"
      ]
     },
     "execution_count": 7,
     "metadata": {},
     "output_type": "execute_result"
    }
   ],
   "source": [
    "sum([2, 3, 7])"
   ]
  },
  {
   "cell_type": "markdown",
   "metadata": {},
   "source": [
    "В данном примере продемонстрированы 2 вещи:\n",
    "    1. Импорт локальной (собственной) библиотеки. Сам импорт выполняется как обычно, но есть требования к файлу - он должен иметь расширение \".py\" и храниться в текущей папке (или подкаталогах) или по адресу настроенного окружения.\n",
    "    2. Подмена встроенных функций операцией импорта. Из-за того, что мы импортировали все элементы (*) библиотеки, мы пропустили тот момент, когда часть функций была переопределена функциями из этого модуля. "
   ]
  },
  {
   "cell_type": "code",
   "execution_count": 8,
   "metadata": {},
   "outputs": [],
   "source": [
    "# вернем всё на исходную\n",
    "print = _tmp_print\n",
    "sum = _tmp_sum"
   ]
  },
  {
   "cell_type": "markdown",
   "metadata": {},
   "source": [
    "Недостающие библиотеки можно устанавливать непосредственно в jupyter notebook с помощью команды pip."
   ]
  },
  {
   "cell_type": "code",
   "execution_count": 9,
   "metadata": {},
   "outputs": [
    {
     "name": "stdout",
     "output_type": "stream",
     "text": [
      "Requirement already satisfied: plotly in c:\\users\\podm\\appdata\\local\\continuum\\anaconda3\\lib\\site-packages (4.5.0)\n",
      "Requirement already satisfied: retrying>=1.3.3 in c:\\users\\podm\\appdata\\local\\continuum\\anaconda3\\lib\\site-packages (from plotly) (1.3.3)\n",
      "Requirement already satisfied: six in c:\\users\\podm\\appdata\\local\\continuum\\anaconda3\\lib\\site-packages (from plotly) (1.12.0)\n"
     ]
    }
   ],
   "source": [
    "!pip install plotly"
   ]
  },
  {
   "cell_type": "markdown",
   "metadata": {},
   "source": [
    "### Используемые источники"
   ]
  },
  {
   "cell_type": "markdown",
   "metadata": {},
   "source": [
    "1. <a href=\"https://realpython.com/absolute-vs-relative-python-imports/\">Absolute vs Relative Imports in Python</a>;"
   ]
  }
 ],
 "metadata": {
  "kernelspec": {
   "display_name": "Python 3",
   "language": "python",
   "name": "python3"
  },
  "language_info": {
   "codemirror_mode": {
    "name": "ipython",
    "version": 3
   },
   "file_extension": ".py",
   "mimetype": "text/x-python",
   "name": "python",
   "nbconvert_exporter": "python",
   "pygments_lexer": "ipython3",
   "version": "3.7.3"
  }
 },
 "nbformat": 4,
 "nbformat_minor": 2
}
