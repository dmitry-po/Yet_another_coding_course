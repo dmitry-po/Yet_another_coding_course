{
 "cells": [
  {
   "cell_type": "markdown",
   "metadata": {},
   "source": [
    "# Основы программирования на Python. "
   ]
  },
  {
   "cell_type": "markdown",
   "metadata": {},
   "source": [
    "## Часть 2: Простые типы данных"
   ]
  },
  {
   "cell_type": "markdown",
   "metadata": {},
   "source": [
    "### Объекты"
   ]
  },
  {
   "cell_type": "markdown",
   "metadata": {},
   "source": [
    "Стоит начать с того, что весь код в Python оперирует объектами, но не совсем теми, о которых говорится в ООП. Здесь речь идет о более низкоуровневых объектах: числах, строках, списках. Объекты в текущем понимании - это абстракция над данными, контейнер в памяти, содержащий данные.\n",
    "\n",
    "Каждый объект в Python имеет 3 характеристики:\n",
    "1. Идентификатор (id) - адрес объекта в памяти;\n",
    "2. Тип;\n",
    "3. Значение."
   ]
  },
  {
   "cell_type": "markdown",
   "metadata": {},
   "source": [
    "#### Идентификатор"
   ]
  },
  {
   "cell_type": "markdown",
   "metadata": {},
   "source": [
    "При создании новой переменной происходит выделение памяти, создание объекта и затем связывание переменной с объектом. Например, строка выполнение строки x=4 запускает цепочку операций по выделению памяти под число 4, создание объекта со ссылкой на идентификатор выделенной памяти, создание ссылки объекта x на объект 4."
   ]
  },
  {
   "cell_type": "code",
   "execution_count": 286,
   "metadata": {},
   "outputs": [
    {
     "data": {
      "text/plain": [
       "(140723684742048, 140723684742048, 140723684742048)"
      ]
     },
     "execution_count": 286,
     "metadata": {},
     "output_type": "execute_result"
    }
   ],
   "source": [
    "x = 4\n",
    "y = x\n",
    "id(x), id(4), id(y)"
   ]
  },
  {
   "cell_type": "markdown",
   "metadata": {},
   "source": [
    "В данном случае все элементы ссылаются на один и тот же участок памяти, выделенный под число 4."
   ]
  },
  {
   "cell_type": "markdown",
   "metadata": {},
   "source": [
    "Однако, это справедливо только для простых объектов (чисел), в случае со списками или большими числами под объекты выделяются разные ячейки памяти:"
   ]
  },
  {
   "cell_type": "code",
   "execution_count": 293,
   "metadata": {},
   "outputs": [
    {
     "data": {
      "text/plain": [
       "(2578144406192, 2578144421536)"
      ]
     },
     "execution_count": 293,
     "metadata": {},
     "output_type": "execute_result"
    }
   ],
   "source": [
    "id(3**10000), id(3**10000)"
   ]
  },
  {
   "cell_type": "code",
   "execution_count": 299,
   "metadata": {},
   "outputs": [
    {
     "data": {
      "text/plain": [
       "(2578185931848, 2578183205448)"
      ]
     },
     "execution_count": 299,
     "metadata": {},
     "output_type": "execute_result"
    }
   ],
   "source": [
    "x = [1,2,3]\n",
    "id(x), id([1,2,3])"
   ]
  },
  {
   "cell_type": "markdown",
   "metadata": {},
   "source": [
    "К подобной системе обращения с объектами нужно относиться с большим вниманием и осторожностью:"
   ]
  },
  {
   "cell_type": "code",
   "execution_count": 301,
   "metadata": {},
   "outputs": [
    {
     "data": {
      "text/plain": [
       "([1, 2, 3, 4], [1, 2, 3, 4])"
      ]
     },
     "execution_count": 301,
     "metadata": {},
     "output_type": "execute_result"
    }
   ],
   "source": [
    "x = [1,2,3]\n",
    "y = x\n",
    "x.append(4)\n",
    "x, y"
   ]
  },
  {
   "cell_type": "markdown",
   "metadata": {},
   "source": [
    "В примере выше мы сначала создали переменную y и сделали её равной x, а затем поменяли x, что привело к автоматическому изменению y. Произошло это потому, что фактически переменные ссылаются на один и тот же объект. По ссылке определяется, являются ли объекты разными или нет:"
   ]
  },
  {
   "cell_type": "code",
   "execution_count": 305,
   "metadata": {},
   "outputs": [
    {
     "data": {
      "text/plain": [
       "(2578186294408, 2578186294408)"
      ]
     },
     "execution_count": 305,
     "metadata": {},
     "output_type": "execute_result"
    }
   ],
   "source": [
    "id(x), id(y)"
   ]
  },
  {
   "cell_type": "code",
   "execution_count": 306,
   "metadata": {},
   "outputs": [
    {
     "data": {
      "text/plain": [
       "True"
      ]
     },
     "execution_count": 306,
     "metadata": {},
     "output_type": "execute_result"
    }
   ],
   "source": [
    "x is y"
   ]
  },
  {
   "cell_type": "markdown",
   "metadata": {},
   "source": [
    "Чтобы избежать подобных случаев необходимо либо инициировать объекты отдельно:"
   ]
  },
  {
   "cell_type": "code",
   "execution_count": 308,
   "metadata": {},
   "outputs": [
    {
     "data": {
      "text/plain": [
       "False"
      ]
     },
     "execution_count": 308,
     "metadata": {},
     "output_type": "execute_result"
    }
   ],
   "source": [
    "x = [1,2,3]\n",
    "y = [1,2,3]\n",
    "x is y"
   ]
  },
  {
   "cell_type": "markdown",
   "metadata": {},
   "source": [
    "Либо создавать копии, если в классе объекта прописан такой метод:"
   ]
  },
  {
   "cell_type": "code",
   "execution_count": 310,
   "metadata": {},
   "outputs": [
    {
     "data": {
      "text/plain": [
       "False"
      ]
     },
     "execution_count": 310,
     "metadata": {},
     "output_type": "execute_result"
    }
   ],
   "source": [
    "x = [1,2,3]\n",
    "y = x.copy()\n",
    "x is y"
   ]
  },
  {
   "cell_type": "markdown",
   "metadata": {},
   "source": [
    "---"
   ]
  },
  {
   "cell_type": "markdown",
   "metadata": {},
   "source": [
    "#### Типы данных"
   ]
  },
  {
   "cell_type": "markdown",
   "metadata": {},
   "source": [
    "Основные \"простые\" типы данных в Python - это: целое числа (int), дробные (float), строковые (str), логические или булевые (bool), пустые (NoneType). Они могут объединяться в \"составные\" типы: списки (list), словари (dict), кортежи (tuple), множества (set) и фиксированные множества (frozenset):"
   ]
  },
  {
   "cell_type": "code",
   "execution_count": 324,
   "metadata": {},
   "outputs": [
    {
     "name": "stdout",
     "output_type": "stream",
     "text": [
      "<class 'int'>\n",
      "<class 'float'>\n",
      "<class 'str'>\n",
      "<class 'bool'>\n",
      "<class 'NoneType'>\n",
      "<class 'list'>\n",
      "<class 'dict'>\n",
      "<class 'tuple'>\n",
      "<class 'set'>\n",
      "<class 'frozenset'>\n",
      "<class 'builtin_function_or_method'>\n"
     ]
    }
   ],
   "source": [
    "for i in [1, 2., 'три', False, None, [4, 'пять'], {6:'шесть'}, (7,8), set([9,10,11]), frozenset([12,13,14]), print]:\n",
    "    print(type(i))"
   ]
  },
  {
   "cell_type": "markdown",
   "metadata": {},
   "source": [
    "##### Целые числа"
   ]
  },
  {
   "cell_type": "markdown",
   "metadata": {},
   "source": [
    "Целым числом автоматически считает любое число, записанное без дробной части или типизированное в явном виде с помощью функции int():"
   ]
  },
  {
   "cell_type": "code",
   "execution_count": 86,
   "metadata": {},
   "outputs": [
    {
     "data": {
      "text/plain": [
       "(int, int, int, int)"
      ]
     },
     "execution_count": 86,
     "metadata": {},
     "output_type": "execute_result"
    }
   ],
   "source": [
    "type(1), type(int(99)), type(2+3), type(2*3)"
   ]
  },
  {
   "cell_type": "markdown",
   "metadata": {},
   "source": [
    "Над целыми числами можно выполнять классические математические операции: сложение, вычитание, умножение, деление, взятие с обратным знаком, модуль числа"
   ]
  },
  {
   "cell_type": "code",
   "execution_count": 76,
   "metadata": {},
   "outputs": [
    {
     "data": {
      "text/plain": [
       "(4, 7, 35, 8.333333333333334, -4, 4)"
      ]
     },
     "execution_count": 76,
     "metadata": {},
     "output_type": "execute_result"
    }
   ],
   "source": [
    "2 + 2, 10-3, 7*5, 25/3, -4, abs(-4)"
   ]
  },
  {
   "cell_type": "markdown",
   "metadata": {},
   "source": [
    "Возведение в степень осуществляется с помощью функции ** или pow(x,y):"
   ]
  },
  {
   "cell_type": "code",
   "execution_count": 77,
   "metadata": {},
   "outputs": [
    {
     "data": {
      "text/plain": [
       "(125, 125)"
      ]
     },
     "execution_count": 77,
     "metadata": {},
     "output_type": "execute_result"
    }
   ],
   "source": [
    "5**3, pow(5,3)"
   ]
  },
  {
   "cell_type": "markdown",
   "metadata": {},
   "source": [
    "Также в python встроены удобные операторы для целочисленного деления (//) и остатка от деления (%) или сразу оба (divmod):"
   ]
  },
  {
   "cell_type": "code",
   "execution_count": 79,
   "metadata": {},
   "outputs": [
    {
     "data": {
      "text/plain": [
       "(8, 2, (8, 2))"
      ]
     },
     "execution_count": 79,
     "metadata": {},
     "output_type": "execute_result"
    }
   ],
   "source": [
    "50//6, 50%6, divmod(50,6)"
   ]
  },
  {
   "cell_type": "markdown",
   "metadata": {},
   "source": [
    "##### Дробные числа"
   ]
  },
  {
   "cell_type": "markdown",
   "metadata": {},
   "source": [
    "Аналогично целым числам, дробные числа определяются как числа с дробной частью (при этом достаточно только .) или с помощью явного указания типа: "
   ]
  },
  {
   "cell_type": "code",
   "execution_count": 83,
   "metadata": {},
   "outputs": [
    {
     "data": {
      "text/plain": [
       "(float, float, float)"
      ]
     },
     "execution_count": 83,
     "metadata": {},
     "output_type": "execute_result"
    }
   ],
   "source": [
    "type(3.5), type(3.), type(float(3))"
   ]
  },
  {
   "cell_type": "markdown",
   "metadata": {},
   "source": [
    "Над дробными числами действуют те же операции, что и над целочисленными. Также можно складывать (умножать, делить, ...) целые и дробные числа, но нужно помнить, что в этом случае результат будет автоматически считаться дробным:"
   ]
  },
  {
   "cell_type": "code",
   "execution_count": 97,
   "metadata": {},
   "outputs": [
    {
     "data": {
      "text/plain": [
       "((5.0, float), (5.0, float), (6.0, float), (8.0, float))"
      ]
     },
     "execution_count": 97,
     "metadata": {},
     "output_type": "execute_result"
    }
   ],
   "source": [
    "(2.7+2.3, type(2.7+2.3)), (2+3., type(2+3.)), (2*3., type(2*3.)), (2**3., type(2**3.))"
   ]
  },
  {
   "cell_type": "markdown",
   "metadata": {},
   "source": [
    "Дополнительно следует помнить, что что при делении тип результата также будет автоматически преобразован к дробному (даже если результат деления - целое число):"
   ]
  },
  {
   "cell_type": "code",
   "execution_count": 99,
   "metadata": {},
   "outputs": [
    {
     "data": {
      "text/plain": [
       "((2.0, float), (8, int))"
      ]
     },
     "execution_count": 99,
     "metadata": {},
     "output_type": "execute_result"
    }
   ],
   "source": [
    "(4/2, type(4/2)), (4*2, type(4*2))"
   ]
  },
  {
   "cell_type": "markdown",
   "metadata": {},
   "source": [
    "Дробное число может быть преобразовано в целочисленное с помощью функции int(): при этом от числа будет просто откинута дробная часть (число не округляется):"
   ]
  },
  {
   "cell_type": "code",
   "execution_count": 104,
   "metadata": {},
   "outputs": [
    {
     "data": {
      "text/plain": [
       "(3, 3, 3, 3)"
      ]
     },
     "execution_count": 104,
     "metadata": {},
     "output_type": "execute_result"
    }
   ],
   "source": [
    "int(3.), int(3.1), int(3.5), int(3.9999999)"
   ]
  },
  {
   "cell_type": "markdown",
   "metadata": {},
   "source": [
    "Для более стандартного округления дробного числа существует функция round(x, n). Она принимает в качестве аргументов саму переменную (x) и знак, до которого требуется округлить (n). По умолчанию n = 0:"
   ]
  },
  {
   "cell_type": "code",
   "execution_count": 111,
   "metadata": {},
   "outputs": [
    {
     "data": {
      "text/plain": [
       "(3, 3, 4, 4, 3.123)"
      ]
     },
     "execution_count": 111,
     "metadata": {},
     "output_type": "execute_result"
    }
   ],
   "source": [
    "round(3.), round(3.1), round(3.5), round(3.9999999), round(3.123456, 3)"
   ]
  },
  {
   "cell_type": "markdown",
   "metadata": {},
   "source": [
    "Однако, по необъяснимым причинам, в функции round заложено так называемое \"бухгалтерское\" округление - округление до ближайшего четного:"
   ]
  },
  {
   "cell_type": "code",
   "execution_count": 120,
   "metadata": {},
   "outputs": [
    {
     "data": {
      "text/plain": [
       "(2, 2, 4, 4)"
      ]
     },
     "execution_count": 120,
     "metadata": {},
     "output_type": "execute_result"
    }
   ],
   "source": [
    "round(1.5), round(2.5), round(3.5), round(4.5)"
   ]
  },
  {
   "cell_type": "markdown",
   "metadata": {},
   "source": [
    "В качестве обходного решения, может использоваться функция int() с добавлением дробной части:"
   ]
  },
  {
   "cell_type": "code",
   "execution_count": 124,
   "metadata": {},
   "outputs": [
    {
     "data": {
      "text/plain": [
       "(2, 3, 4, 5)"
      ]
     },
     "execution_count": 124,
     "metadata": {},
     "output_type": "execute_result"
    }
   ],
   "source": [
    "int(1.5+0.5), int(2.5+0.5), int(3.5+0.5), int(4.5+0.5)"
   ]
  },
  {
   "cell_type": "markdown",
   "metadata": {},
   "source": [
    "Также при работе с дробными числами следует учитывать, что они могут быть не точны из-за особенности хранения чисел:"
   ]
  },
  {
   "cell_type": "code",
   "execution_count": 127,
   "metadata": {},
   "outputs": [
    {
     "data": {
      "text/plain": [
       "0.30000000000000004"
      ]
     },
     "execution_count": 127,
     "metadata": {},
     "output_type": "execute_result"
    }
   ],
   "source": [
    "0.1+0.1+0.1"
   ]
  },
  {
   "cell_type": "markdown",
   "metadata": {},
   "source": [
    "##### Строки"
   ]
  },
  {
   "cell_type": "markdown",
   "metadata": {},
   "source": [
    "Строки задаются в виде набора символов, заключенных в кавычках (одинарных или двойных):"
   ]
  },
  {
   "cell_type": "code",
   "execution_count": 134,
   "metadata": {},
   "outputs": [
    {
     "data": {
      "text/plain": [
       "(('Текст в одинарных кавычках', str), ('Текст в двойных кавычках', str))"
      ]
     },
     "execution_count": 134,
     "metadata": {},
     "output_type": "execute_result"
    }
   ],
   "source": [
    "('Текст в одинарных кавычках', type('Текст в одинарных кавычках')), \\\n",
    "(\"Текст в двойных кавычках\", type(\"Текст в двойных кавычках\"))"
   ]
  },
  {
   "cell_type": "markdown",
   "metadata": {},
   "source": [
    "Также для объявления строковых переменных большой длины могут использоваться 3 одинарные кавычки. Это часто используется в случаях, когда текст необходимо расположить в несколько строк:"
   ]
  },
  {
   "cell_type": "code",
   "execution_count": 142,
   "metadata": {},
   "outputs": [
    {
     "name": "stdout",
     "output_type": "stream",
     "text": [
      "Текст \n",
      "в \n",
      "тройных \n",
      "кавычках\n"
     ]
    }
   ],
   "source": [
    "print('''Текст \n",
    "в \n",
    "тройных \n",
    "кавычках''')"
   ]
  },
  {
   "cell_type": "markdown",
   "metadata": {},
   "source": [
    "Того же самого эффекта можно достичь с применением строкового литерала \\n:"
   ]
  },
  {
   "cell_type": "code",
   "execution_count": 144,
   "metadata": {},
   "outputs": [
    {
     "name": "stdout",
     "output_type": "stream",
     "text": [
      "Текст \n",
      "в \n",
      "тройных \n",
      "кавычках\n"
     ]
    }
   ],
   "source": [
    "print('Текст \\nв \\nтройных \\nкавычках')"
   ]
  },
  {
   "cell_type": "markdown",
   "metadata": {},
   "source": [
    "В таком виде текст менее читаем в коде, но именно так он хранится в плоских файлах. Кроме того, строковые литералы могут быть удобны в тех случаях, когда нужно собрать итоговую строку в несколько этапов, при этом сохранив читаемость вывода:"
   ]
  },
  {
   "cell_type": "code",
   "execution_count": 168,
   "metadata": {},
   "outputs": [
    {
     "name": "stdout",
     "output_type": "stream",
     "text": [
      "Выполняем базовые операции над числами 3 и 5.\n",
      "Сложение:\t8\n",
      "Вычитание:\t-2\n",
      "Умножение:\t15\n"
     ]
    }
   ],
   "source": [
    "def foo(a, b):\n",
    "    some_string=f'Выполняем базовые операции над числами {a} и {b}.\\n'\n",
    "    some_string+='Сложение:\\t'\n",
    "    some_string+=str(a+b)\n",
    "    some_string+='\\n'\n",
    "    some_string+='Вычитание:\\t'\n",
    "    some_string+=str(a-b)\n",
    "    some_string+='\\n'\n",
    "    some_string+='Умножение:\\t'\n",
    "    some_string+=str(a*b)\n",
    "    \n",
    "    return some_string\n",
    "    \n",
    "s = foo(3,5)\n",
    "print(s)"
   ]
  },
  {
   "cell_type": "markdown",
   "metadata": {},
   "source": [
    "Следует обратить внимание, что функция print умеет корректно обрабатывать строковые литералы и отображать текст в удобном виде. Если отобразить саму переменную, которую вернула функция, то она будет чуть менее читаема:"
   ]
  },
  {
   "cell_type": "code",
   "execution_count": 169,
   "metadata": {},
   "outputs": [
    {
     "data": {
      "text/plain": [
       "'Выполняем базовые операции над числами 3 и 5.\\nСложение:\\t8\\nВычитание:\\t-2\\nУмножение:\\t15'"
      ]
     },
     "execution_count": 169,
     "metadata": {},
     "output_type": "execute_result"
    }
   ],
   "source": [
    "s"
   ]
  },
  {
   "cell_type": "markdown",
   "metadata": {},
   "source": [
    "В примере выше использован литерал отступа \\t."
   ]
  },
  {
   "cell_type": "markdown",
   "metadata": {},
   "source": [
    "Над функциями удобно выполнять ряд операций:"
   ]
  },
  {
   "cell_type": "code",
   "execution_count": 203,
   "metadata": {},
   "outputs": [
    {
     "name": "stdout",
     "output_type": "stream",
     "text": [
      "Какая-тострока\n",
      "тексттексттексттексттексттексттексттексттексттекст\n",
      "['Текст', 'без', 'пробелов']\n",
      "Текст без лишних пробелов в начале и конце\n",
      "Текст без лишних точек в начале и конце\n",
      "6\n",
      "11\n",
      "Заменим дело на дело\n",
      "КТО ТАК ПИШЕТ\n",
      "кто так пишет\n",
      "0019\n"
     ]
    }
   ],
   "source": [
    "# Сложение строк (конкатенация):\n",
    "print('Какая-то'+'строка')\n",
    "\n",
    "# Дублирование:\n",
    "print('текст'*10)\n",
    "\n",
    "# Разбиение строки по символу:\n",
    "print('Текст без пробелов'.split(' '))\n",
    "\n",
    "# \"Очистка\" текста от лишних символов (может быть полезно при импорте текста из документа):\n",
    "print('   Текст без лишних пробелов в начале и конце   '.strip())\n",
    "print('...Текст без лишних точек в начале и конце...'.strip('.'))\n",
    "\n",
    "# Поиск первого вхождения символа в строке:\n",
    "print('Ищем букву у'.find('у'))\n",
    "\n",
    "# Аналогично для последнего вхождения:\n",
    "print('Ищем букву у'.rfind('у'))\n",
    "\n",
    "# Замена текста по шаблону:\n",
    "print('Заменим слово на дело'.replace('слово', 'дело'))\n",
    "\n",
    "# Преобразование всех символов в строчные и прописные:\n",
    "print('КтО ТаК ПиШеТ'.upper())\n",
    "print('КтО ТаК ПиШеТ'.lower())\n",
    "\n",
    "# Заполнение строки лидирующими нулями до заданной длины:\n",
    "print('19'.zfill(4))"
   ]
  },
  {
   "cell_type": "markdown",
   "metadata": {},
   "source": [
    "Это лишь наиболее часто используемые методов, полный список можно поискать самостоятельно по мере необходимости."
   ]
  },
  {
   "cell_type": "markdown",
   "metadata": {},
   "source": [
    "##### Логический"
   ]
  },
  {
   "cell_type": "markdown",
   "metadata": {},
   "source": [
    "Логические переменные могут принимать только 2 значения: False (ложь, 0) или True (правда, 1)"
   ]
  },
  {
   "cell_type": "code",
   "execution_count": 325,
   "metadata": {},
   "outputs": [
    {
     "data": {
      "text/plain": [
       "(True, bool)"
      ]
     },
     "execution_count": 325,
     "metadata": {},
     "output_type": "execute_result"
    }
   ],
   "source": [
    "b = True\n",
    "b, type(b)"
   ]
  },
  {
   "cell_type": "markdown",
   "metadata": {},
   "source": [
    "Для работы над булевыми переменными используются, как правило, логические операции:"
   ]
  },
  {
   "cell_type": "code",
   "execution_count": 344,
   "metadata": {},
   "outputs": [
    {
     "name": "stdout",
     "output_type": "stream",
     "text": [
      "True True False\n",
      "True False False\n",
      "False True False\n",
      "False True\n"
     ]
    }
   ],
   "source": [
    "# Логическое или:\n",
    "print(True | True, True|False, False|False)\n",
    "\n",
    "# Логическое и:\n",
    "print(True & True, True & False, False & False)\n",
    "\n",
    "# Исключающее или:\n",
    "print(True ^ True, True ^ False, False ^ False)\n",
    "\n",
    "# Инверсия:\n",
    "print(not True, not False)"
   ]
  },
  {
   "cell_type": "markdown",
   "metadata": {},
   "source": [
    "Однако, над ними также действует логика арифметических операций (при этом происходит подмена bool на int):"
   ]
  },
  {
   "cell_type": "code",
   "execution_count": 348,
   "metadata": {},
   "outputs": [
    {
     "data": {
      "text/plain": [
       "(2, 1, 0, int)"
      ]
     },
     "execution_count": 348,
     "metadata": {},
     "output_type": "execute_result"
    }
   ],
   "source": [
    "True + True, True + False, True * False, type(True + True)"
   ]
  },
  {
   "cell_type": "markdown",
   "metadata": {},
   "source": [
    "Этот принцип позволяет производить операцию над числами и логическими переменными одновременно:"
   ]
  },
  {
   "cell_type": "code",
   "execution_count": 349,
   "metadata": {},
   "outputs": [
    {
     "data": {
      "text/plain": [
       "(0, 11)"
      ]
     },
     "execution_count": 349,
     "metadata": {},
     "output_type": "execute_result"
    }
   ],
   "source": [
    "17*False, 7 + True + 3*True"
   ]
  },
  {
   "cell_type": "markdown",
   "metadata": {},
   "source": [
    "##### Пустой"
   ]
  },
  {
   "cell_type": "markdown",
   "metadata": {},
   "source": [
    "Пустой тип данных обычно используется для проверки наличия объекта:"
   ]
  },
  {
   "cell_type": "code",
   "execution_count": 357,
   "metadata": {},
   "outputs": [
    {
     "data": {
      "text/plain": [
       "(False, False, False, False, True)"
      ]
     },
     "execution_count": 357,
     "metadata": {},
     "output_type": "execute_result"
    }
   ],
   "source": [
    "5 is None, 3.4 is None, 'Текст' is None, 0 is None, None is None"
   ]
  },
  {
   "cell_type": "markdown",
   "metadata": {},
   "source": [
    "При этом следует учитывать, что не все пустые объекты фактически воспринимаются таковыми:"
   ]
  },
  {
   "cell_type": "code",
   "execution_count": 358,
   "metadata": {},
   "outputs": [
    {
     "data": {
      "text/plain": [
       "(False, False)"
      ]
     },
     "execution_count": 358,
     "metadata": {},
     "output_type": "execute_result"
    }
   ],
   "source": [
    "'' is None, [] is None"
   ]
  },
  {
   "cell_type": "markdown",
   "metadata": {},
   "source": [
    "---"
   ]
  },
  {
   "cell_type": "markdown",
   "metadata": {},
   "source": [
    "#### Значения"
   ]
  },
  {
   "cell_type": "markdown",
   "metadata": {},
   "source": [
    "Про значения объектов следует знать то, что все объекты делятся на 2 типа:\n",
    "1. Неизменяемые (int, float, string, bool, NoneType, tuple, frozen set);\n",
    "2. Изменяемые (list, dict, set)"
   ]
  },
  {
   "cell_type": "code",
   "execution_count": 312,
   "metadata": {},
   "outputs": [
    {
     "name": "stdout",
     "output_type": "stream",
     "text": [
      "140723684742080\n",
      "140723684742240\n"
     ]
    }
   ],
   "source": [
    "x = 5\n",
    "print(id(x))\n",
    "x = x + 5\n",
    "print(id(x))"
   ]
  },
  {
   "cell_type": "markdown",
   "metadata": {},
   "source": [
    "Целое число (int) относится к неизменяемым типам, поэтому операция сложения придет к созданию нового объекта."
   ]
  },
  {
   "cell_type": "code",
   "execution_count": 317,
   "metadata": {},
   "outputs": [
    {
     "name": "stdout",
     "output_type": "stream",
     "text": [
      "2578186013448\n",
      "2578186013448\n",
      "2578186013448\n"
     ]
    }
   ],
   "source": [
    "x = [1,2]\n",
    "print(id(x))\n",
    "x.append(3)\n",
    "print(id(x))\n",
    "x[1]=9\n",
    "print(id(x))"
   ]
  },
  {
   "cell_type": "markdown",
   "metadata": {},
   "source": [
    "Списки (list), в свою очередь, относятся к изменяемым типам и операции (не все) над ними не приводят к изменению идентификатора."
   ]
  },
  {
   "cell_type": "markdown",
   "metadata": {},
   "source": [
    "---"
   ]
  },
  {
   "cell_type": "markdown",
   "metadata": {},
   "source": [
    "### Задание 1."
   ]
  },
  {
   "cell_type": "markdown",
   "metadata": {},
   "source": [
    "Реализовать функцию, которая принимает на вход число и проверяет, является ли оно целым."
   ]
  },
  {
   "cell_type": "code",
   "execution_count": null,
   "metadata": {},
   "outputs": [],
   "source": [
    "# Шаблон\n",
    "def is_int(num):\n",
    "    # \n",
    "    # Место для кода\n",
    "    #\n",
    "    return ret"
   ]
  },
  {
   "cell_type": "code",
   "execution_count": 409,
   "metadata": {},
   "outputs": [],
   "source": [
    "# Вариант решения\n",
    "def is_int(num):\n",
    "    ret = type(num) == int\n",
    "    return ret"
   ]
  },
  {
   "cell_type": "code",
   "execution_count": 413,
   "metadata": {},
   "outputs": [
    {
     "data": {
      "text/plain": [
       "(True, True, True, False, False, False)"
      ]
     },
     "execution_count": 413,
     "metadata": {},
     "output_type": "execute_result"
    }
   ],
   "source": [
    "is_int(9), is_int(11), is_int(0), is_int(2.2), is_int('не число'), is_int(None)"
   ]
  },
  {
   "cell_type": "markdown",
   "metadata": {},
   "source": [
    "### Задание 1.2."
   ]
  },
  {
   "cell_type": "markdown",
   "metadata": {},
   "source": [
    "Добавим в функцию ещё один параметр: тип. Функция должна проверять, совпадает ли тип переданного объекта с заданным.\n",
    "Функция из 1 задания - это частный случай, когда тип = int."
   ]
  },
  {
   "cell_type": "code",
   "execution_count": 419,
   "metadata": {},
   "outputs": [],
   "source": [
    "# Вариант решения\n",
    "def check_type(x, as_type):\n",
    "    ret = type(x) == as_type\n",
    "    return  ret"
   ]
  },
  {
   "cell_type": "code",
   "execution_count": 421,
   "metadata": {},
   "outputs": [
    {
     "data": {
      "text/plain": [
       "(True, False, True, True)"
      ]
     },
     "execution_count": 421,
     "metadata": {},
     "output_type": "execute_result"
    }
   ],
   "source": [
    "check_type(9, int), check_type(2.2, int), check_type(2.2, float), check_type('слово', str)"
   ]
  },
  {
   "cell_type": "markdown",
   "metadata": {},
   "source": [
    "С учетом новой функции, мы можем переопределить функцию is_int как функцию check_type с заданным параметром"
   ]
  },
  {
   "cell_type": "code",
   "execution_count": 423,
   "metadata": {},
   "outputs": [],
   "source": [
    "def is_int(num):\n",
    "    return check_type(num, int)"
   ]
  },
  {
   "cell_type": "code",
   "execution_count": 424,
   "metadata": {},
   "outputs": [
    {
     "data": {
      "text/plain": [
       "(True, True, True, False, False, False)"
      ]
     },
     "execution_count": 424,
     "metadata": {},
     "output_type": "execute_result"
    }
   ],
   "source": [
    "is_int(9), is_int(11), is_int(0), is_int(2.2), is_int('не число'), is_int(None)"
   ]
  },
  {
   "cell_type": "markdown",
   "metadata": {},
   "source": [
    "### Задание 2."
   ]
  },
  {
   "cell_type": "markdown",
   "metadata": {},
   "source": [
    "Реализовать функцию, которая принимает на вход число и определяет, является ли оно четным. Если да - возвращает 1, если нет - 0."
   ]
  },
  {
   "cell_type": "code",
   "execution_count": 463,
   "metadata": {},
   "outputs": [],
   "source": [
    "# Вариант решения\n",
    "def is_even(number):\n",
    "    ret = number%2 == 0\n",
    "    return ret*1 "
   ]
  },
  {
   "cell_type": "code",
   "execution_count": 464,
   "metadata": {},
   "outputs": [
    {
     "data": {
      "text/plain": [
       "(0, 1, 0, 1)"
      ]
     },
     "execution_count": 464,
     "metadata": {},
     "output_type": "execute_result"
    }
   ],
   "source": [
    "is_even(1), is_even(2), is_even(3), is_even(4)"
   ]
  },
  {
   "cell_type": "code",
   "execution_count": 465,
   "metadata": {},
   "outputs": [
    {
     "ename": "TypeError",
     "evalue": "not all arguments converted during string formatting",
     "output_type": "error",
     "traceback": [
      "\u001b[1;31m---------------------------------------------------------------------------\u001b[0m",
      "\u001b[1;31mTypeError\u001b[0m                                 Traceback (most recent call last)",
      "\u001b[1;32m<ipython-input-465-0e68e3fc1ebe>\u001b[0m in \u001b[0;36m<module>\u001b[1;34m\u001b[0m\n\u001b[1;32m----> 1\u001b[1;33m \u001b[0mis_even\u001b[0m\u001b[1;33m(\u001b[0m\u001b[1;36m0\u001b[0m\u001b[1;33m)\u001b[0m\u001b[1;33m,\u001b[0m \u001b[0mis_even\u001b[0m\u001b[1;33m(\u001b[0m\u001b[1;36m2.3\u001b[0m\u001b[1;33m)\u001b[0m\u001b[1;33m,\u001b[0m \u001b[0mis_even\u001b[0m\u001b[1;33m(\u001b[0m\u001b[1;34m'слово'\u001b[0m\u001b[1;33m)\u001b[0m\u001b[1;33m\u001b[0m\u001b[1;33m\u001b[0m\u001b[0m\n\u001b[0m",
      "\u001b[1;32m<ipython-input-463-ea85b986a16a>\u001b[0m in \u001b[0;36mis_even\u001b[1;34m(number)\u001b[0m\n\u001b[0;32m      1\u001b[0m \u001b[1;31m# Вариант рашения\u001b[0m\u001b[1;33m\u001b[0m\u001b[1;33m\u001b[0m\u001b[1;33m\u001b[0m\u001b[0m\n\u001b[0;32m      2\u001b[0m \u001b[1;32mdef\u001b[0m \u001b[0mis_even\u001b[0m\u001b[1;33m(\u001b[0m\u001b[0mnumber\u001b[0m\u001b[1;33m)\u001b[0m\u001b[1;33m:\u001b[0m\u001b[1;33m\u001b[0m\u001b[1;33m\u001b[0m\u001b[0m\n\u001b[1;32m----> 3\u001b[1;33m     \u001b[0mret\u001b[0m \u001b[1;33m=\u001b[0m \u001b[0mnumber\u001b[0m\u001b[1;33m%\u001b[0m\u001b[1;36m2\u001b[0m \u001b[1;33m==\u001b[0m \u001b[1;36m0\u001b[0m\u001b[1;33m\u001b[0m\u001b[1;33m\u001b[0m\u001b[0m\n\u001b[0m\u001b[0;32m      4\u001b[0m     \u001b[1;32mreturn\u001b[0m \u001b[0mret\u001b[0m\u001b[1;33m*\u001b[0m\u001b[1;36m1\u001b[0m\u001b[1;33m\u001b[0m\u001b[1;33m\u001b[0m\u001b[0m\n",
      "\u001b[1;31mTypeError\u001b[0m: not all arguments converted during string formatting"
     ]
    }
   ],
   "source": [
    "is_even(0), is_even(2.3), is_even('слово')"
   ]
  },
  {
   "cell_type": "markdown",
   "metadata": {},
   "source": [
    "### Задание 2.2. "
   ]
  },
  {
   "cell_type": "markdown",
   "metadata": {},
   "source": [
    "Четность - характеристика целого числа, но функция этот никак не учитывает. Добавить проверку, что число является четным. Если нет - возвращать -1."
   ]
  },
  {
   "cell_type": "code",
   "execution_count": 466,
   "metadata": {},
   "outputs": [],
   "source": [
    "# Вариант решения\n",
    "def is_even(number):\n",
    "    if is_int(number):\n",
    "        ret = number%2 == 0\n",
    "    else:\n",
    "        ret = -1\n",
    "    return ret*1 "
   ]
  },
  {
   "cell_type": "code",
   "execution_count": 467,
   "metadata": {},
   "outputs": [
    {
     "data": {
      "text/plain": [
       "(0, 1, 0, 1, 1, -1, -1)"
      ]
     },
     "execution_count": 467,
     "metadata": {},
     "output_type": "execute_result"
    }
   ],
   "source": [
    "is_even(1), is_even(2), is_even(3), is_even(4), is_even(0), is_even(2.3), is_even('слово')"
   ]
  }
 ],
 "metadata": {
  "kernelspec": {
   "display_name": "Python 3",
   "language": "python",
   "name": "python3"
  },
  "language_info": {
   "codemirror_mode": {
    "name": "ipython",
    "version": 3
   },
   "file_extension": ".py",
   "mimetype": "text/x-python",
   "name": "python",
   "nbconvert_exporter": "python",
   "pygments_lexer": "ipython3",
   "version": "3.7.3"
  }
 },
 "nbformat": 4,
 "nbformat_minor": 2
}
